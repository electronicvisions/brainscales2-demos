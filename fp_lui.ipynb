{
 "cells": [
  {
   "cell_type": "markdown",
   "id": "66e88d2e",
   "metadata": {},
   "source": [
    "# Lu.i experiment\n",
    "\n",
    "To get accustomed to the concept of neuromorphic computation, you will work with *Lu.i*.\n",
    "Lu.i is an electronic neuron circuit mimicking and illustrating the basic dynamics of real, biological neurons.\n",
    "The printed circuit board (PCB) features a configurable, fully analog implementation of the leaky integrate-and-fire model and visualizes the internal state, the membrane potential, through a VU-meter-style chain of LEDs.\n",
    "The neuron emits a short pulse whenever the membrane potential crosses a predefined threshold voltage.\n",
    "Neurons communicate by exchanging these spikes because multiple boards can be connected via jumper wires to form networks.\n",
    "\n",
    "<img src=\"_static/common/lui-with-coin_lq_cropped.jpeg\" style=\"width:50%;\" align=\"center\">\n",
    "\n",
    "You may find additional information including schematics on the project’s homepage, [giantaxon.org](http://giantaxon.org)."
   ]
  },
  {
   "cell_type": "markdown",
   "id": "61c6464b",
   "metadata": {},
   "source": [
    "## Exercises"
   ]
  },
  {
   "cell_type": "markdown",
   "id": "94e2ff49",
   "metadata": {},
   "source": [
    "### Getting familiar with Lu.i’s parameters\n",
    "\n",
    "Before you begin, connect Lu.i’s membrane to the oscilloscope.\n",
    "\n",
    "- Familiarize yourself with the parameters of the neuron emulation.\n",
    "  What happens if you increase the leak potential?\n",
    "  Can you observe the membrane time constant?\n",
    "  Note the impact of the individual potentiometers.  \n",
    "- Connect two or multiple neurons to form a simple network and note how signals propagate across neurons, e.g., while playing with the synaptic weights and the synaptic time constant.  \n",
    "- Pick a configuration where you can approximately measure $ \\tau_\\text{ref} $ and the threshold $ \\vartheta $.\n",
    "  Take notes of your results and your methods of determining the individual parameters.  \n",
    "\n",
    "\n",
    ">**Note**\n",
    ">\n",
    ">Keep the setting for the membrane time constant $ \\tau_\\text{mem} $ fixed for the following task."
   ]
  },
  {
   "cell_type": "markdown",
   "id": "b6cae796",
   "metadata": {},
   "source": [
    "### Measuring of an f-I curve\n",
    "\n",
    "Next, you will record your first f-I curve, i.e., the dependence of a neuron’s firing rate on its stimulating current.\n",
    "For this purpose, you will rely on a voltage-controlled current source.\n",
    "\n",
    "<img src=\"_static/fp/lui_current_source.png\" style=\"width:45%;\" align=\"center\">\n",
    "\n",
    "The output current of this circuit is governed by the following equation:\n",
    "\n",
    "$$\n",
    "I(U) = \\frac{V_\\text{CC}-U}{R_\\text{sense}}\n",
    "$$\n",
    "\n",
    "In the present case, $ R_\\text{sense} $ is 10 kΩ.\n",
    "\n",
    "Make sure that Lu.i’s membrane is connected to both the oscilloscope and the current source.\n",
    "A second set of cables allows you to read out the voltage at the lower node of $ R_\\text{sense} $ at the same time such that you can calculate the voltage drop across the resistor and thus the current.\n",
    "\n",
    "- Now measure about 20 firing frequencies as a function of the voltage drop in a range from $ 1.75V $ to $ 5V $ (here referring to the absolute potential).  \n",
    "- Plot your results.  \n",
    "- Derive an equation for $ f_\\text{theo}(\\vartheta, \\tau_m, R, I) $.\n",
    "  You might need to define your integration limits.\n",
    "  (Hint 1: Consult equation [(2)](fp_biological-background.ipynb#equation-eq-lif) as a starting point;\n",
    "  hint 2: You’ll find $ R\\cdot I > \\vartheta $ as a condition)  \n",
    "- Fit the function to your measurements.  "
   ]
  }
 ],
 "metadata": {
  "date": 1740990467.7627192,
  "filename": "fp_lui.rst",
  "kernelspec": {
   "display_name": "EBRAINS-experimental",
   "language": "python",
   "name": "ebrains-experimental"
  },
  "title": "Lu.i experiment"
 },
 "nbformat": 4,
 "nbformat_minor": 5
}