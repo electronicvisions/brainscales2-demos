{
 "cells": [
  {
   "cell_type": "markdown",
   "id": "af94b177",
   "metadata": {},
   "source": [
    "# Demonstration of inside realtime hook\n",
    "\n",
    "This modification of the [plasticity experiment](ts_02-plasticity_rate_coding.ipynb) showcases a use\n",
    "of the AbsoluteTimePlaybackProgramBuilder (ATPPB) in constructing an experiment as an experienced\n",
    "user of BrainScaleS-2. The ATPPB is a tool for queueing command sequences, which are to be executed\n",
    "in the experiment. It distinguishes itself from the PlaybackProgramBuilder (PPB), a lower level\n",
    "command scheduler, through maintaining an absolute time order over all listed commands. This allows\n",
    "identifying each command with a certain point in time, which is required for mergeing two separate\n",
    "command-queues of an AbsoluteTimePlaybackProgramBuilder.\n",
    "This enables a user to add arbitrary commands, e.g. commands for changing some synaptic weights, to\n",
    "the output of the automatic spike generator and merge them to one singular command queue, which\n",
    "then can be executed as the “inside realtime section”, i.e. the main part of the experiment."
   ]
  },
  {
   "cell_type": "code",
   "execution_count": null,
   "id": "65ff739f",
   "metadata": {
    "hide-output": false
   },
   "outputs": [],
   "source": [
    "%matplotlib inline\n",
    "from os.path import join\n",
    "import numpy as np\n",
    "import matplotlib.pyplot as plt\n",
    "\n",
    "import pynn_brainscales.brainscales2 as pynn\n",
    "from dlens_vx_v3 import hal, lola, halco, sta\n",
    "\n",
    "# setup shared connection to hardware\n",
    "from _static.common.helpers import setup_hardware_client\n",
    "setup_hardware_client()"
   ]
  },
  {
   "cell_type": "markdown",
   "id": "42e70ee8",
   "metadata": {},
   "source": [
    "## The Experiment\n",
    "\n",
    "The goal of this experiment is to take a picture as an input, adjust the weights of some specific\n",
    "synapses to match the pixel values, and send spike-trains through these synapses, so that the\n",
    "according neurons can detect these pixel values again and we can use the measured data in the end,\n",
    "to recreate the image.\n",
    "For this example, we used the 64 x 64 Pixel “visions.png” image:\n",
    "\n",
    "<img src=\"_static/tutorial/visions.png\" style=\"width:30%;\" align=\"center\">\n",
    "\n",
    "Therefore we read in the pixel values of the image as the first step of our program:"
   ]
  },
  {
   "cell_type": "code",
   "execution_count": null,
   "id": "758f59a1",
   "metadata": {
    "hide-output": false
   },
   "outputs": [],
   "source": [
    "def read_image(path: str) -> np.array:\n",
    "    \"\"\"\n",
    "    Read image from file and scale it to the weight range.\n",
    "    :param path: Path to image file\n",
    "    :return: Image data as numpy array normalised to hardware weight range\n",
    "    \"\"\"\n",
    "    image = np.asarray(plt.imread(path))\n",
    "    # Scale to weight range [0, 63]\n",
    "    image = image / image.max() * hal.SynapseWeightQuad.Value.max\n",
    "    return image\n",
    "\n",
    "# Read image into 2d numpy array\n",
    "image = read_image(join(\"_static\", \"tutorial\", \"visions.png\"))"
   ]
  },
  {
   "cell_type": "markdown",
   "id": "0ec5bc12",
   "metadata": {},
   "source": [
    "## Setup of the Experiment\n",
    "\n",
    "We now have a 2d numpy array `image` that has the (scalar) pixel values of our black-and-white\n",
    "image. Before we can assign these values to the according synapses, we need to declare our\n",
    "AbsoluteTimePlaybackProgramBuilder instance, where we later want to write the weight changing\n",
    "commands to. Also we can directly inject it into the inside real time section, even before writing\n",
    "the commands to it."
   ]
  },
  {
   "cell_type": "code",
   "execution_count": null,
   "id": "4bcbd008",
   "metadata": {
    "hide-output": false
   },
   "outputs": [],
   "source": [
    "# Initialize AbsoluteTimePlaybackProgramBuilder for queueing the synapse weight commands\n",
    "builder = sta.AbsoluteTimePlaybackProgramBuilder()\n",
    "\n",
    "# Inject it into the inside realtime section of the program\n",
    "configuration = pynn.InjectedConfiguration()\n",
    "configuration.inside_realtime = builder\n",
    "pynn.setup(enable_neuron_bypass=True, injected_config = configuration)"
   ]
  },
  {
   "cell_type": "markdown",
   "id": "de21ba01",
   "metadata": {},
   "source": [
    "In order to make sure, that the synaptic weights directly translate to the intensity of the measured\n",
    "signal by a neuron, we need a continuous highly frequent spike train as an input:"
   ]
  },
  {
   "cell_type": "code",
   "execution_count": null,
   "id": "08114979",
   "metadata": {
    "hide-output": false
   },
   "outputs": [],
   "source": [
    "# Specify spike train as input for our synapses\n",
    "bg_props = dict(\n",
    "    start=0,  # ms\n",
    "    rate=4000,  # Hz\n",
    "    duration=640  # ms\n",
    ")\n",
    "external_input = pynn.Population(64, pynn.cells.SpikeSourcePoisson(**bg_props))"
   ]
  },
  {
   "cell_type": "markdown",
   "id": "6adc7fa3",
   "metadata": {},
   "source": [
    "To define our configuration of 64 neurons, each getting input from only one synapse, we construct a\n",
    "population of 64 neurons and a one-to-one projection from the external input to the recording\n",
    "neurons."
   ]
  },
  {
   "cell_type": "code",
   "execution_count": null,
   "id": "bf712b9a",
   "metadata": {
    "hide-output": false
   },
   "outputs": [],
   "source": [
    "# Configure population and projection\n",
    "neurons = pynn.Population(64, pynn.cells.HXNeuron())\n",
    "neurons.record([\"spikes\"])\n",
    "\n",
    "synapse = pynn.standardmodels.synapses.StaticSynapse(weight=0)\n",
    "projection = pynn.Projection(external_input,\n",
    "                neurons,\n",
    "                pynn.OneToOneConnector(),\n",
    "                synapse_type=synapse)\n",
    "\n",
    "# Finish configuration\n",
    "pynn.run(None, pynn.RunCommand.PREPARE)"
   ]
  },
  {
   "cell_type": "markdown",
   "id": "527c322f",
   "metadata": {},
   "source": [
    "## Construction of the inside realtime hook\n",
    "\n",
    "The only thing now left to do is to change the weights of the right synapses to the right values at\n",
    "the right times. For that we need to get the coordinates of the synapses, which were assigned for\n",
    "the projection to know the weights of which synapses we actually need to change:"
   ]
  },
  {
   "cell_type": "code",
   "execution_count": null,
   "id": "374496f1",
   "metadata": {
    "hide-output": false
   },
   "outputs": [],
   "source": [
    "synapse_coordinates = projection.placed_connections"
   ]
  },
  {
   "cell_type": "markdown",
   "id": "c7594638",
   "metadata": {},
   "source": [
    "The plan is now to take the picture column by column and have our 64 synapse weights taking the 64\n",
    "pixel values of each column. Because we have 64 columns and also scheduled the `external_input`\n",
    "of spikes to last 640ms, we want to change the spike weights 64 times every 10ms, so we get a long\n",
    "enough time for the signal to be correctly measured by the neurons.\n",
    "For each of these columns we construct a `lola.SynapseWeightRow()` container, in which we fill in\n",
    "the pixel values of the whole column and write it all with one construction to the according\n",
    "synapses."
   ]
  },
  {
   "cell_type": "code",
   "execution_count": null,
   "id": "8d8cb08f",
   "metadata": {
    "hide-output": false
   },
   "outputs": [],
   "source": [
    "for j in range(64):\n",
    "    row_values = lola.SynapseWeightRow()\n",
    "    for i,coordinate in enumerate(synapse_coordinates):\n",
    "        row_values.values[coordinate[0].synapse_on_row] = int(image[-i,j])\n",
    "    builder.write(hal.Timer.Value(j*int(hal.Timer.Value.fpga_clock_cycles_per_us)*10000),\n",
    "        coordinate[0].synapse_row.toSynapseWeightRowOnDLS(), row_values)"
   ]
  },
  {
   "cell_type": "markdown",
   "id": "d655fc13",
   "metadata": {},
   "source": [
    "## Execution and evaluation\n",
    "\n",
    "Finally, we can run our experiment and read out the results into a list and plot our received\n",
    "picture:"
   ]
  },
  {
   "cell_type": "code",
   "execution_count": null,
   "id": "5bbe95aa",
   "metadata": {
    "hide-output": false
   },
   "outputs": [],
   "source": [
    "pynn.run(640) # ms\n",
    "\n",
    "#read out results\n",
    "spikes = neurons.get_data(\"spikes\").segments[0]\n",
    "spiketrains = []\n",
    "for spiketrain in spikes.spiketrains:\n",
    "    spiketrains.append(spiketrain.base)\n",
    "\n",
    "#plot results\n",
    "fig = plt.gcf()\n",
    "fig.set_size_inches(4, 4)\n",
    "\n",
    "plt.eventplot(spiketrains, color='#990000')\n",
    "plt.xlim(0,640)\n",
    "plt.ylim(0,63)\n",
    "plt.xlabel(\"time [ms]\")\n",
    "plt.ylabel(\"neuron index\")\n",
    "fig.show()"
   ]
  },
  {
   "cell_type": "markdown",
   "id": "ab50bae5",
   "metadata": {},
   "source": [
    "We see a replicated version of the original image encoded in the time evolution of\n",
    "the neurons’ firing rates."
   ]
  }
 ],
 "metadata": {
  "date": 1760633808.495675,
  "filename": "ts_09-inside_realtime_hook.rst",
  "kernelspec": {
   "display_name": "EBRAINS-experimental",
   "language": "python",
   "name": "ebrains-experimental"
  },
  "title": "Demonstration of inside realtime hook"
 },
 "nbformat": 4,
 "nbformat_minor": 5
}