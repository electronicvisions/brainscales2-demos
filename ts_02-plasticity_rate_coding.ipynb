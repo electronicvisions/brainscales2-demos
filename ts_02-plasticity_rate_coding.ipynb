{
 "cells": [
  {
   "cell_type": "markdown",
   "id": "4987dfa9",
   "metadata": {},
   "source": [
    "# BrainScaleS-2 on-chip plasticity experiment\n",
    "\n",
    "In addition to the analog neural network core, BrainScaleS-2 features two embedded\n",
    "general-purpose processors, called PPUs (Plasticity Processing Units).\n",
    "They can be used for experiment control and alterations of configuration during\n",
    "the run-time of an experiment.\n",
    "This example makes use of this feature by show-casing synaptic plasticity."
   ]
  },
  {
   "cell_type": "code",
   "execution_count": null,
   "id": "8f02b4d5",
   "metadata": {
    "hide-output": false
   },
   "outputs": [],
   "source": [
    "%matplotlib inline\n",
    "from os.path import join\n",
    "import numpy as np\n",
    "import matplotlib.pyplot as plt\n",
    "import pynn_brainscales.brainscales2 as pynn\n",
    "from dlens_vx_v3 import hal, lola, halco, sta"
   ]
  },
  {
   "cell_type": "markdown",
   "id": "c408f1f5",
   "metadata": {},
   "source": [
    "We want to show how the PPUs can be used to rate-code an image in the activity of\n",
    "neurons (our canvas will be the activity of the neurons over time).\n",
    "This is done by switching synapses on and off using a predefined data sequence.\n",
    "Each PPU has 16kiB on-chip memory. For a quadratic image to fit, it is therefore\n",
    "limited to 64x64 pixels. For simplicity, only one of the two PPUs is used.\n",
    "\n",
    "For loading and converting an image, some helpers are required:"
   ]
  },
  {
   "cell_type": "code",
   "execution_count": null,
   "id": "0e079ec2",
   "metadata": {
    "hide-output": false
   },
   "outputs": [],
   "source": [
    "def read_image(path: str) -> np.array:\n",
    "    \"\"\"\n",
    "    Read image from file and scale it to the weight range.\n",
    "    :param path: Path to image file\n",
    "    :return: Image data as numpy array normalised to hardware weight range\n",
    "    \"\"\"\n",
    "    image = np.asarray(plt.imread(path))\n",
    "    # Scale to weight range [0, 63)\n",
    "    image = image / image.max() * hal.SynapseWeightQuad.Value.max\n",
    "    return image"
   ]
  },
  {
   "cell_type": "markdown",
   "id": "8d598962",
   "metadata": {},
   "source": [
    "## Controlling the on-chip plasticity processor\n",
    "\n",
    "Later, we will define the network topology using the pyNN interface.\n",
    "During the experiment, the PPUs execute an earliest-deadline-first scheduler for\n",
    "tasks to be performed. In PyNN, execution of a plasticity rule is such a task.\n",
    "A plasticity rule is injected via the synapse type of a projection and upon execution\n",
    "is provided with the locations of the synapses in the projection(s) created with this\n",
    "plastic synapse type. The plasticity rule features a method yielding C++-code to be\n",
    "executed as a task on the PPU given the synapse location information.\n",
    "Tasks can be executed periodically, for which a timer object is to be supplied.\n",
    "\n",
    "For our experiment, we first load an image to be rate-encoded later.\n",
    "\n",
    "<img src=\"_static/tutorial/visions.png\" style=\"width:10%;\" align=\"center\">"
   ]
  },
  {
   "cell_type": "code",
   "execution_count": null,
   "id": "8990980b",
   "metadata": {
    "hide-output": false
   },
   "outputs": [],
   "source": [
    "# Read image into 2d numpy array\n",
    "image = read_image(join(\"_static\", \"tutorial\", \"visions.png\"))"
   ]
  },
  {
   "cell_type": "markdown",
   "id": "dee8ad0f",
   "metadata": {},
   "source": [
    "Furthermore, we set some environment variables for our microscheduler:"
   ]
  },
  {
   "cell_type": "code",
   "execution_count": null,
   "id": "60293373",
   "metadata": {
    "hide-output": false
   },
   "outputs": [],
   "source": [
    "from _static.common.helpers import setup_hardware_client\n",
    "setup_hardware_client()"
   ]
  },
  {
   "cell_type": "markdown",
   "id": "ce7fbc73",
   "metadata": {},
   "source": [
    "## The plasticity kernel\n",
    "\n",
    "We now define the plasticity rule type with the C++-code which imprints the image\n",
    "onto the spike-trains by alteration of the synaptic weights.\n",
    "The image data is transferred into a global object `image`.\n",
    "The entry point of the plastic task is called `PLASTICITY_RULE_KERNEL`\n",
    "and is supplied with synapse location information corresponding the the projection\n",
    "in PyNN. Within the task function, the program writes synapse weight values\n",
    "row-wise via `set_weights(weight_row, row)`.\n",
    "Since the task is scheduled periodically configured via the `Timer` object, after\n",
    "each write, the period duration is waited before the next row of the image is written.\n",
    "Over time, this leads to each row of the image being present and imprinting itself\n",
    "onto the neurons’ firing rate."
   ]
  },
  {
   "cell_type": "code",
   "execution_count": null,
   "id": "8f7774f7",
   "metadata": {
    "hide-output": false
   },
   "outputs": [],
   "source": [
    "import textwrap\n",
    "\n",
    "class PlasticityRule(pynn.PlasticityRule):\n",
    "    def __init__(self, timer: pynn.Timer, image: np.array):\n",
    "        \"\"\"\n",
    "        Initialize plastic synapse with execution timing information,\n",
    "        the image pixels and initial weight.\n",
    "        \"\"\"\n",
    "        pynn.PlasticityRule.__init__(self, timer)\n",
    "        self.image = image\n",
    "        assert self.timer.num_periods == len(self.image)\n",
    "\n",
    "    def generate_kernel(self) -> str:\n",
    "        \"\"\"\n",
    "        Generate plasticity rule kernel to be compiled into PPU program.\n",
    "\n",
    "        :return: PPU-code of plasticity-rule kernel as string.\n",
    "        \"\"\"\n",
    "        return textwrap.dedent(\"\"\"\n",
    "        #include \"grenade/vx/ppu/synapse_array_view_handle.h\"\n",
    "        #include \"grenade/vx/ppu/neuron_view_handle.h\"\n",
    "        #include \"libnux/vx/dls.h\"\n",
    "        #include <array>\n",
    "\n",
    "        using namespace grenade::vx::ppu;\n",
    "        using namespace libnux::vx;\n",
    "\n",
    "        /**\n",
    "         * PPU currently executing this code (top/bottom).\n",
    "         */\n",
    "        extern volatile PPUOnDLS ppu;\n",
    "\n",
    "        /**\n",
    "         * Image data.\n",
    "         */\n",
    "        uint8_t const image[{image_h}][{image_w}] = {{\n",
    "            {image_pixels}\n",
    "        }};\n",
    "\n",
    "        /**\n",
    "         * Currently to be presented row in image.\n",
    "         */\n",
    "        uint32_t current_row = 0;\n",
    "\n",
    "        void PLASTICITY_RULE_KERNEL(\n",
    "            std::array<SynapseArrayViewHandle, 1>& synapses,\n",
    "            std::array<NeuronViewHandle, 0>&)\n",
    "        {{\n",
    "            // only update weights when code is executed on the correct PPU\n",
    "            if (synapses[0].hemisphere != ppu) {{\n",
    "                return;\n",
    "            }}\n",
    "            for (size_t row = 0; row < synapses[0].rows.size(); ++row) {{\n",
    "                // load new vertical line of image\n",
    "                vector_row_t weight_row;\n",
    "                size_t w = 0;\n",
    "                for (auto const column: synapses[0].columns) {{\n",
    "                    weight_row[column] = image[w][current_row];\n",
    "                    w++;\n",
    "                }}\n",
    "\n",
    "                // alter weights in synapse memory\n",
    "                synapses[0].set_weights(weight_row, row);\n",
    "            }}\n",
    "            current_row++;\n",
    "        }}\n",
    "        \"\"\".format(image_h=len(self.image), image_w=len(self.image[0]),\n",
    "                   image_pixels=\",\".join([\"{\" + \", \".join(\n",
    "                       [str(int(pixel)) for pixel in row]) + \"}\"\n",
    "                            for row in self.image])))"
   ]
  },
  {
   "cell_type": "markdown",
   "id": "c971f899",
   "metadata": {},
   "source": [
    "## The experiment\n",
    "\n",
    "For this simple binary on-off plasticity, we don’t need the full-fledged capabilities\n",
    "of the neurons and therefore configure them to bypass-mode, where every incoming spike\n",
    "elicits an output spike."
   ]
  },
  {
   "cell_type": "code",
   "execution_count": null,
   "id": "a8723ca3",
   "metadata": {
    "hide-output": false
   },
   "outputs": [],
   "source": [
    "pynn.setup(enable_neuron_bypass=True)"
   ]
  },
  {
   "cell_type": "markdown",
   "id": "3118dce7",
   "metadata": {},
   "source": [
    "Our network uses a single-layer feed-forward structure.\n",
    "External Poisson stimulus is generated with a constant rate.\n",
    "We use multiple sources for decorrelation of the neurons’ spikes in order to prevent\n",
    "congestion effects due to the neuron bypass mode."
   ]
  },
  {
   "cell_type": "code",
   "execution_count": null,
   "id": "6edabc6e",
   "metadata": {
    "hide-output": false
   },
   "outputs": [],
   "source": [
    "bg_props = dict(\n",
    "    start=0,  # ms\n",
    "    rate=4000,  # Hz\n",
    "    duration=64  # ms\n",
    ")\n",
    "external_input = pynn.Population(64, pynn.cells.SpikeSourcePoisson(**bg_props))"
   ]
  },
  {
   "cell_type": "markdown",
   "id": "9f341367",
   "metadata": {},
   "source": [
    "The target population consists of 64 neurons, spikes are recorded."
   ]
  },
  {
   "cell_type": "code",
   "execution_count": null,
   "id": "b7cadd50",
   "metadata": {
    "hide-output": false
   },
   "outputs": [],
   "source": [
    "neurons = pynn.Population(64, pynn.cells.HXNeuron())\n",
    "neurons.record([\"spikes\"])"
   ]
  },
  {
   "cell_type": "markdown",
   "id": "8db83c4d",
   "metadata": {},
   "source": [
    "Since the external stimulus population’s size matches the internal population’s size,\n",
    "a one-to-one connector is used as projection.\n",
    "Initially the weight is set to zero, the PPU will alter it during the experiment."
   ]
  },
  {
   "cell_type": "code",
   "execution_count": null,
   "id": "eecf4468",
   "metadata": {
    "hide-output": false
   },
   "outputs": [],
   "source": [
    "timer = pynn.Timer(\n",
    "    start=0., # ms\n",
    "    period=1., # ms\n",
    "    num_periods=len(image))\n",
    "plasticity_rule = PlasticityRule(timer=timer, image=image)\n",
    "synapse = pynn.standardmodels.synapses.PlasticSynapse(\n",
    "    plasticity_rule=plasticity_rule, weight=0)\n",
    "pynn.Projection(external_input,\n",
    "                neurons,\n",
    "                pynn.OneToOneConnector(),\n",
    "                synapse_type=synapse)"
   ]
  },
  {
   "cell_type": "markdown",
   "id": "6bca46a8",
   "metadata": {},
   "source": [
    "We run the experiment for 64 ms, during which we expect a weight change every ms\n",
    "leading to all image columns being present as weights for this duration one after\n",
    "the other."
   ]
  },
  {
   "cell_type": "code",
   "execution_count": null,
   "id": "7832f8d2",
   "metadata": {
    "hide-output": false
   },
   "outputs": [],
   "source": [
    "pynn.run(64) # ms"
   ]
  },
  {
   "cell_type": "markdown",
   "id": "ee386d0b",
   "metadata": {},
   "source": [
    "Last, the recorded spike-trains are visualized."
   ]
  },
  {
   "cell_type": "code",
   "execution_count": null,
   "id": "7853cb3b",
   "metadata": {
    "hide-output": false
   },
   "outputs": [],
   "source": [
    "spikes = neurons.get_data(\"spikes\").segments[0]\n",
    "spiketrains = []\n",
    "for spiketrain in spikes.spiketrains:\n",
    "    spiketrains.append(spiketrain.base)\n",
    "\n",
    "fig = plt.gcf()\n",
    "fig.set_size_inches(4, 4)\n",
    "\n",
    "plt.eventplot(spiketrains, color='#990000')\n",
    "plt.xlim(0,64)\n",
    "plt.ylim(0,63)\n",
    "plt.xlabel(\"time [ms]\")\n",
    "plt.ylabel(\"neuron index\")\n",
    "fig.show()"
   ]
  },
  {
   "cell_type": "markdown",
   "id": "84f9a744",
   "metadata": {},
   "source": [
    "We see a replicated version of the original image encoded in the time evolution of\n",
    "the neurons’ firing rates."
   ]
  }
 ],
 "metadata": {
  "date": 1740990468.0832703,
  "filename": "ts_02-plasticity_rate_coding.rst",
  "kernelspec": {
   "display_name": "EBRAINS-experimental",
   "language": "python",
   "name": "ebrains-experimental"
  },
  "title": "BrainScaleS-2 on-chip plasticity experiment"
 },
 "nbformat": 4,
 "nbformat_minor": 5
}