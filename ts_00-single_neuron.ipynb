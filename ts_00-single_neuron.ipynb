{
 "cells": [
  {
   "cell_type": "markdown",
   "id": "5cccdf6d",
   "metadata": {},
   "source": [
    "\n",
    "<a id='brainscales-2-single-neuron-experiments'></a>"
   ]
  },
  {
   "cell_type": "markdown",
   "id": "f6b080df",
   "metadata": {},
   "source": [
    "# BrainScaleS-2 single neuron experiments\n",
    "\n",
    "In order to use the microscheduler we have to set some environment variables first:"
   ]
  },
  {
   "cell_type": "code",
   "execution_count": null,
   "id": "4debf452",
   "metadata": {
    "hide-output": false
   },
   "outputs": [],
   "source": [
    "from _static.common.helpers import setup_hardware_client\n",
    "setup_hardware_client()"
   ]
  },
  {
   "cell_type": "code",
   "execution_count": null,
   "id": "4f28a34e",
   "metadata": {
    "hide-output": false
   },
   "outputs": [],
   "source": [
    "%matplotlib inline\n",
    "import numpy as np\n",
    "from ipywidgets import interact, IntSlider\n",
    "from functools import partial\n",
    "IntSlider = partial(IntSlider, continuous_update=False)\n",
    "import matplotlib.pyplot as plt\n",
    "plt.style.use(\"_static/matplotlibrc\")\n",
    "\n",
    "import pynn_brainscales.brainscales2 as pynn\n",
    "from pynn_brainscales.brainscales2 import Population\n",
    "from pynn_brainscales.brainscales2.standardmodels.cells import SpikeSourceArray\n",
    "from pynn_brainscales.brainscales2.standardmodels.synapses import StaticSynapse\n",
    "\n",
    "\n",
    "def plot_membrane_dynamics(population: Population, segment_id=-1, ylim=None):\n",
    "    \"\"\"\n",
    "    Plot the membrane potential of the neuron in a given population view. Only\n",
    "    population views of size 1 are supported.\n",
    "    :param population: Population, membrane traces and spikes are plotted for.\n",
    "    :param segment_id: Index of the neo segment to be plotted. Defaults to\n",
    "                       -1, encoding the last recorded segment.\n",
    "    :param ylim: y-axis limits for the plot.\n",
    "    \"\"\"\n",
    "    if len(population) != 1:\n",
    "        raise ValueError(\"Plotting is supported for populations of size 1.\")\n",
    "    # Experimental results are given in the 'neo' data format\n",
    "    mem_v = population.get_data(\"v\").segments[segment_id].irregularlysampledsignals[0]\n",
    "\n",
    "    plt.plot(mem_v.times, mem_v, alpha=0.5)\n",
    "    print(f\"Mean membrane potential: {mem_v.mean()}\")\n",
    "    plt.xlabel(\"Wall clock time [ms]\")\n",
    "    plt.ylabel(\"ADC readout [a.u.]\")\n",
    "    if ylim:\n",
    "        plt.ylim(ylim)"
   ]
  },
  {
   "cell_type": "markdown",
   "id": "cc7b1e58",
   "metadata": {},
   "source": [
    "In this part we will explore some of the spiking capabilities of the\n",
    "BrainScaleS-2 neuromorphic accelerator using our implementation of the\n",
    "pyNN interface.\n",
    "\n",
    "There are 512 neuron circuits emulating the adaptive exponential\n",
    "integrate-and-fire model model and 131,072 STP/STDP synapses in one\n",
    "HICANN-X chip, but we will stick to a single neuron for now."
   ]
  },
  {
   "cell_type": "markdown",
   "id": "957017b4",
   "metadata": {},
   "source": [
    "## A silent neuron\n",
    "\n",
    "As a first experiment, we will record the membrane of a single, silent\n",
    "neuron on the analog substrate. We use pyNN as an interface, which can\n",
    "be used similarly to existing simulators and other neuromorphic\n",
    "platforms.\n",
    "\n",
    "While we provide calibrated neurons that have their hardware parameters\n",
    "set to match high-level targets, e.g., time-constants, we will start\n",
    "with modifying a few circuit parameters directly. These control the\n",
    "dynamic behavior of the neuron as well as static configuration. Most of\n",
    "them are either boolean or given in units of ‘LSB’ for chip-internal\n",
    "Digital-to-Analog converters, providing voltages and currents - they\n",
    "have no direct biological translation.\n",
    "\n",
    "For this first example, you may alter the leak potential via the slider\n",
    "and observe the response of the analog neuron’s resting potential.\n",
    "\n",
    "We first define a population of one neuron and let its membrane\n",
    "potential be recorded. The experiment is executed by calling\n",
    "`pynn.run(time_in_ms)`. The network is evolved for a given amount of\n",
    "time and neurons are stimulated by any given stimuli.\n",
    "\n",
    "The time is given in units of milliseconds (wall clock time),\n",
    "representing the hardware’s intrinsic 1000-fold speed-up compared to\n",
    "biological systems."
   ]
  },
  {
   "cell_type": "code",
   "execution_count": null,
   "id": "e9131a9a",
   "metadata": {
    "hide-output": false
   },
   "outputs": [],
   "source": [
    "@interact(v_leak=IntSlider(min=400, max=1022, step=1, value=700))\n",
    "def experiment(v_leak):\n",
    "    plt.figure()\n",
    "    plt.title(\"First experiment: A silent neuron\")\n",
    "\n",
    "    pynn.setup()\n",
    "\n",
    "    pop = pynn.Population(1, pynn.cells.HXNeuron(\n",
    "        # Leak potential, range: 400-1000\n",
    "        leak_v_leak=v_leak,\n",
    "        # Leak conductance, range: 0-1022\n",
    "        leak_i_bias=1022))\n",
    "\n",
    "    # The chip contains a fast Analog-to-Digital converter. It can be used to\n",
    "    # record different observables of a single analog neuron - most importantly\n",
    "    # the membrane potential.\n",
    "    pop.record([\"v\"])\n",
    "\n",
    "    # Execute experiment\n",
    "    pynn.run(0.2)\n",
    "\n",
    "    plot_membrane_dynamics(pop, ylim=(100, 800))\n",
    "    plt.show()\n",
    "\n",
    "    # Reset the pyNN internal state and prepare for the following experiment.\n",
    "    pynn.end()"
   ]
  },
  {
   "cell_type": "markdown",
   "id": "091c39e0",
   "metadata": {},
   "source": [
    "## Leak over threshold\n",
    "\n",
    "As a second experiment, we will let the neurons on BrainScaleS-2 spike\n",
    "by setting a ‘leak-over-threshold’ configuration. The leak potential is\n",
    "set high, above the spike threshold, so that the membrane charges\n",
    "exponentially until a spike is triggered. The potential is then reset to\n",
    "a lower voltage.\n",
    "\n",
    "The parametrization of the different potentials is not equal, a lower\n",
    "threshold setting of 300 may correspond to a higher leak potential of\n",
    "700."
   ]
  },
  {
   "cell_type": "code",
   "execution_count": null,
   "id": "068b593d",
   "metadata": {
    "hide-output": false
   },
   "outputs": [],
   "source": [
    "@interact(\n",
    "    v_leak=IntSlider(min=400, max=1022, step=1, value=1000),\n",
    "    v_threshold=IntSlider(min=0, max=500, step=1, value=300),\n",
    "    v_reset=IntSlider(min=300, max=1022, step=1, value=400),\n",
    "    i_bias_leak=IntSlider(min=0, max=1022, step=1, value=150),\n",
    ")\n",
    "def experiment(v_leak, v_threshold, v_reset, i_bias_leak):\n",
    "    \"\"\"\n",
    "    Set up a leak over threshold neuron.\n",
    "\n",
    "    :param v_leak: Leak potential.\n",
    "    :param v_threshold: Spike threshold potential.\n",
    "    :param v_reset: Reset potential.\n",
    "    :param i_bias_leak: Controls the leak conductance (membrane time constant).\n",
    "    \"\"\"\n",
    "\n",
    "    plt.figure()\n",
    "    plt.title(\"Second experiment: Leak over threshold\")\n",
    "\n",
    "    pynn.setup()\n",
    "\n",
    "    pop = pynn.Population(1, pynn.cells.HXNeuron(\n",
    "        # Leak potential, range: 400-1000\n",
    "        leak_v_leak=v_leak,\n",
    "        # Leak conductance, range: 0-1022\n",
    "        leak_i_bias=i_bias_leak,\n",
    "        # Threshold potential, range: 0-500\n",
    "        threshold_v_threshold=v_threshold,\n",
    "        # Reset potential, range: 300-1000\n",
    "        reset_v_reset=v_reset,\n",
    "        # Membrane capacitance, range: 0-63\n",
    "        membrane_capacitance_capacitance=63,\n",
    "        # Refractory time (counter), range: 0-255\n",
    "        refractory_period_refractory_time=255,\n",
    "        # Enable reset on threshold crossing\n",
    "        threshold_enable=True,\n",
    "        # Reset conductance, range: 0-1022\n",
    "        reset_i_bias=1022,\n",
    "        # Increase reset conductance\n",
    "        reset_enable_multiplication=True))\n",
    "\n",
    "    pop.record([\"v\", \"spikes\"])\n",
    "    pynn.run(0.2)\n",
    "    plot_membrane_dynamics(pop, ylim=(100, 800))\n",
    "    plt.show()\n",
    "    pynn.end()"
   ]
  },
  {
   "cell_type": "markdown",
   "id": "511e465d",
   "metadata": {},
   "source": [
    "The neuron has many more parameters you may play around with.\n",
    "Some documentation for these parameters is available in our [Lower-level API documentation](https://electronicvisions.github.io/documentation-brainscales2/api_lola.html).\n",
    "The kewords you set in PyNN are generated from a hierarchical structure – search for the last part of a parameter (e.g. `capacitance`)."
   ]
  },
  {
   "cell_type": "code",
   "execution_count": null,
   "id": "005c38de",
   "metadata": {
    "hide-output": false
   },
   "outputs": [],
   "source": [
    "pynn.cells.HXNeuron().get_parameter_names()"
   ]
  },
  {
   "cell_type": "markdown",
   "id": "7c5ad5ad",
   "metadata": {},
   "source": [
    "## Fixed-pattern variations\n",
    "\n",
    "Due to the analog nature of the BrainScaleS-2 platform, the inevitable\n",
    "mismatch of semiconductor fabrication results in inhomogeneous\n",
    "properties of the computational elements.\n",
    "\n",
    "We will visualize these effects by recording the membrane potential of\n",
    "multiple neurons in leak-over-threshold configuration. You will notice\n",
    "different resting, reset and threshold potentials as well as varying\n",
    "membrane time constants."
   ]
  },
  {
   "cell_type": "code",
   "execution_count": null,
   "id": "ff92a55c",
   "metadata": {
    "hide-output": false
   },
   "outputs": [],
   "source": [
    "plt.figure()\n",
    "plt.title(\"Third experiment: Fixed-pattern variations\")\n",
    "\n",
    "pynn.setup()\n",
    "\n",
    "pop = pynn.Population(10, pynn.cells.HXNeuron(\n",
    "    # Leak potential, range: 400-1000\n",
    "    leak_v_leak=1000,\n",
    "    # Leak conductance, range: 0-1022\n",
    "    leak_i_bias=200,\n",
    "    # Threshold potential, range: 0-600\n",
    "    threshold_v_threshold=500,\n",
    "    # Reset potential, range: 300-1000\n",
    "    reset_v_reset=400,\n",
    "    # Membrane capacitance, range: 0-63\n",
    "    membrane_capacitance_capacitance=63,\n",
    "    # Refractory time, range: 0-255\n",
    "    refractory_period_refractory_time=255,\n",
    "    # Enable reset on threshold crossing\n",
    "    threshold_enable=True,\n",
    "    # Reset conductance, range: 0-1022\n",
    "    reset_i_bias=1022,\n",
    "    # Increase reset conductance\n",
    "    reset_enable_multiplication=True))\n",
    "\n",
    "for neuron_id in range(len(pop)):\n",
    "    print(f\"Recording fixed-pattern variations: Run {neuron_id}\")\n",
    "    p_view = pynn.PopulationView(pop, [neuron_id])\n",
    "    p_view.record([\"v\"])\n",
    "    pynn.run(0.1)\n",
    "    plot_membrane_dynamics(p_view, ylim=(100, 800))\n",
    "    pynn.reset()\n",
    "    pop.record(None)\n",
    "\n",
    "plt.show()\n",
    "pynn.end()"
   ]
  },
  {
   "cell_type": "markdown",
   "id": "4667fedd",
   "metadata": {},
   "source": [
    "The plot shows the recorded membrane traces of multiple different\n",
    "neurons. Due to the time-continuous nature of the system, there is no\n",
    "temporal alignment between the individual traces, so the figure shows\n",
    "multiple independent effects:\n",
    "\n",
    "- Temporal misalignment: From the system’s view, the recording happens\n",
    "  in an arbitrary time frame during the continuously evolving\n",
    "  integration. Neurons are not synchronized to each other.  \n",
    "- Circuit-level mismatch: Each individual neurons shows slightly\n",
    "  different analog properties. The threshold is different for all\n",
    "  traces; as is the membrane time constant (visible as slope) and the\n",
    "  reset potentials (visible as plateaus during the refractory time).  "
   ]
  },
  {
   "cell_type": "markdown",
   "id": "2f8e8d8f",
   "metadata": {},
   "source": [
    "## Summary\n",
    "\n",
    "The analog neurons on BrainScaleS-2 feature many hardware parameters\n",
    "that can be set to achieve different operating points and to equalize\n",
    "the behaviour of different neurons.\n",
    "\n",
    "We will employ an automated calibration to get the neurons in the\n",
    "desired operating mode. * In the next notebook, we will show spiking\n",
    "operation and learning. * Later, we will change the target parameters\n",
    "and use integrator neurons for executing multiply-accumulate operations."
   ]
  },
  {
   "cell_type": "markdown",
   "id": "049468bd",
   "metadata": {},
   "source": [
    "## Outlook: External stimulation\n",
    "\n",
    "We will continue the tutorial in the next notebook using external\n",
    "stimulation on the neurons. You may play around a bit already here, but\n",
    "we will revisit the following later.\n",
    "\n",
    "Up to now, we have observed analog neurons without external stimulus. In\n",
    "this experiment, we will introduce the latter and examine post-synaptic\n",
    "pulses on the analog neuron’s membrane.\n",
    "\n",
    "Preparing the neuron to receive synaptic inputs requires the\n",
    "configuration of additional circuits. The additional settings include\n",
    "technical parameters for bringing the circuit to its designed operating\n",
    "point as well as configuration with a direct biological equivalent. For\n",
    "simplicity, we will turn to a calibration which yields all required\n",
    "parameters and counters the fixed pattern noise between different\n",
    "neurons observed previously.\n",
    "\n",
    "We represent projections as entries in the synapse matrix on the\n",
    "neuromorphic chip. Weights are stored in digital 6bit values (plus\n",
    "sign), the value range for on-chip weights is therefore -63 to 63. With\n",
    "this first projection, we connect the external spike source to the\n",
    "observed on-chip neuron population.\n",
    "\n",
    "A default calibration is generated for every setup every night.\n",
    "We save the nightly calibration in a variable such that we can use it later when we define our experiment."
   ]
  },
  {
   "cell_type": "code",
   "execution_count": null,
   "id": "ca16c3ed",
   "metadata": {
    "hide-output": false
   },
   "outputs": [],
   "source": [
    "from _static.common.helpers import get_nightly_calibration\n",
    "calib = get_nightly_calibration()"
   ]
  },
  {
   "cell_type": "markdown",
   "id": "1dfe6255",
   "metadata": {},
   "source": [
    "Now we can continue by defining our experiment:"
   ]
  },
  {
   "cell_type": "code",
   "execution_count": null,
   "id": "4e3d6aed",
   "metadata": {
    "hide-output": false
   },
   "outputs": [],
   "source": [
    "@interact(exc_weight=IntSlider(min=0, max=63, step=1, value=31),\n",
    "          inh_weight=IntSlider(min=0, max=63, step=1, value=31),\n",
    "          isi=IntSlider(min=10, max=100, step=5, value=50))\n",
    "def run_experiment(exc_weight: int, inh_weight: int, isi: float):\n",
    "    '''\n",
    "    Run external input demonstration on BSS-2.\n",
    "\n",
    "    Adjust weight of projections, set input spikes and execute experiment\n",
    "    on BSS-2.\n",
    "\n",
    "    :param exc_weight: Weight of excitatory synaptic inputs, value range\n",
    "        [0,63].\n",
    "    :param inh_weight: Weight of inhibitory synaptic inputs, value range\n",
    "        [0,63].\n",
    "    :param isi: Time between synaptic inputs in microsecond (hardware\n",
    "        domain)\n",
    "    '''\n",
    "\n",
    "    plt.figure()\n",
    "    plt.title(\"Fourth experiment: External stimulation\")\n",
    "\n",
    "    pynn.setup(initial_config=calib)\n",
    "\n",
    "    # use calibrated parameters for neuron\n",
    "    stimulated_p = pynn.Population(1, pynn.cells.HXNeuron())\n",
    "    stimulated_p.record([\"v\", \"spikes\"])\n",
    "\n",
    "    # calculate spike times\n",
    "    wait_before_experiment = 0.01  # ms (hw)\n",
    "    isi_ms = isi / 1000  # convert to ms\n",
    "    spiketimes = np.arange(6) * isi_ms + wait_before_experiment\n",
    "\n",
    "    # all but one input are chosen to be exciatory\n",
    "    excitatory_spike = np.ones_like(spiketimes, dtype=bool)\n",
    "    excitatory_spike[1] = False\n",
    "\n",
    "    # external input\n",
    "    exc_spikes = spiketimes[excitatory_spike]\n",
    "    exc_stim_pop = pynn.Population(2, SpikeSourceArray(spike_times=exc_spikes))\n",
    "    exc_proj = pynn.Projection(exc_stim_pop, stimulated_p,\n",
    "                               pynn.AllToAllConnector(),\n",
    "                               synapse_type=StaticSynapse(weight=exc_weight),\n",
    "                               receptor_type=\"excitatory\")\n",
    "\n",
    "    inh_spikes = spiketimes[~excitatory_spike]\n",
    "    inh_stim_pop = pynn.Population(2, SpikeSourceArray(spike_times=inh_spikes))\n",
    "    inh_proj = pynn.Projection(inh_stim_pop, stimulated_p,\n",
    "                               pynn.AllToAllConnector(),\n",
    "                               synapse_type=StaticSynapse(weight=-inh_weight),\n",
    "                               receptor_type=\"inhibitory\")\n",
    "\n",
    "    # run experiment\n",
    "    pynn.run(0.6)\n",
    "    plot_membrane_dynamics(stimulated_p, ylim=(100, 600))\n",
    "    plt.show()\n",
    "    pynn.end()"
   ]
  },
  {
   "cell_type": "markdown",
   "id": "c8aaa604",
   "metadata": {},
   "source": [
    "You may play around with the parameters in this experiment to achieve\n",
    "different traces. Try to stack multiple PSPs, try to make the neuron\n",
    "spike more often, be creative!"
   ]
  }
 ],
 "metadata": {
  "date": 1760084698.5503988,
  "filename": "ts_00-single_neuron.rst",
  "kernelspec": {
   "display_name": "EBRAINS-experimental",
   "language": "python",
   "name": "ebrains-experimental"
  },
  "title": "BrainScaleS-2 single neuron experiments"
 },
 "nbformat": 4,
 "nbformat_minor": 5
}