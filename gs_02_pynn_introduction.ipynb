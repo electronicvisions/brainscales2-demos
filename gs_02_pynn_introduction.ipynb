{
 "cells": [
  {
   "cell_type": "markdown",
   "id": "6e260b28",
   "metadata": {},
   "source": [
    "# Wie können wir mit den künstlichen Nervenzellen kommunizieren?"
   ]
  },
  {
   "cell_type": "markdown",
   "id": "1d40c050",
   "metadata": {},
   "source": [
    "## Einführung in PyNN\n",
    "\n",
    "Die künstlichen Neuronen haben viele einstellbare Parameter. Aber wie\n",
    "sagen wir ihnen nun, welche Werte sie annehmen sollen? Dafür gibt es das\n",
    "Modul PyNN. Dabei handelt es sich um eine Sprache, mit der man Gruppen\n",
    "aus Neuronen bilden und diese auf verschiedene Weisen miteinander\n",
    "verbinden kann. Man kann auch die Parameter eines einzelnen Neurons\n",
    "verändern und die sich daraus ergebende Dynamik beobachten.\n",
    "\n",
    "Im Folgenden wollen wir ein simples Netzwerk bauen, in dem ein künstliches\n",
    "Neuron von einer Gruppe aus fünf Neuronen stimuliert wird.\n",
    "\n",
    "<img src=\"_static/common/pynn_simple_network.png\" style=\"width:400px;\">"
   ]
  },
  {
   "cell_type": "code",
   "execution_count": null,
   "id": "c901687b",
   "metadata": {
    "hide-output": false
   },
   "outputs": [],
   "source": [
    "# Das Modul PyNN wird geladen.\n",
    "import pynn_brainscales.brainscales2 as pynn\n",
    "\n",
    "# Die Umgebung wird vorbereitet.\n",
    "from _static.common.helpers import setup_hardware_client, get_nightly_calibration\n",
    "\n",
    "setup_hardware_client()\n",
    "calib = get_nightly_calibration()\n",
    "pynn.setup(initial_config=calib)"
   ]
  },
  {
   "cell_type": "markdown",
   "id": "c6309284",
   "metadata": {},
   "source": [
    "Gruppen aus Neuronen werden Populationen genannt. Man erstellt solch\n",
    "eine Population, indem man ihr sagt, wie viele Neuronen sie beinhalten\n",
    "soll, von welchem Zelltyp diese Neuronen sind und was die Werte für die\n",
    "Zellparameter sind. Den Zelltyp unser künstlichen Neuronen haben wir\n",
    "`HXNeuron` genannt. Seine Parameter werden nicht in den selben\n",
    "Einheiten wie für biologische Nervenzellen angegeben, sondern in\n",
    "Hardware Einheiten. Diese beiden Einheitensysteme hängen erstmal nicht\n",
    "direkt zusammenhängen. Auch innerhalb der Hardware Einheiten gibt es\n",
    "keine allgemein gültige Übersetzung zu tatsächlich messbaren Spannungen\n",
    "und Strömen. Diese Werte können zum einen andere Bedeutungen für die\n",
    "verschiedenen Parameter auf einem Chip haben, beispielsweise kann eine\n",
    "Schwellenspannung von 300 höher sein als eine Ruhespannung von 400. Aber\n",
    "auch im Vergleich zu anderen Chips, die im Prinzip identischen sind,\n",
    "können die tatsächlichen Messwerte leicht variieren."
   ]
  },
  {
   "cell_type": "code",
   "execution_count": null,
   "id": "6f04c41f",
   "metadata": {
    "hide-output": false
   },
   "outputs": [],
   "source": [
    "# Die Parameter der Population werden definiert.\n",
    "numb_neurons = 1\n",
    "neuron_parameters = {                          #                         Bereich\n",
    "    \"leak_v_leak\": 400,                        # Ruhepotential          (300-1000)\n",
    "    \"leak_i_bias\": 200,                        # Ruhestrom              (0-1022)\n",
    "    \"threshold_v_threshold\": 400,              # Schwellenspannung      (0-600)\n",
    "    \"threshold_enable\": True,                  # Vergleichsaktivierung\n",
    "    \"refractory_period_refractory_time\": 100,  # Refraktärzeit          (0-255)\n",
    "    \"reset_v_reset\": 300,                      # Umkehrspannung         (300-1000)\n",
    "    \"reset_i_bias\": 1000,                      # Umkehrstrom            (0-1022)\n",
    "    \"membrane_capacitance_capacitance\": 63     # Membrankapazität       (0-63)\n",
    "    }\n",
    "\n",
    "neuron_type = pynn.cells.HXNeuron(**neuron_parameters)\n",
    "\n",
    "# Das konfigurierte Neuron wird in der Population 'pop' abgespeichert.\n",
    "pop = pynn.Population(numb_neurons, neuron_type)"
   ]
  },
  {
   "cell_type": "markdown",
   "id": "d6c05507",
   "metadata": {},
   "source": [
    "Von allen Neuronen, die in Populationen abgespeichert wurden, kann man\n",
    "die Spikes aufnehmen. Des Weiteren ist es auch möglich, das\n",
    "Membranpotential eines einzelnen Neurons aufzuzeichnen. Dafür darf die\n",
    "Population also nur ein einziges Neuron besitzen."
   ]
  },
  {
   "cell_type": "code",
   "execution_count": null,
   "id": "1b6fc7d4",
   "metadata": {
    "hide-output": false
   },
   "outputs": [],
   "source": [
    "# Die Spikes und die Membranspannung 'v' des Neurons in der Population 'pop'\n",
    "# werden aufgenommen.\n",
    "pop.record([\"spikes\", \"v\"])"
   ]
  },
  {
   "cell_type": "markdown",
   "id": "1bd3b557",
   "metadata": {},
   "source": [
    "Verschiedene Populationen können durch sogenannte Projektionen\n",
    "miteinander verbunden werden. Dafür muss zuerst festgelegt werden, was\n",
    "die Sender und Empfänger Populationen sind. Außerdem wird die Art\n",
    "angegeben, wie die Neuronen innerhalb der Populationen genau miteinander\n",
    "verbunden werden, z.B. werden alle mit allen oder nur ein bestimmter\n",
    "Prozentsatz der Neuronen miteinander verbunden. Zusätzlich wird das\n",
    "synaptische Gewicht, was die Stärke der Verbindung beschreibt, und der\n",
    "Synapsentyp vorgegeben. Dieser kann entweder exzitatorisch sein, was\n",
    "bedeutet, dass die Membranspannung durch die Stiumulierung steigt, oder\n",
    "er ist inhibitorisch, was die Membranspannung sinken lässt."
   ]
  },
  {
   "cell_type": "code",
   "execution_count": null,
   "id": "68118a6a",
   "metadata": {
    "hide-output": false
   },
   "outputs": [],
   "source": [
    "# Eine Sender Population wird erstellt, die zu vorgegebenen Spike Zeiten\n",
    "# einen Stimulus generiert.\n",
    "spike_times = [0.01, 0.03, 0.05, 0.07, 0.09]\n",
    "src = pynn.Population(5, pynn.cells.SpikeSourceArray(spike_times=spike_times))\n",
    "\n",
    "# Die Synapse und ihr Gewicht werden definiert.\n",
    "synapse_weight = 63\n",
    "synapse = pynn.synapses.StaticSynapse(weight=synapse_weight)\n",
    "\n",
    "# Die Sender Population 'src' wird mit dem Neuron in 'pop' verbunden.\n",
    "pynn.Projection(src, pop, pynn.AllToAllConnector(),\n",
    "                synapse_type=synapse, receptor_type=\"excitatory\")"
   ]
  },
  {
   "cell_type": "markdown",
   "id": "fdde60dc",
   "metadata": {},
   "source": [
    "Das erstellte Netzwerk aus Populationen und Projektionen kann nun für\n",
    "eine gewählte Zeit emuliert werden."
   ]
  },
  {
   "cell_type": "code",
   "execution_count": null,
   "id": "43755968",
   "metadata": {
    "hide-output": false
   },
   "outputs": [],
   "source": [
    "# Die Einheit der Laufzeit sind Millisekunden.\n",
    "# Wir geben hier die Hardware Zeit an und keine biologische.\n",
    "duration = 0.1\n",
    "pynn.run(duration)"
   ]
  },
  {
   "cell_type": "markdown",
   "id": "3b7c43f1",
   "metadata": {},
   "source": [
    "Anschließend kann das aufgenommene Verhalten der Neuronen ausgelesen\n",
    "werden."
   ]
  },
  {
   "cell_type": "code",
   "execution_count": null,
   "id": "6c784c9e",
   "metadata": {
    "hide-output": false
   },
   "outputs": [],
   "source": [
    "# Die Spikes des Neurons in 'pop' können ausgegeben werden.\n",
    "spiketrain = pop.get_data(\"spikes\").segments[0].spiketrains[0]\n",
    "print(f\"Das Neuron hat {len(spiketrain)} mal gefeuert.\")\n",
    "print(f\"Die Zeitpunkte der Spikes waren: {spiketrain}\")\n",
    "\n",
    "# Auch sein Membranpotential kann geplottet werden.\n",
    "mem_v = pop.get_data(\"v\").segments[0].irregularlysampledsignals[0]\n",
    "\n",
    "# Ein Modul zur grafischen Darstellung wird geladen.\n",
    "%matplotlib inline\n",
    "import matplotlib.pyplot as plt\n",
    "\n",
    "# Die Grafik wird erstellt.\n",
    "# Das Membranpotential ist in Hardware Einheiten gegeben.\n",
    "plt.figure()\n",
    "plt.plot(mem_v.times, mem_v)\n",
    "plt.xlabel(\"Zeit [ms]\")\n",
    "plt.ylabel(\"Membranpotential [LSB]\")\n",
    "plt.show()"
   ]
  }
 ],
 "metadata": {
  "date": 1701248871.5963464,
  "filename": "gs_02_pynn_introduction.rst",
  "kernelspec": {
   "display_name": "EBRAINS-experimental",
   "language": "python",
   "name": "ebrains-experimental"
  },
  "title": "Wie können wir mit den künstlichen Nervenzellen kommunizieren?"
 },
 "nbformat": 4,
 "nbformat_minor": 5
}