{
 "cells": [],
 "metadata": {
  "date": 1731315138.6579592,
  "filename": "common_note_helpers.rst",
  "kernelspec": {
   "display_name": "Python",
   "language": "python3",
   "name": "python3"
  }
 },
 "nbformat": 4,
 "nbformat_minor": 5
}