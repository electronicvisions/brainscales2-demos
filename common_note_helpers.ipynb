{
 "cells": [],
 "metadata": {
  "date": 1741779496.3370178,
  "filename": "common_note_helpers.rst",
  "kernelspec": {
   "display_name": "EBRAINS-experimental",
   "language": "python3",
   "name": "ebrains-experimental"
  }
 },
 "nbformat": 4,
 "nbformat_minor": 5
}