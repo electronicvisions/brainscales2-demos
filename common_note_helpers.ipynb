{
 "cells": [],
 "metadata": {
  "date": 1734550620.340505,
  "filename": "common_note_helpers.rst",
  "kernelspec": {
   "display_name": "EBRAINS-experimental",
   "language": "python3",
   "name": "ebrains-experimental"
  }
 },
 "nbformat": 4,
 "nbformat_minor": 5
}