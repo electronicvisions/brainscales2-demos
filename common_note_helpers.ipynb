{
 "cells": [],
 "metadata": {
  "date": 1740990467.6468134,
  "filename": "common_note_helpers.rst",
  "kernelspec": {
   "display_name": "Python",
   "language": "python3",
   "name": "python3"
  }
 },
 "nbformat": 4,
 "nbformat_minor": 5
}