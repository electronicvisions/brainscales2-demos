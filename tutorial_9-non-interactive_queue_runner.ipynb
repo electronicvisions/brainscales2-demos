{
 "cells": [
  {
   "cell_type": "markdown",
   "id": "2cfa7ebb",
   "metadata": {},
   "source": [
    "# Introduction to the non-interactive queue runner\n",
    "\n",
    "Welcome to this tutorial of using pyNN for the BrainScaleS-2 neuromorphic accelerator with the non-interactive queue runner.\n",
    "We will guide you through all the steps necessary to interact with the system and help you explore the capabilities of the on-chip analog neurons and synapses.\n",
    "A tutorial of the interactive usage can be found in [BrainScaleS-2 single neuron experiments](tutorial_1-single_neuron.ipynb#brainscales-2-single-neuron-experiments)."
   ]
  },
  {
   "cell_type": "code",
   "execution_count": null,
   "id": "e4618fa9",
   "metadata": {
    "hide-output": false
   },
   "outputs": [],
   "source": [
    "!pip install -U hbp_neuromorphic_platform\n",
    "!pip install ebrains-drive\n",
    "%matplotlib inline"
   ]
  },
  {
   "cell_type": "code",
   "execution_count": null,
   "id": "a0447a54",
   "metadata": {
    "hide-output": false
   },
   "outputs": [],
   "source": [
    "import nmpi\n",
    "client = nmpi.Client()\n",
    "import time\n",
    "import os\n",
    "import ebrains_drive\n",
    "import requests\n",
    "from ebrains_drive.client import DriveApiClient"
   ]
  },
  {
   "cell_type": "markdown",
   "id": "1df71e59",
   "metadata": {},
   "source": [
    "The next cell is a workaround for a missing functionality. Just run and ignore…"
   ]
  },
  {
   "cell_type": "code",
   "execution_count": null,
   "id": "1e303dc5",
   "metadata": {
    "hide-output": false
   },
   "outputs": [],
   "source": [
    "# Define helpers to store and extract required information of the currently used collab\n",
    "class RepositoryInformation:\n",
    "    def __init__(self, repository, repoInfo):\n",
    "        self.repository = repository\n",
    "        self.nameInTheUrl = repoInfo[\"name\"]\n",
    "        self.repoInfo = repoInfo\n",
    "\n",
    "    def toString(self):\n",
    "        return \"nameInTheUrl=\" + self.nameInTheUrl + \", full name=\" + \\\n",
    "            self.repository.name + \", id=\" + self.repository.id\n",
    "\n",
    "\n",
    "def findRepositoryInfoFromDriveDirectoryPath(homePath):\n",
    "    # Remove directory structure and subsequent folder names to extract the name of the collab\n",
    "    name = homePath.replace(\"/mnt/user/shared/\", \"\")\n",
    "    if name.find(\"/\") > -1:\n",
    "        name = name[:name.find(\"/\")]\n",
    "    bearer_token = clb_oauth.get_token()\n",
    "    ebrains_drive_client = ebrains_drive.connect(token=bearer_token)\n",
    "    repo_by_title = ebrains_drive_client.repos.get_repos_by_filter(\"name\", name)\n",
    "    if len(repo_by_title) != 1:\n",
    "        raise Exception(\"The repository for the collab name\", name,\n",
    "                        \"can not be found.\")\n",
    "\n",
    "    # With the repo_by_title we can get the drive ID\n",
    "    driveID = repo_by_title[0].id\n",
    "\n",
    "    # and then we can use the driveID to look up the collab\n",
    "    url = \"https://wiki.ebrains.eu/rest/v1/collabs?driveId=\" + driveID\n",
    "    response = requests.get(\n",
    "        url,\n",
    "        headers={'Authorization': 'Bearer %s' % bearer_token})\n",
    "    repo_info = response.json()\n",
    "    return RepositoryInformation(repo_by_title[0], repo_info)\n",
    "\n",
    "\n",
    "# Generate HBP client used to communicate with the hardware and extract\n",
    "# collab information from current working directory using the previously\n",
    "# defined helpers\n",
    "client = nmpi.Client()\n",
    "dir =!pwd\n",
    "repoInfo = findRepositoryInfoFromDriveDirectoryPath(dir[0])\n",
    "\n",
    "# Optionally: Set 'checkForQuota' to True to check if the currently used\n",
    "# collab has an existing quota\n",
    "checkForQuota = False\n",
    "if checkForQuota:\n",
    "    a = client.list_resource_requests(repoInfo.nameInTheUrl)\n",
    "    anyAccepted = False\n",
    "    if len(a) == 0:\n",
    "        print(\"This collab does not have any quota entry yet. Request a test quota. \"\n",
    "              \"This request will need to be reviewd and granted by an admin.\")\n",
    "        client.create_resource_request(\n",
    "            title=\"Test quota request for \" + repoInfo.nameInTheUrl,\n",
    "            collab_id=repoInfo.nameInTheUrl,\n",
    "            abstract=\"Test quota request\",\n",
    "            submit=True)\n",
    "    else:\n",
    "        for entry in a:\n",
    "            if entry[\"status\"] == \"accepted\":\n",
    "                print(\"An accepted quota request exists\")\n",
    "                anyAccepted = True\n",
    "        if not anyAccepted:\n",
    "            print(\"A quota request is present, but it has not yet been granted.\")\n",
    "    if not anyAccepted:\n",
    "        raise Exception(\n",
    "            \"This collab does not yet have an accepted quota entry. \"\n",
    "            \"Therefore submitting jobs will not yet work.\")"
   ]
  },
  {
   "cell_type": "markdown",
   "id": "90914527",
   "metadata": {},
   "source": [
    "Next, we define a function which is used to execute the experiments on the BrainScaleS-2 neuromorphic accelerator."
   ]
  },
  {
   "cell_type": "code",
   "execution_count": null,
   "id": "b3e2f217",
   "metadata": {
    "hide-output": false
   },
   "outputs": [],
   "source": [
    "from _static.common.collab_helpers import check_kernel\n",
    "\n",
    "# Check if compatible kernel version is used\n",
    "check_kernel()\n",
    "kernel_env = os.getenv(\"LAB_KERNEL_NAME\")\n",
    "if \"experimental\" in kernel_env:\n",
    "    software_version = \"experimental\"\n",
    "else:\n",
    "    software_version = \"stable\"\n",
    "\n",
    "# Directory where we save the experiment results\n",
    "outputDir = os.path.expanduser(\"~\")\n",
    "\n",
    "def execute_on_hardware(script_name):\n",
    "    \"\"\"\n",
    "    Sends the provided script to the local cluster, where it is scheduled and executed on\n",
    "    the neuromorphic chip. The result files are then loaded back into the collaboratory.\n",
    "    :param script_name: Name of the script which gets executed\n",
    "    :returns: Job id of executed job\n",
    "    \"\"\"\n",
    "    collab_id = repoInfo.nameInTheUrl\n",
    "\n",
    "    hw_config = {'SOFTWARE_VERSION': software_version}\n",
    "\n",
    "    StartAt=time.time()\n",
    "    # if connection broken, you need a new token (repeat the steps above)\n",
    "    job = client.submit_job(source=\"~/\"+script_name,\n",
    "                          platform=nmpi.BRAINSCALES2,\n",
    "                          collab_id=collab_id,\n",
    "                          config=hw_config,\n",
    "                          command=\"run.py\",\n",
    "                          wait=True)\n",
    "\n",
    "    timeUsed = time.time() - StartAt\n",
    "    job_id = job['id']\n",
    "    print(str(job_id) + \" time used: \" + str(timeUsed))\n",
    "    filenames = client.download_data(job, local_dir=os.path.expanduser(\"~\"))\n",
    "    print(\"All files: \",filenames)\n",
    "    return job_id"
   ]
  },
  {
   "cell_type": "markdown",
   "id": "fe4e24e8",
   "metadata": {},
   "source": [
    "## First Experiment\n",
    "\n",
    "Now we can start with the first experiment. Here, we will record the membrane of a single, silent\n",
    "neuron on the analog substrate.\n",
    "We save our experiment description to a python file and will send this file to a cluster in Heidelberg.\n",
    "In Heidelberg the experiment is executed on the BrainScaleS-2 neuromorphic system, the results are collected and send back."
   ]
  },
  {
   "cell_type": "code",
   "execution_count": null,
   "id": "6aebba7e",
   "metadata": {
    "hide-output": false
   },
   "outputs": [],
   "source": [
    "%%file ~/first_experiment.py\n",
    "# This first line is used to instruct the notebook not to execute the cell\n",
    "# but to write its content into a file.\n",
    "from neo.io import PickleIO\n",
    "import pynn_brainscales.brainscales2 as pynn\n",
    "# To begin with, we configure the logger used during our experiments\n",
    "\n",
    "pynn.logger.default_config(level=pynn.logger.LogLevel.INFO)\n",
    "logger = pynn.logger.get(\"single_neuron_demo\")\n",
    "\n",
    "# The pyNN-interface can be used similarly to existing simulators and other\n",
    "# neuromorphic platforms.\n",
    "pynn.setup()\n",
    "# In the current state, we only expose the neuron type 'HXNeuron',\n",
    "# which allows low-level access to all circuit parameters. It can be\n",
    "# configured by passing initial values to the respective Population.\n",
    "# Each population may consist of multiple neurons (in this case: one),\n",
    "# all sharing the same parameters.\n",
    "# Circuit parameters control the dynamic behaviour of the neuron as well as\n",
    "# static configuration. Most of them are either boolean or given in units of\n",
    "# 'LSB' for chip-internal Digital-to-Analog converters - they have no direct\n",
    "# biological translation.\n",
    "# For this first example, you may alter the leak potential and observe\n",
    "# the response of the analog neuron's resting potential.\n",
    "pop = pynn.Population(1, pynn.cells.HXNeuron(\n",
    "                      # Leak potential, range: 300-1000\n",
    "                      leak_v_leak=700,\n",
    "                      # Leak conductance, range: 0-1022\n",
    "                      leak_i_bias=1022)\n",
    "                 )\n",
    "# The chip contains a fast Analog-to-Digital converter. It can be used to\n",
    "# record different observables of a single analog neuron - most importantly\n",
    "# the membrane potential.\n",
    "#\n",
    "# The chip additionally includes slower, parallel ADCs which will allow for\n",
    "# parallel access to analog signals in multiple neurons. Support for this\n",
    "# ADC will be integrated in future versions of our pyNN-Api.\n",
    "pop.record([\"v\"])\n",
    "\n",
    "# Calling pynn.run(time_in_ms) will as a first step apply the static\n",
    "# configuration to the neuromorphic substrate. As a second step, the network\n",
    "# is evolved for a given amount of time and neurons are stimulated by any\n",
    "# stimuli specified by the user.\n",
    "# The time is given in units of milliseconds (wall clock time),\n",
    "# representing the hardware's intrinsic 1000-fold speed-up compared to\n",
    "# biological systems.\n",
    "pynn.run(0.2)\n",
    "\n",
    "# Store results to disk\n",
    "PickleIO(filename='first_experiment.dat').write_block(pop.get_data(\"v\"))\n",
    "\n",
    "# Reset the pyNN internal state and prepare for the following experiment\n",
    "pynn.end()"
   ]
  },
  {
   "cell_type": "code",
   "execution_count": null,
   "id": "80ac479c",
   "metadata": {
    "hide-output": false
   },
   "outputs": [],
   "source": [
    "first_experiment_id = execute_on_hardware('first_experiment.py')"
   ]
  },
  {
   "cell_type": "markdown",
   "id": "81410db4",
   "metadata": {},
   "source": [
    "The following helper function plots the membrane potential as well as any spikes found in the result file of the experiment. It will be used throughout this tutorial."
   ]
  },
  {
   "cell_type": "code",
   "execution_count": null,
   "id": "abca4a25",
   "metadata": {
    "hide-output": false
   },
   "outputs": [],
   "source": [
    "import matplotlib.pyplot as plt\n",
    "import numpy as np\n",
    "from neo.io import PickleIO\n",
    "\n",
    "def plot_membrane_dynamics(path : str):\n",
    "    \"\"\"\n",
    "    Load the neuron data from the given path and plot the membrane potential\n",
    "    and spiketrain of the first neuron.\n",
    "    :param path: Path to the result file\n",
    "    \"\"\"\n",
    "    # Experimental results are given in the 'neo' data format, the following\n",
    "    # lines extract membrane traces as well as spikes and construct a simple\n",
    "    # figure.\n",
    "    block = PickleIO(path).read_block()\n",
    "    for segment in block.segments:\n",
    "        if len(segment.irregularlysampledsignals) != 1:\n",
    "            raise ValueError(\"Plotting is supported for populations of size 1.\")\n",
    "        mem_v = segment.irregularlysampledsignals[0]\n",
    "        try:\n",
    "            for spiketime in segment.spiketrains[0]:\n",
    "                plt.axvline(spiketime, color=\"black\")\n",
    "        except IndexError:\n",
    "            print(\"No spikes found to plot.\")\n",
    "        plt.plot(mem_v.times, mem_v, alpha=0.5)\n",
    "    plt.xlabel(\"Wall clock time [ms]\")\n",
    "    plt.ylabel(\"ADC readout [a.u.]\")\n",
    "    plt.ylim(0, 1023)  # ADC precision: 10bit -> value range: 0-1023\n",
    "    plt.show()"
   ]
  },
  {
   "cell_type": "markdown",
   "id": "3274a90d",
   "metadata": {},
   "source": [
    "Plot the results of the first experiment."
   ]
  },
  {
   "cell_type": "code",
   "execution_count": null,
   "id": "2f9c93a6",
   "metadata": {
    "hide-output": false
   },
   "outputs": [],
   "source": [
    "plot_membrane_dynamics(f\"{outputDir}/job_{first_experiment_id}/first_experiment.dat\")"
   ]
  },
  {
   "cell_type": "markdown",
   "id": "2d8647c5",
   "metadata": {},
   "source": [
    "## Second Experiment\n",
    "\n",
    "As a second experiment, we will let the neurons on BrainScaleS-2 spike by setting a ‘leak-over-threshold’ configuration."
   ]
  },
  {
   "cell_type": "code",
   "execution_count": null,
   "id": "a5ded62f",
   "metadata": {
    "hide-output": false
   },
   "outputs": [],
   "source": [
    "%%file ~/second_experiment.py\n",
    "from neo.io import PickleIO\n",
    "import pynn_brainscales.brainscales2 as pynn\n",
    "\n",
    "pynn.logger.default_config(level=pynn.logger.LogLevel.INFO)\n",
    "logger = pynn.logger.get(\"single_neuron_demo\")\n",
    "\n",
    "pynn.setup()\n",
    "# Since spiking behavior requires the configuration of additional circuits\n",
    "# in the neuron, the initial values for our leak-over-threshold population\n",
    "# are more complex.\n",
    "# The different potentials (leak, reset, threshold) have no direct\n",
    "# correspondence: A configured leak potential of 300 might equal a\n",
    "# configured threshold potential of value 600 in natural units on the physical\n",
    "# system.\n",
    "pop = pynn.Population(1, pynn.cells.HXNeuron(\n",
    "                          # Leak potential, range: 300-1000\n",
    "                          leak_v_leak=1000,\n",
    "                          # Leak conductance, range: 0-1022\n",
    "                          leak_i_bias=200,\n",
    "                          # Threshold potential, range: 0-600\n",
    "                          threshold_v_threshold=300,\n",
    "                          # Reset potential, range: 300-1000\n",
    "                          reset_v_reset=400,\n",
    "                          # Membrane capacitance, range: 0-63\n",
    "                          membrane_capacitance_capacitance=63,\n",
    "                          # Refractory time, range: 0-255\n",
    "                          refractory_period_refractory_time=120,\n",
    "                          # Enable reset on threshold crossing\n",
    "                          threshold_enable=True,\n",
    "                          # Reset conductance, range: 0-1022\n",
    "                          reset_i_bias=1022,\n",
    "                          # Enable strengthening of reset conductance\n",
    "                          reset_enable_multiplication=True\n",
    "                      ))\n",
    "pop.record([\"v\", \"spikes\"])\n",
    "pynn.run(0.2)\n",
    "\n",
    "# Store results to disk\n",
    "PickleIO(filename='second_experiment.dat').write_block(pop.get_data())\n",
    "pynn.end()"
   ]
  },
  {
   "cell_type": "markdown",
   "id": "5a0dd743",
   "metadata": {},
   "source": [
    "Execute the experiment on the neuromorphic hardware and plot the results."
   ]
  },
  {
   "cell_type": "code",
   "execution_count": null,
   "id": "240fa75d",
   "metadata": {
    "hide-output": false
   },
   "outputs": [],
   "source": [
    "print(\"Starting 2nd experiment at \",time.ctime())\n",
    "second_experiment_id = execute_on_hardware('second_experiment.py')\n",
    "print(\"Start Plotting:\")\n",
    "plot_membrane_dynamics(f\"{outputDir}/job_{second_experiment_id}/second_experiment.dat\")"
   ]
  },
  {
   "cell_type": "markdown",
   "id": "b4113284",
   "metadata": {},
   "source": [
    "## Third Experiment: Fixed-pattern noise\n",
    "\n",
    "Due to the analog nature of the BrainScaleS-2 platform, the inevitable mismatch of semiconductor fabrication results in inhomogeneous properties of the computational elements.\n",
    "We will visualize these effects by recording the membrane potential of multiple neurons in leak-over-threshold configuration.\n",
    "You will notice different resting, reset and threshold potentials as well as varying membrane time constants."
   ]
  },
  {
   "cell_type": "code",
   "execution_count": null,
   "id": "41cd15d1",
   "metadata": {
    "hide-output": false
   },
   "outputs": [],
   "source": [
    "%%file ~/third_experiment.py\n",
    "from neo.io import PickleIO\n",
    "import pynn_brainscales.brainscales2 as pynn\n",
    "\n",
    "pynn.logger.default_config(level=pynn.logger.LogLevel.INFO)\n",
    "logger = pynn.logger.get(\"single_neuron_demo\")\n",
    "\n",
    "pynn.setup()\n",
    "num_neurons = 10\n",
    "p = pynn.Population(num_neurons, pynn.cells.HXNeuron(\n",
    "                        # Leak potential, range: 300-1000\n",
    "                        leak_v_leak=1000,\n",
    "                        # Leak conductance, range: 0-1022\n",
    "                        leak_i_bias=200,\n",
    "                        # Threshold potential, range: 0-600\n",
    "                        threshold_v_threshold=300,\n",
    "                        # Reset potential, range: 300-1000\n",
    "                        reset_v_reset=400,\n",
    "                        # Membrane capacitance, range: 0-63\n",
    "                        membrane_capacitance_capacitance=63,\n",
    "                        # Refractory time, range: 0-255\n",
    "                        refractory_period_refractory_time=120,\n",
    "                        # Enable reset on threshold crossing\n",
    "                        threshold_enable=True,\n",
    "                        # Reset conductance, range: 0-1022\n",
    "                        reset_i_bias=1022,\n",
    "                        # Enable strengthening of reset conductance\n",
    "                        reset_enable_multiplication=True\n",
    "                   ))\n",
    "for neuron_id in range(num_neurons):\n",
    "    logger.INFO(f\"Recording analog variations: Run {neuron_id}\")\n",
    "    # Remove recording of previously selected neuron\n",
    "    p.record(None)\n",
    "    # Record neuron with current neuron id\n",
    "    p_view = pynn.PopulationView(p, [neuron_id])\n",
    "    p_view.record([\"v\"])\n",
    "    pynn.run(0.1)\n",
    "    pynn.reset()\n",
    "\n",
    "# Store results to disk\n",
    "PickleIO(filename='third_experiment.dat').write_block(p.get_data())"
   ]
  },
  {
   "cell_type": "markdown",
   "id": "629c6e6b",
   "metadata": {},
   "source": [
    "Execute the experiment on the neuromorphic hardware and plot the results."
   ]
  },
  {
   "cell_type": "code",
   "execution_count": null,
   "id": "0a4e6182",
   "metadata": {
    "hide-output": false
   },
   "outputs": [],
   "source": [
    "third_experiment_id = execute_on_hardware('third_experiment.py')\n",
    "print(\"Start Plotting:\")\n",
    "plot_membrane_dynamics(f\"{outputDir}/job_{third_experiment_id}/third_experiment.dat\")"
   ]
  },
  {
   "cell_type": "markdown",
   "id": "c11fa26a",
   "metadata": {},
   "source": [
    "The plot shows the recorded membrane traces of multiple different neurons.\n",
    "Due to the time-continuous nature of the system, there is no temporal alignment between the individual traces, so the figure shows multiple independent effects:\n",
    "* Temporal misalignment: From the system’s view, the recording happens in an arbitrary time frame during the continuously evolving integration. Neurons are not synchronized to each other.\n",
    "* Circuit-level mismatch: Each individual neurons shows slightly different analog properties. The threshold is different for all traces; as is the membrane time constant (visible as slope) and the reset potentials (visible as plateaus during the refractory time)."
   ]
  },
  {
   "cell_type": "markdown",
   "id": "f7ec792d",
   "metadata": {},
   "source": [
    "## Fourth Experiment: External stimulation\n",
    "\n",
    "Up to now, we have observed analog neurons without external stimulus. In\n",
    "this experiment, we will introduce the latter and examine post-synaptic\n",
    "pulses on the analog neuron’s membrane."
   ]
  },
  {
   "cell_type": "code",
   "execution_count": null,
   "id": "ae7b2a0f",
   "metadata": {
    "hide-output": false
   },
   "outputs": [],
   "source": [
    "%%file ~/fourth_experiment.py\n",
    "from neo.io import PickleIO\n",
    "import pynn_brainscales.brainscales2 as pynn\n",
    "from pynn_brainscales.brainscales2.standardmodels.synapses import StaticSynapse\n",
    "\n",
    "pynn.logger.default_config(level=pynn.logger.LogLevel.INFO)\n",
    "logger = pynn.logger.get(\"single_neuron_demo\")\n",
    "\n",
    "pynn.setup()\n",
    "\n",
    "# Preparing the neuron to receive synaptic inputs requires the configuration\n",
    "# of additional circuits. The additional settings include technical parameters\n",
    "# for bringing the circuit to its designed operating point as well as\n",
    "# configuration with a direct biological equivalent.\n",
    "stimulated_p = pynn.Population(1, pynn.cells.HXNeuron(\n",
    "                                   # Leak potential, range: 300-1000\n",
    "                                   leak_v_leak=400,\n",
    "                                   # Leak conductance, range: 0-1022\n",
    "                                   leak_i_bias=200,\n",
    "                                   # Threshold potential, range: 0-600\n",
    "                                   threshold_v_threshold=400,\n",
    "                                   # Reset potential, range: 300-1000\n",
    "                                   reset_v_reset=300,\n",
    "                                   # Membrane capacitance, range: 0-63\n",
    "                                   membrane_capacitance_capacitance=63,\n",
    "                                   # Refractory time, range: 0-255\n",
    "                                   refractory_period_refractory_time=120,\n",
    "                                   # Enable reset on threshold crossing\n",
    "                                   threshold_enable=True,\n",
    "                                   # Reset conductance, range: 0-1022\n",
    "                                   reset_i_bias=1022,\n",
    "                                   # Enable strengthening of reset conductance\n",
    "                                   reset_enable_multiplication=True,\n",
    "                                   # -- Parameters for synaptic inputs -- #\n",
    "                                   # Enable synaptic stimulation\n",
    "                                   excitatory_input_enable=True,\n",
    "                                   inhibitory_input_enable=True,\n",
    "                                   # Strength of synaptic inputs\n",
    "                                   excitatory_input_i_bias_gm=1022,\n",
    "                                   inhibitory_input_i_bias_gm=1022,\n",
    "                                   # Synaptic time constants\n",
    "                                   excitatory_input_i_bias_tau=200,\n",
    "                                   inhibitory_input_i_bias_tau=200,\n",
    "                                   # Technical parameters\n",
    "                                   excitatory_input_i_shift_reference=300,\n",
    "                                   inhibitory_input_i_shift_reference=300))\n",
    "stimulated_p.record([\"v\", \"spikes\"])\n",
    "\n",
    "# Create off-chip populations serving as excitatory external spike sources\n",
    "exc_spiketimes = [0.01, 0.05, 0.080]\n",
    "exc_stim_pop = pynn.Population(1, pynn.cells.SpikeSourceArray,\n",
    "                               cellparams=dict(spike_times=exc_spiketimes))\n",
    "\n",
    "# We represent projections as entries in the synapse matrix on the neuromorphic\n",
    "# chip. Weights are stored in digital 6bit values (plus sign), the value\n",
    "# range for on-chip weights is therefore -63 to 63.\n",
    "# With this first projection, we connect the external spike source to the\n",
    "# observed on-chip neuron population.\n",
    "pynn.Projection(exc_stim_pop, stimulated_p,\n",
    "                pynn.AllToAllConnector(),\n",
    "                synapse_type=StaticSynapse(weight=63),\n",
    "                receptor_type=\"excitatory\")\n",
    "\n",
    "# Create off-chip populations serving as inhibitory external spike sources\n",
    "inh_spiketimes = [0.03]\n",
    "inh_stim_pop = pynn.Population(1, pynn.cells.SpikeSourceArray,\n",
    "                               cellparams=dict(spike_times=inh_spiketimes))\n",
    "pynn.Projection(inh_stim_pop, stimulated_p,\n",
    "                pynn.AllToAllConnector(),\n",
    "                synapse_type=StaticSynapse(weight=-42),\n",
    "                receptor_type=\"inhibitory\")\n",
    "\n",
    "# You may play around with the parameters in this experiment to achieve\n",
    "# different traces. Try to stack multiple PSPs, try to make the neurons spike,\n",
    "# try to investigate differences between individual neuron instances,\n",
    "# be creative!\n",
    "pynn.run(0.1)\n",
    "# Store results to disk\n",
    "PickleIO(filename='fourth_experiment.dat').write_block(stimulated_p.get_data())"
   ]
  },
  {
   "cell_type": "markdown",
   "id": "af16f60e",
   "metadata": {},
   "source": [
    "Execute the experiment on the neuromorphic hardware and plot the results."
   ]
  },
  {
   "cell_type": "code",
   "execution_count": null,
   "id": "0ac7403c",
   "metadata": {
    "hide-output": false
   },
   "outputs": [],
   "source": [
    "print(\"Starting 4th experiment at \",time.ctime())\n",
    "fourth_experiment_id = execute_on_hardware('fourth_experiment.py')\n",
    "print(\"Start Plotting:\")\n",
    "plot_membrane_dynamics(f\"{outputDir}/job_{fourth_experiment_id}/fourth_experiment.dat\")"
   ]
  }
 ],
 "metadata": {
  "date": 1679561231.5792904,
  "filename": "tutorial_9-non-interactive_queue_runner.rst",
  "kernelspec": {
   "display_name": "Python",
   "language": "python3",
   "name": "python3"
  },
  "title": "Introduction to the non-interactive queue runner"
 },
 "nbformat": 4,
 "nbformat_minor": 5
}