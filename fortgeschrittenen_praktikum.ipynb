{
 "cells": [
  {
   "cell_type": "markdown",
   "id": "cf650715",
   "metadata": {},
   "source": [
    "# Welcome to the Advanced Physics Lab for Physicists by the Electronic Vision(s) Group\n",
    "\n",
    "<img src=\"_static/fp/bss2.jpg\" style=\"\">\n",
    "\n",
    "Hello and welcome to this lab course!"
   ]
  }
 ],
 "metadata": {
  "date": 1701248871.514977,
  "filename": "fortgeschrittenen_praktikum.rst",
  "kernelspec": {
   "display_name": "EBRAINS-experimental",
   "language": "python",
   "name": "ebrains-experimental"
  },
  "title": "Welcome to the Advanced Physics Lab for Physicists by the Electronic Vision(s) Group"
 },
 "nbformat": 4,
 "nbformat_minor": 5
}