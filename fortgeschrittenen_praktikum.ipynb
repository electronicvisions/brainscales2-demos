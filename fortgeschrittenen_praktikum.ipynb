{
 "cells": [
  {
   "cell_type": "markdown",
   "id": "18b55c5c",
   "metadata": {},
   "source": [
    "# Welcome to the Advanced Physics Lab for Physicists by the Electronic Vision(s) Group\n",
    "\n",
    "<img src=\"_static/fp/bss2.jpg\" style=\"\">\n",
    "\n",
    "Hello and welcome to this lab course! You will learn the basic tools for running experiments on the BrainScaleS-2 platform. We invite you to read the following material before you start the lab course.\n",
    "\n",
    "- [Biological background](fp_biological-background.ipynb)\n",
    "- [Neuromorphic computing](fp_neuromorphic-computing.ipynb)\n",
    "- [The BrainScaleS-2 system](fp_brainscales.ipynb)\n",
    "- [Introduction to PyNN](fp_pynn_introduction.ipynb)\n",
    "- [Lu.i experiment](fp_lui.ipynb)\n",
    "- [Investigating a single neuron](fp_singleNeuron.ipynb)\n",
    "- [A simple feedforward network](fp_synfireChain.ipynb)\n",
    "- [Solving sudokus with BrainScaleS-2](fp_sudoku.ipynb)"
   ]
  },
  {
   "cell_type": "markdown",
   "id": "82c6d3ee",
   "metadata": {},
   "source": [
    "## Optional experiments\n",
    "\n",
    "> - [Calibration: Characterising and Measuring Analog Behaviour](fp_calibration.ipynb)\n",
    "- [Synaptic Input for Neurons](fp_synapticInput.ipynb)\n",
    "- [Complex Neuron Dynamics with a Silicon Adaptive Exponential Integrate-and-Fire Neuron](fp_adex_complex_dynamics.ipynb)\n",
    "- [Multicompartmental Neurons](fp_multicompartment.ipynb)\n",
    "- [Learning with the SuperSpike rule](fp_superspike.ipynb)"
   ]
  },
  {
   "cell_type": "markdown",
   "id": "007d893e",
   "metadata": {},
   "source": [
    "## References\n",
    "\n",
    "If you are curious and want to learn more about the kind of work that has been done with the system, here are a few references that you can check out\n",
    "\n",
    "- [The BrainScaleS-2 Accelerated Neuromorphic System With Hybrid Plasticity](https://www.frontiersin.org/articles/10.3389/fnins.2022.795876/full)  \n",
    "- [Surrogate gradients for analog neuromorphic computing](https://www.pnas.org/doi/full/10.1073/pnas.2109194119)  \n",
    "- [Versatile emulation of spiking neural networks on an accelerated neuromorphic substrate](https://ieeexplore.ieee.org/document/9180741)  \n",
    "- [hxtorch: PyTorch for BrainScaleS-2 – Perceptrons on Analog Neuromorphic Hardware](https://link.springer.com/chapter/10.1007/978-3-030-66770-2_14)  \n",
    "- [Control of criticality and computation in spiking neuromorphic networks with plasticity](https://www.nature.com/articles/s41467-020-16548-3)  \n",
    "- [Demonstrating Advantages of Neuromorphic Computation: A Pilot Study](https://www.frontiersin.org/articles/10.3389/fnins.2019.00260)  \n",
    "- [Fast and energy-efficient neuromorphic deep learning with first-spike times](https://www.nature.com/articles/s42256-021-00388-x)  \n",
    "- [Inference with Artificial Neural Networks on Analog Neuromorphic Hardware](https://link.springer.com/chapter/10.1007/978-3-030-66770-2_15)  \n",
    "- [Spiking neuromorphic chip learns entangled quantum states](https://arxiv.org/abs/2008.01039)  \n",
    "- [Structural plasticity on an accelerated analog neuromorphic hardware system](https://www.sciencedirect.com/science/article/pii/S0893608020303555)  \n",
    "- [Emulating dendritic computing paradigms on analog neuromorphic hardware](https://www.sciencedirect.com/science/article/pii/S0306452221004218)  "
   ]
  }
 ],
 "metadata": {
  "date": 1740990467.6972802,
  "filename": "fortgeschrittenen_praktikum.rst",
  "kernelspec": {
   "display_name": "EBRAINS-experimental",
   "language": "python",
   "name": "ebrains-experimental"
  },
  "title": "Welcome to the Advanced Physics Lab for Physicists by the Electronic Vision(s) Group"
 },
 "nbformat": 4,
 "nbformat_minor": 5
}