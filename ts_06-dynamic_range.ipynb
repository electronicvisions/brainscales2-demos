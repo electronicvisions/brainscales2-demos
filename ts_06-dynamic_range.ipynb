{
 "cells": [
  {
   "cell_type": "markdown",
   "id": "af3b5dee",
   "metadata": {},
   "source": [
    "\n",
    "<a id='dynamic-range'></a>"
   ]
  },
  {
   "cell_type": "markdown",
   "id": "5f2c5636",
   "metadata": {},
   "source": [
    "# Exploring the dynamic range\n",
    "\n",
    "In this example we’ll explore the dynamic range of synaptic stimulation.\n",
    "\n",
    "We will\n",
    "\n",
    "- set up a network using PyNN  \n",
    "- incrementally add more and more synaptic stimulation  \n",
    "- quantify the effect of the synaptic stimulation on the membrane of different neurons for excitatory and inhibitory stimulation  \n",
    "\n",
    "\n",
    "In order to use the microscheduler we have to set some environment variables first:"
   ]
  },
  {
   "cell_type": "code",
   "execution_count": null,
   "id": "8f4aabf2",
   "metadata": {
    "hide-output": false
   },
   "outputs": [],
   "source": [
    "from _static.common.helpers import setup_hardware_client\n",
    "setup_hardware_client()"
   ]
  },
  {
   "cell_type": "markdown",
   "id": "7b9dcfb2",
   "metadata": {},
   "source": [
    "We’ll also configure matplotlib and import some tools."
   ]
  },
  {
   "cell_type": "code",
   "execution_count": null,
   "id": "36750fa5",
   "metadata": {
    "hide-output": false
   },
   "outputs": [],
   "source": [
    "%matplotlib inline\n",
    "import numpy as np\n",
    "import pandas as pd\n",
    "import itertools\n",
    "import matplotlib.pyplot as plt\n",
    "from contextlib import suppress\n",
    "with suppress(IOError):\n",
    "    plt.style.use(\"_static/matplotlibrc\")\n",
    "\n",
    "import pynn_brainscales.brainscales2 as pynn"
   ]
  },
  {
   "cell_type": "markdown",
   "id": "746b1f75",
   "metadata": {},
   "source": [
    "Before we define our network, we load the default calibration.\n",
    "\n",
    "A default calibration is generated for every setup every night.\n",
    "We save the nightly calibration in two variables such that we can use it later when we define our neuronal network."
   ]
  },
  {
   "cell_type": "code",
   "execution_count": null,
   "id": "3ca19794",
   "metadata": {
    "hide-output": false
   },
   "outputs": [],
   "source": [
    "from _static.common.helpers import get_nightly_calibration\n",
    "calib = get_nightly_calibration()"
   ]
  },
  {
   "cell_type": "markdown",
   "id": "8dfde789",
   "metadata": {},
   "source": [
    "## Define network in PyNN\n",
    "\n",
    "First, we will set up some variables determining the sweep we want to perform."
   ]
  },
  {
   "cell_type": "code",
   "execution_count": null,
   "id": "5dfd49df",
   "metadata": {
    "hide-output": false
   },
   "outputs": [],
   "source": [
    "neurons = range(0, 512, 64)\n",
    "weights = range(0, 300, 32)\n",
    "receptor_types = [\"inhibitory\", \"excitatory\"]"
   ]
  },
  {
   "cell_type": "markdown",
   "id": "f50ea906",
   "metadata": {},
   "source": [
    "We will store the results in a dictionary."
   ]
  },
  {
   "cell_type": "code",
   "execution_count": null,
   "id": "47219df8",
   "metadata": {
    "hide-output": false
   },
   "outputs": [],
   "source": [
    "from collections import defaultdict\n",
    "results = defaultdict(list)"
   ]
  },
  {
   "cell_type": "markdown",
   "id": "0acc3907",
   "metadata": {},
   "source": [
    "We configure the logger to print some output during the run."
   ]
  },
  {
   "cell_type": "code",
   "execution_count": null,
   "id": "02818af3",
   "metadata": {
    "hide-output": false
   },
   "outputs": [],
   "source": [
    "log = pynn.logger.get(\"dynamic_range\")\n",
    "pynn.logger.set_loglevel(log, pynn.logger.LogLevel.INFO)"
   ]
  },
  {
   "cell_type": "markdown",
   "id": "3e0fd3fa",
   "metadata": {},
   "source": [
    "Next we run the network multiple times with various configurations."
   ]
  },
  {
   "cell_type": "code",
   "execution_count": null,
   "id": "cd1a0624",
   "metadata": {
    "hide-output": false
   },
   "outputs": [],
   "source": [
    "from dlens_vx_v3 import hxcomm\n",
    "\n",
    "# to speed things up, we keep the connection alive between experiments\n",
    "with hxcomm.ManagedConnection() as connection:\n",
    "\n",
    "    for neuron, receptor_type in itertools.product(neurons, receptor_types):\n",
    "\n",
    "        # the neuronPerm\n",
    "        pynn.setup(connection=connection,\n",
    "                   neuronPermutation=[neuron],\n",
    "                   initial_config=calib)\n",
    "\n",
    "        # always have only 1 neuron\n",
    "        number_of_neurons = 1\n",
    "\n",
    "        population = pynn.Population(number_of_neurons,\n",
    "                                     pynn.cells.HXNeuron())\n",
    "\n",
    "        # disable spiking\n",
    "        population.set(threshold_enable=False)\n",
    "\n",
    "        # record the membrane voltage\n",
    "        population.record(\"v\")\n",
    "\n",
    "\n",
    "        input_spiketimes = [0.5]\n",
    "        stimulus = pynn.Population(1,\n",
    "                                   pynn.cells.SpikeSourceArray(spike_times=input_spiketimes))\n",
    "        proj = pynn.Projection(stimulus,\n",
    "                               population,\n",
    "                               pynn.AllToAllConnector(),\n",
    "                               receptor_type=receptor_type,\n",
    "                               synapse_type=pynn.standardmodels.synapses.StaticSynapse(weight=0))\n",
    "\n",
    "        # Adjust weights of existing projections and add new projections if the desired weight\n",
    "        # exceeds the maximum weight which can currently be implemented.\n",
    "        for w in weights:\n",
    "\n",
    "            sign = 1 if receptor_type == \"excitatory\" else -1\n",
    "\n",
    "            proj.set(weight=sign * w)\n",
    "\n",
    "            pynn.run(1) # ms (hw)\n",
    "            membrane = population.get_data().segments[-1].irregularlysampledsignals[0]\n",
    "\n",
    "            min_membrane = float(membrane.min())\n",
    "            max_membrane = float(membrane.max())\n",
    "\n",
    "            results[\"weight\"].append(w)\n",
    "            results[\"receptor_type\"].append(receptor_type)\n",
    "            results[\"neuron\"].append(neuron)\n",
    "            results[\"membrane_min\"].append(min_membrane)\n",
    "            results[\"membrane_max\"].append(max_membrane)\n",
    "\n",
    "            log.info(f\"{neuron=} {receptor_type=} {w=} \"\n",
    "                     f\"{min_membrane=} {max_membrane=}\")\n",
    "\n",
    "            pynn.reset()\n",
    "\n",
    "        pynn.end()\n",
    "\n",
    "    log.info(\"experiment done\")\n",
    "\n",
    "    df = pd.DataFrame.from_dict(results)\n",
    "\n",
    "    log.info(\"DataFrame created\")"
   ]
  },
  {
   "cell_type": "markdown",
   "id": "612b4121",
   "metadata": {},
   "source": [
    "Now, all results are stored in the Pandas DataFrame that we can analyse with the code below.\n",
    "For the excitatory stimulation we plot the mean of the maximum of the membrane trace and the variance over the neurons.\n",
    "We do the same for the inhibitory stimulation but take the minimum of the membrane trace this time.\n",
    "\n",
    "First we aggregate over the neurons and create convience columns for the analysis:"
   ]
  },
  {
   "cell_type": "code",
   "execution_count": null,
   "id": "738e11bb",
   "metadata": {
    "hide-output": false
   },
   "outputs": [],
   "source": [
    "def aggregate(df):\n",
    "    return (df\n",
    "            .groupby(['receptor_type', 'weight'])\n",
    "            .agg(**{f\"{method}_{col}\" : (col, method) for col, method\n",
    "                               in itertools.product([\"membrane_min\", \"membrane_max\"],\n",
    "                                                    ['mean', 'std'])})\n",
    "            .reset_index()\n",
    "    )\n",
    "df_agg = aggregate(df)"
   ]
  },
  {
   "cell_type": "markdown",
   "id": "11c6b612",
   "metadata": {},
   "source": [
    "Next we define a helper function to plot the variance over the neurons as an error band:"
   ]
  },
  {
   "cell_type": "code",
   "execution_count": null,
   "id": "4213dd30",
   "metadata": {
    "hide-output": false
   },
   "outputs": [],
   "source": [
    "def plot_with_errorband(ax, x, y, error, label, color):\n",
    "    ax.plot(x, y, '-', color=color)\n",
    "    ax.fill_between(x, y-error, y+error, label=label, color=color, alpha=0.7)"
   ]
  },
  {
   "cell_type": "markdown",
   "id": "e2db5056",
   "metadata": {},
   "source": [
    "Now we can do the final plot:"
   ]
  },
  {
   "cell_type": "code",
   "execution_count": null,
   "id": "0e948f31",
   "metadata": {
    "hide-output": false
   },
   "outputs": [],
   "source": [
    "fig, ax = plt.subplots()\n",
    "\n",
    "lookup = {'excitatory_color' : \"tab:blue\",\n",
    "          'inhibitory_color' : \"tab:orange\",\n",
    "          'excitatory_column' : \"membrane_max\",\n",
    "          'inhibitory_column' : \"membrane_min\"}\n",
    "\n",
    "for receptor_type in ['excitatory', 'inhibitory']:\n",
    "\n",
    "    df_ = df_agg[df_agg.receptor_type==receptor_type]\n",
    "\n",
    "    color = lookup[f\"{receptor_type}_color\"]\n",
    "    column = lookup[f\"{receptor_type}_column\"]\n",
    "\n",
    "    plot_with_errorband(ax=ax,\n",
    "                        x=df_[\"weight\"],\n",
    "                        y=df_[f\"mean_{column}\"],\n",
    "                        error=df_[f\"std_{column}\"],\n",
    "                        label=receptor_type,\n",
    "                        color=color)\n",
    "\n",
    "\n",
    "ax.set_xlabel(\"weight\")\n",
    "ax.set_ylabel(\"membrane min/max [MADC]\")\n",
    "ax.legend()"
   ]
  }
 ],
 "metadata": {
  "date": 1734550621.136368,
  "filename": "ts_06-dynamic_range.rst",
  "kernelspec": {
   "display_name": "EBRAINS-experimental",
   "language": "python3",
   "name": "ebrains-experimental"
  },
  "title": "Exploring the dynamic range"
 },
 "nbformat": 4,
 "nbformat_minor": 5
}