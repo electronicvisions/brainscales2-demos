{
 "cells": [
  {
   "cell_type": "markdown",
   "id": "8f111b39",
   "metadata": {},
   "source": [
    "# Investigating a single neuron\n",
    "\n",
    "In this task you can familiarise yourself with the way you will interact with the BrainScaleS-2 chip during the lab exercises.\n",
    "For all tasks there exist jupyter notebooks that are intended to be used as a basis for the results.\n",
    "If you are not familiar with python or jupyter notebooks before beginning this lab course, we recommend that you spend some time beforehand to familiarise yourself.\n",
    "\n",
    "During the execution of some of the notebook cells, you will cause an experiment to be run on a BrainScaleS-2 system remotely.\n",
    "You will find that due to the analog nature of some of the system’s implementation the execution is not deterministic, i.e., not each hardware execution will result in the same outcome.\n",
    "\n",
    "Generally speaking the simplest hardware experiment can be divided in three steps\n",
    "\n",
    "- hardware configuration  \n",
    "- hardware execution  \n",
    "- analysis of hardware observables.  \n",
    "\n",
    "\n",
    "More sophisticated experiments can involve multiple iterations of these basic three steps or a subset of them.\n",
    "At the level of abstraction you will be working on for these lab exercises, most of the intricacies of the hardware configuration and execution will be hidden behind a common high-level API, called PyNN.\n",
    "\n",
    "In the next section we will set up a connection to an RPC server that multiplexes connections to the hardware, which will allow us to work with the system interactively.\n",
    "This process is handled by a custom microscheduler (*quiggeldy*), a conceptual view of which you can see in the following figure.\n",
    "The actual hardware execution time has been colored in blue.\n",
    "\n",
    "<img src=\"_static/tutorial/daas_multi.png\" style=\"width:65%;\" align=\"center\">\n",
    "\n",
    "At the end of this notebook you will find a number of exercises to complete."
   ]
  },
  {
   "cell_type": "markdown",
   "id": "483b287a",
   "metadata": {},
   "source": [
    "## Experiment setup\n",
    "\n",
    "To prepare for the execution of experiments on the neuromorphic system, you have to first connect to the scheduling server as follows.\n",
    "You will need to run this cell once after starting or resetting the Jupyter backend.\n",
    "The easiest way to escape from a broken state, will be to select “Kernel -> Restart” in the menu above and reexecute the following cell."
   ]
  },
  {
   "cell_type": "code",
   "execution_count": null,
   "id": "31187178",
   "metadata": {
    "hide-output": false
   },
   "outputs": [],
   "source": [
    "from _static.common.helpers import setup_hardware_client\n",
    "setup_hardware_client()"
   ]
  },
  {
   "cell_type": "markdown",
   "id": "11eb7032",
   "metadata": {},
   "source": [
    "A default calibration is generated for every setup every night.\n",
    "We save the nightly calibration in two variables such that we can use it later when we define our neuronal network."
   ]
  },
  {
   "cell_type": "code",
   "execution_count": null,
   "id": "066a164e",
   "metadata": {
    "hide-output": false
   },
   "outputs": [],
   "source": [
    "from _static.common.helpers import get_nightly_calibration\n",
    "calib = get_nightly_calibration()"
   ]
  },
  {
   "cell_type": "markdown",
   "id": "36e1d668",
   "metadata": {},
   "source": [
    "We store results for documentation and to perform evaluations in a common\n",
    "place for each of the tasks."
   ]
  },
  {
   "cell_type": "code",
   "execution_count": null,
   "id": "6ba5af22",
   "metadata": {
    "hide-output": false
   },
   "outputs": [],
   "source": [
    "import pathlib\n",
    "results_folder = pathlib.Path('results/task1')\n",
    "results_folder.mkdir(parents=True, exist_ok=True)"
   ]
  },
  {
   "cell_type": "markdown",
   "id": "f8ab4404",
   "metadata": {},
   "source": [
    "We start by importing the relevant python packages we need for our experiment and setting up the enviroment for experiment execution."
   ]
  },
  {
   "cell_type": "code",
   "execution_count": null,
   "id": "6079291b",
   "metadata": {
    "hide-output": false
   },
   "outputs": [],
   "source": [
    "import pynn_brainscales.brainscales2 as pynn\n",
    "\n",
    "from pynn_brainscales.brainscales2 import Population\n",
    "from pynn_brainscales.brainscales2.standardmodels.cells import SpikeSourceArray\n",
    "from pynn_brainscales.brainscales2.standardmodels.synapses import StaticSynapse"
   ]
  },
  {
   "cell_type": "markdown",
   "id": "70b08b8f",
   "metadata": {},
   "source": [
    "The following function allows us to quickly plot the membrane trace and spikes of a neuron."
   ]
  },
  {
   "cell_type": "code",
   "execution_count": null,
   "id": "69d42726",
   "metadata": {
    "hide-output": false
   },
   "outputs": [],
   "source": [
    "%matplotlib inline\n",
    "\n",
    "import matplotlib.pyplot as plt\n",
    "import numpy as np\n",
    "import time\n",
    "\n",
    "plt.style.use(\"_static/matplotlibrc\")\n",
    "\n",
    "def plot_membrane_dynamics(population: Population, segment_id=-1, ylim=None):\n",
    "    \"\"\"\n",
    "    Plot the membrane potential of the neuron in a given population view. Only\n",
    "    population views of size 1 are supported.\n",
    "    :param population: Population, membrane traces and spikes are plotted for.\n",
    "    :param segment_id: Index of the neo segment to be plotted. Defaults to\n",
    "                       -1, encoding the last recorded segment.\n",
    "    :param ylim: y-axis limits for the plot.\n",
    "    \"\"\"\n",
    "    if len(population) != 1:\n",
    "        raise ValueError(\"Plotting is supported for populations of size 1.\")\n",
    "    # Experimental results are given in the 'neo' data format\n",
    "    mem_v = population.get_data(\"v\").segments[segment_id].irregularlysampledsignals[0]\n",
    "    spikes = population.get_data(\"spikes\").segments[-1].spiketrains[0]\n",
    "\n",
    "    plt.plot(mem_v.times, mem_v, alpha=0.5, color='black')\n",
    "\n",
    "    # indicate the spikes as red dots\n",
    "    plt.scatter(spikes, np.max(mem_v)*np.ones_like(spikes), color='red')\n",
    "    plt.xlabel(\"Wall clock time [ms]\")\n",
    "    plt.ylabel(\"ADC readout [a.u.]\")\n",
    "    if ylim:\n",
    "        plt.ylim(ylim)"
   ]
  },
  {
   "cell_type": "markdown",
   "id": "b8e01ed4",
   "metadata": {},
   "source": [
    "For our first experiment, we create a single neuron and record its spikes as well as its membrane potential."
   ]
  },
  {
   "cell_type": "code",
   "execution_count": null,
   "id": "d0116403",
   "metadata": {
    "hide-output": false
   },
   "outputs": [],
   "source": [
    "def experiment(title, v_leak, v_threshold, v_reset, i_bias_leak, savefig = False):\n",
    "     \"\"\"\n",
    "     Set up a leak over threshold neuron.\n",
    "\n",
    "     :param v_leak: Leak potential.\n",
    "     :param v_threshold: Spike threshold potential.\n",
    "     :param v_reset: Reset potential.\n",
    "     :param i_bias_leak: Controls the leak conductance (membrane time constant).\n",
    "     :param savefig: Save the experiment figure.\n",
    "     \"\"\"\n",
    "\n",
    "     plt.figure()\n",
    "     plt.title(title)\n",
    "\n",
    "     # everything between pynn.setup() and pynn.end()\n",
    "     # below is part of one hardware run.\n",
    "     pynn.setup()\n",
    "\n",
    "     # a pynn.Population corresponds to a certain number of\n",
    "     # neuron circuits on the chip\n",
    "     pop = pynn.Population(1, pynn.cells.HXNeuron(\n",
    "         # Leak potential, range: 400-1000\n",
    "         leak_v_leak=v_leak,\n",
    "         # Leak conductance, range: 0-1022\n",
    "         leak_i_bias=i_bias_leak,\n",
    "         # Threshold potential, range: 0-500\n",
    "         threshold_v_threshold=v_threshold,\n",
    "         # Reset potential, range: 300-1000\n",
    "         reset_v_reset=v_reset,\n",
    "         # Membrane capacitance, range: 0-63\n",
    "         membrane_capacitance_capacitance=63,\n",
    "         # Refractory time (counter), range: 0-255\n",
    "         refractory_period_refractory_time=255,\n",
    "         # Enable reset on threshold crossing\n",
    "         threshold_enable=True,\n",
    "         # Reset conductance, range: 0-1022\n",
    "         reset_i_bias=1022,\n",
    "         # Increase reset conductance\n",
    "         reset_enable_multiplication=True))\n",
    "\n",
    "     pop.record([\"v\", \"spikes\"])\n",
    "\n",
    "     # this triggers a hardware execution\n",
    "     # with a duration of 0.2 ms\n",
    "     pynn.run(0.2)\n",
    "     plot_membrane_dynamics(pop, ylim=(100, 800))\n",
    "\n",
    "     if savefig:\n",
    "         plt.savefig(results_folder.joinpath(f'fp_task1_{time.strftime(\"%Y%m%d-%H%M%S\")}.png'))\n",
    "\n",
    "     plt.show()\n",
    "\n",
    "     mem = pop.get_data(\"v\").segments[-1].irregularlysampledsignals[0]\n",
    "     spikes = pop.get_data(\"spikes\").segments[-1].spiketrains[0]\n",
    "     pynn.end()\n",
    "\n",
    "     return mem, spikes"
   ]
  },
  {
   "cell_type": "code",
   "execution_count": null,
   "id": "faceb5f2",
   "metadata": {
    "hide-output": false
   },
   "outputs": [],
   "source": [
    "from ipywidgets import interact, IntSlider\n",
    "from functools import partial\n",
    "IntSlider = partial(IntSlider, continuous_update=False)\n",
    "\n",
    "interact(\n",
    "    experiment,\n",
    "    title=\"Task 1: Leak over threshold\",\n",
    "    v_leak=IntSlider(min=400, max=1022, step=1, value=1000),\n",
    "    v_threshold=IntSlider(min=0, max=500, step=1, value=500),\n",
    "    v_reset=IntSlider(min=300, max=1022, step=1, value=400),\n",
    "    i_bias_leak=IntSlider(min=0, max=1022, step=1, value=150),\n",
    ")"
   ]
  },
  {
   "cell_type": "markdown",
   "id": "ffc5ed47",
   "metadata": {},
   "source": [
    "## Exercises"
   ]
  },
  {
   "cell_type": "markdown",
   "id": "7a25b382",
   "metadata": {},
   "source": [
    "### A continuously spiking neuron\n",
    "\n",
    "As a first exercise, set the neuron up such that it spikes continuously without any external input.\n",
    "For that purpose, play with the function’s parameters and note down a suitable configuration in the following cell.\n",
    "Make sure to also save the resulting plot."
   ]
  },
  {
   "cell_type": "code",
   "execution_count": null,
   "id": "00f147b3",
   "metadata": {
    "hide-output": false
   },
   "outputs": [],
   "source": [
    "mem, spikes = experiment(\n",
    "    title=\"A continuously spiking neuron\",\n",
    "    v_leak = 1000,\n",
    "    v_threshold = 500,\n",
    "    v_reset = 400,\n",
    "    i_bias_leak = 150,\n",
    "    savefig = True\n",
    ")"
   ]
  },
  {
   "cell_type": "markdown",
   "id": "c0b3e22e",
   "metadata": {},
   "source": [
    "### Simple spike train statistics\n",
    "\n",
    "- Calculate the mean and standard deviation of the neuron’s firing rate.  \n",
    "- Derive the inter-spike intervals (ISIs) of the spike train recorded in the previous exercise.\n",
    "  The inter-spike interval denotes the time between two consecutive spikes of a neuron.\n",
    "  Plot a histogram of the ISIs.  \n",
    "\n",
    "\n",
    "Hint: You may use, e.g., [np.diff](https://numpy.org/doc/stable/reference/generated/numpy.diff.html), [np.mean](https://numpy.org/doc/stable/reference/generated/numpy.mean.html), and [np.std](https://numpy.org/doc/stable/reference/generated/numpy.std.html) to complete these tasks."
   ]
  },
  {
   "cell_type": "markdown",
   "id": "537f23f5",
   "metadata": {},
   "source": [
    "### Recording the f-I curve of a silicon neuron\n",
    "\n",
    "Next, we want to study the behavior of neurons with a current source.\n",
    "For this, we introduce a new parameters for our neuron model.\n",
    "This will allow to enable/disable a constant current source and observe the impact.\n",
    "\n",
    "- Add constant_current_enable (True/False) and constant_current_i_offset (range=0-1022) as parameters into your experiment  \n",
    "- Configure a non firing neuron  \n",
    "- Vary the current and observe the impact  "
   ]
  },
  {
   "cell_type": "code",
   "execution_count": null,
   "id": "03552de1",
   "metadata": {
    "hide-output": false
   },
   "outputs": [],
   "source": [
    "interact(\n",
    "    experiment,\n",
    "    title=\"Task 2: Current introduced firing\",\n",
    "    refractory_time=IntSlider(min=0, max=255, step=1, value=20),\n",
    "    v_leak=IntSlider(min=400, max=1022, step=1, value=1000),\n",
    "    v_threshold=IntSlider(min=0, max=500, step=1, value=500),\n",
    "    v_reset=IntSlider(min=300, max=1022, step=1, value=400),\n",
    "    i_bias_leak=IntSlider(min=0, max=1022, step=1, value=150),\n",
    "    current=IntSlider(min=0, max=1022, step=1, value=300),\n",
    ")"
   ]
  },
  {
   "cell_type": "markdown",
   "id": "8e760403",
   "metadata": {},
   "source": [
    "- To quantify your observations write a program that sweeps over a current range from 0 up to 800.  \n",
    "- Plot the firing frequency including its error over current.  "
   ]
  },
  {
   "cell_type": "markdown",
   "id": "96dfd4a0",
   "metadata": {},
   "source": [
    "### Synaptic stimuli and PSP staking\n",
    "\n",
    "We now confirmed a normal behavior of the neuron.\n",
    "In this task we want to look at the responses of the neuron to stimulations of incoming spikes.\n",
    "Your goal will be to recreate the image of PSP-Staking from the introduction.\n",
    "You might take a look into pynn_introduction again\n",
    "\n",
    "Steps:\n",
    "\n",
    "- Set up a population of one neuron to record its membrane potential  \n",
    "- Create a population of at least one SpikeSourceArray as a stimulating population  \n",
    "- Connect the stimulating population to the neuron population  \n",
    "- Find a suitable spike pattern to recreate the plot (you might require multiple spikes)  "
   ]
  },
  {
   "cell_type": "code",
   "execution_count": null,
   "id": "ebf0bc96",
   "metadata": {
    "hide-output": false
   },
   "outputs": [],
   "source": [
    "# Write here your solution"
   ]
  }
 ],
 "metadata": {
  "date": 1734550620.581724,
  "filename": "fp_singleNeuron.rst",
  "kernelspec": {
   "display_name": "Python",
   "language": "python3",
   "name": "python3"
  },
  "title": "Investigating a single neuron"
 },
 "nbformat": 4,
 "nbformat_minor": 5
}