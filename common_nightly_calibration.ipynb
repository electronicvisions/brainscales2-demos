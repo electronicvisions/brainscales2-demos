{
 "cells": [
  {
   "cell_type": "markdown",
   "id": "d067112f",
   "metadata": {},
   "source": [
    "A default calibration is generated for every setup every night.\n",
    "We save the nightly calibration in a variable such that we can use it later when we define our experiment."
   ]
  },
  {
   "cell_type": "code",
   "execution_count": null,
   "id": "1590731a",
   "metadata": {
    "hide-output": false
   },
   "outputs": [],
   "source": [
    "from _static.common.helpers import get_nightly_calibration\n",
    "calib = get_nightly_calibration()"
   ]
  }
 ],
 "metadata": {
  "date": 1760633807.3308444,
  "filename": "common_nightly_calibration.rst",
  "kernelspec": {
   "display_name": "Python",
   "language": "python3",
   "name": "python3"
  }
 },
 "nbformat": 4,
 "nbformat_minor": 5
}