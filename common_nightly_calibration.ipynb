{
 "cells": [
  {
   "cell_type": "markdown",
   "id": "3e8ad161",
   "metadata": {},
   "source": [
    "A default calibration is generated for every setup every night.\n",
    "We save the nightly calibration in two variables such that we can use it later when we define our neuronal network."
   ]
  },
  {
   "cell_type": "code",
   "execution_count": null,
   "id": "c8688c3e",
   "metadata": {
    "hide-output": false
   },
   "outputs": [],
   "source": [
    "from _static.common.helpers import get_nightly_calibration\n",
    "calib = get_nightly_calibration()"
   ]
  }
 ],
 "metadata": {
  "date": 1712900739.7310684,
  "filename": "common_nightly_calibration.rst",
  "kernelspec": {
   "display_name": "EBRAINS-experimental",
   "language": "python",
   "name": "ebrains-experimental"
  }
 },
 "nbformat": 4,
 "nbformat_minor": 5
}
