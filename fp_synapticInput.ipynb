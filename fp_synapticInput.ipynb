{
 "cells": [
  {
   "cell_type": "markdown",
   "id": "52556317",
   "metadata": {},
   "source": [
    "# Synaptic Input for Neurons\n",
    "\n",
    "In this task you will investigate a single neuron receiving *excitatory* or *inhibitory* input. We begin with a situation in which the neuron does not fire in response to input, by disabling the reset mechanism and then in the last section investigate firing in response to input. The goal of the task is to familiarise yourself with the analog non-idealities that arise from a physical realisation of the idealised model equations. You will characterise different sources of noise in the system and get a feeling for the influence the hardware parameters on the temporal behaviour."
   ]
  },
  {
   "cell_type": "markdown",
   "id": "d96b58ca",
   "metadata": {},
   "source": [
    "## Setup\n",
    "\n",
    "Generally speaking you will need to run this cell only at the beginning or after something is broken. The easiest way to escape from a broken state, will be to select “Kernel -> Restart” in the menu above and reexecute the following two cells."
   ]
  },
  {
   "cell_type": "code",
   "execution_count": null,
   "id": "11aa46cb",
   "metadata": {
    "hide-output": false
   },
   "outputs": [],
   "source": [
    "from _static.common.helpers import setup_hardware_client\n",
    "setup_hardware_client()"
   ]
  },
  {
   "cell_type": "markdown",
   "id": "f9cff1ff",
   "metadata": {},
   "source": [
    "A default calibration is generated for every setup every night.\n",
    "We save the nightly calibration in a variable such that we can use it later when we define our experiment."
   ]
  },
  {
   "cell_type": "code",
   "execution_count": null,
   "id": "dda1774e",
   "metadata": {
    "hide-output": false
   },
   "outputs": [],
   "source": [
    "from _static.common.helpers import get_nightly_calibration\n",
    "calib = get_nightly_calibration()"
   ]
  },
  {
   "cell_type": "markdown",
   "id": "7bbc4681",
   "metadata": {},
   "source": [
    "We will also setup a folder to save experimental results in"
   ]
  },
  {
   "cell_type": "code",
   "execution_count": null,
   "id": "48a56181",
   "metadata": {
    "hide-output": false
   },
   "outputs": [],
   "source": [
    "import pathlib\n",
    "\n",
    "results_folder = pathlib.Path('results/task3')\n",
    "results_folder.mkdir(parents=True, exist_ok=True)"
   ]
  },
  {
   "cell_type": "markdown",
   "id": "dcbcabcd",
   "metadata": {},
   "source": [
    "### Plotting"
   ]
  },
  {
   "cell_type": "code",
   "execution_count": null,
   "id": "bd76c207",
   "metadata": {
    "hide-output": false
   },
   "outputs": [],
   "source": [
    "%matplotlib inline\n",
    "\n",
    "import matplotlib.pyplot as plt\n",
    "import numpy as np\n",
    "\n",
    "from pynn_brainscales.brainscales2 import Population\n",
    "\n",
    "plt.style.use(\"_static/matplotlibrc\")\n",
    "\n",
    "def plot_membrane_dynamics(times: np.array, voltages: np.array):\n",
    "    \"\"\"\n",
    "\n",
    "    :param times: sample times\n",
    "    :param voltages: voltages to plot\n",
    "\n",
    "    \"\"\"\n",
    "    plt.plot(times, voltages, color='grey')\n",
    "    plt.xlabel(\"Wall clock time [ms]\")\n",
    "    plt.ylabel(\"ADC readout [a.u.]\")\n",
    "\n",
    "def plot_population_dynamics(population: Population, segment_id=-1, ylim=None):\n",
    "    \"\"\"\n",
    "    Plot the membrane potential of the neuron in a given population view. Only\n",
    "    population views of size 1 are supported.\n",
    "    :param population: Population, membrane traces and spikes are plotted for.\n",
    "    :param segment_id: Index of the neo segment to be plotted. Defaults to\n",
    "                       -1, encoding the last recorded segment.\n",
    "    :param ylim: y-axis limits for the plot.\n",
    "    \"\"\"\n",
    "    if len(population) != 1:\n",
    "        raise ValueError(\"Plotting is supported for populations of size 1.\")\n",
    "    # Experimental results are given in the 'neo' data format\n",
    "    mem_v = population.get_data(\"v\").segments[segment_id].irregularlysampledsignals[0]\n",
    "    spikes = population.get_data(\"spikes\").segments[-1].spiketrains[0]\n",
    "\n",
    "    plt.plot(mem_v.times, mem_v, alpha=0.1, color='black')\n",
    "\n",
    "    # indicate the spikes as red dots\n",
    "    plt.scatter(spikes, np.max(mem_v)*np.ones_like(spikes), color='red')\n",
    "    plt.xlabel(\"Wall clock time [ms]\")\n",
    "    plt.ylabel(\"ADC readout [a.u.]\")\n",
    "    if ylim:\n",
    "        plt.ylim(ylim)"
   ]
  },
  {
   "cell_type": "markdown",
   "id": "61649abf",
   "metadata": {},
   "source": [
    "## Synaptic Parameters"
   ]
  },
  {
   "cell_type": "code",
   "execution_count": null,
   "id": "082b1b1c",
   "metadata": {
    "hide-output": false
   },
   "outputs": [],
   "source": [
    "import numpy as np\n",
    "from pathlib import Path\n",
    "import quantities as pq\n",
    "\n",
    "import pynn_brainscales.brainscales2 as pynn\n",
    "\n",
    "from pynn_brainscales.brainscales2 import Population\n",
    "from pynn_brainscales.brainscales2.standardmodels.cells import SpikeSourceArray\n",
    "from pynn_brainscales.brainscales2.standardmodels.synapses import StaticSynapse"
   ]
  },
  {
   "cell_type": "markdown",
   "id": "5a3d0dbe",
   "metadata": {},
   "source": [
    "Create a neuron and inject a single spike."
   ]
  },
  {
   "cell_type": "code",
   "execution_count": null,
   "id": "0a1e952b",
   "metadata": {
    "hide-output": false
   },
   "outputs": [],
   "source": [
    "# save results of this experiment in subfolder\n",
    "exercise_folder = results_folder.joinpath('synaptic_parameters')\n",
    "exercise_folder.mkdir(parents=True, exist_ok=True)"
   ]
  },
  {
   "cell_type": "markdown",
   "id": "ed567ba8",
   "metadata": {},
   "source": [
    "### Experiments\n",
    "\n",
    "Adjust the synaptic parameters and display the membrane traces.\n",
    "\n",
    "- What do the different parameters control?  \n",
    "\n",
    "\n",
    "By setting the “weight” parameter to be negative the neuron will receive\n",
    "inhibitory synaptic input.\n",
    "\n",
    "- What differences compared to the excitatory input can you observe?  \n",
    "\n",
    "\n",
    "Now enable the membrane threshold and adjust it in such a way that you ellicit one spike."
   ]
  },
  {
   "cell_type": "code",
   "execution_count": null,
   "id": "1c8eb36b",
   "metadata": {
    "hide-output": false
   },
   "outputs": [],
   "source": [
    "from ipywidgets import interact, IntSlider\n",
    "from functools import partial\n",
    "IntSlider = partial(IntSlider, continuous_update=False)\n",
    "import tqdm.notebook as tqdm\n",
    "\n",
    "\n",
    "@interact(\n",
    "    tau=IntSlider(min=1, max=1022, step=1, value=26),\n",
    "    gm=IntSlider(min=1, max=1022, step=1, value=1022),\n",
    "    weight=IntSlider(min=-63, max=63, step=1, value=63),\n",
    "    n_runs=IntSlider(min=1, max=20, step=1, value=1),\n",
    "    threshold_v_threshold=IntSlider(min=0, max=600, step=1, value=300),\n",
    ")\n",
    "def experiment(\n",
    "    tau,\n",
    "    gm,\n",
    "    weight,\n",
    "    n_runs,\n",
    "    threshold_v_threshold,\n",
    "    threshold_enable=False,\n",
    "    plot=True,\n",
    "    savefig=False,\n",
    "    results=False\n",
    "):\n",
    "    synapse_type = 'inhibitory' if weight < 0 else 'excitatory'\n",
    "    # parameters\n",
    "    experiment_duration = 0.4  # ms (hw domain)\n",
    "    pynn.setup(initial_config=calib)\n",
    "    neuron = pynn.Population(1, pynn.cells.HXNeuron(\n",
    "        excitatory_input_i_bias_tau=tau,\n",
    "        excitatory_input_i_bias_gm=gm,\n",
    "        inhibitory_input_i_bias_tau=tau,\n",
    "        inhibitory_input_i_bias_gm=gm,\n",
    "        # neuron to be observed: disable threshold such we can observe PSP shape\n",
    "        threshold_enable=threshold_enable,\n",
    "        threshold_v_threshold=threshold_v_threshold\n",
    "    ))\n",
    "    neuron.record([\"v\", \"spikes\"])\n",
    "\n",
    "    # external input\n",
    "    spike_times = [experiment_duration / 2]\n",
    "    pop_input = pynn.Population(1,\n",
    "        pynn.cells.SpikeSourceArray(spike_times=spike_times))\n",
    "\n",
    "    synapse = pynn.standardmodels.synapses.StaticSynapse(weight=weight)\n",
    "    proj = pynn.Projection(pop_input, neuron, pynn.AllToAllConnector(),\n",
    "                       synapse_type=synapse, receptor_type=synapse_type)\n",
    "\n",
    "    # run experiment\n",
    "    voltages = []\n",
    "    mems = []\n",
    "    min_shape = 2**32\n",
    "\n",
    "    for run in tqdm.trange(n_runs, leave=False):\n",
    "        pynn.run(experiment_duration)\n",
    "        mem = neuron.get_data(\"v\").segments[-1].irregularlysampledsignals[0]\n",
    "        mems.append(mem)\n",
    "        voltages.append(np.array(mem))\n",
    "        min_shape = min(mem.shape[0], min_shape)\n",
    "        pynn.reset()\n",
    "\n",
    "    voltages = [v[:min_shape] for v in voltages]\n",
    "    voltages = np.stack(voltages)\n",
    "\n",
    "    if plot:\n",
    "        plot_membrane_dynamics(mems[-1].times[:min_shape], np.mean(voltages, axis=0))\n",
    "\n",
    "    if savefig:\n",
    "        fig.savefig(exercise_folder.joinpath('membrane_trace.png'))\n",
    "\n",
    "    pynn.end()\n",
    "    if results:\n",
    "        return mems, voltages, mems[-1].times[:min_shape]"
   ]
  },
  {
   "cell_type": "markdown",
   "id": "f78f6243",
   "metadata": {},
   "source": [
    "### Solution\n",
    "\n",
    "Please enter your answers to the questions above here…"
   ]
  },
  {
   "cell_type": "markdown",
   "id": "570e400c",
   "metadata": {},
   "source": [
    "### Normalising the Membrane Dynamics\n",
    "\n",
    "We can use the experiment above to determine the minimum and maximum of the membrane dynamics over a number of runs."
   ]
  },
  {
   "cell_type": "code",
   "execution_count": null,
   "id": "3d30dfba",
   "metadata": {
    "hide-output": false
   },
   "outputs": [],
   "source": [
    "def determine_vmax_vmin(tau, gm, weight, v_threshold, n_runs):\n",
    "    mems, voltages, _ = experiment(tau=tau, gm=gm, weight=weight, n_runs=n_runs,    threshold_enable=True, threshold_v_threshold=v_threshold, results=True, plot=False)\n",
    "    v_max, v_min = np.max(voltages[:,:,0]), np.min(voltages[:,:,0])\n",
    "    return v_min, v_max\n",
    "\n",
    "v_min, v_max = determine_vmax_vmin(1, 1022, weight=63, v_threshold=300, n_runs=10)"
   ]
  },
  {
   "cell_type": "markdown",
   "id": "6b50d2c5",
   "metadata": {},
   "source": [
    "This can be used to normalise the membrane voltage measurements. Note that this normalisation depends on the choices of hyperparameters \\$\\tau\\$, \\$g_m\\$, \\$v_\\mathrm{th}\\$ used to obtain it. The idea is to map \\$v_\\mathrm{th}\\$ to \\$1\\$ and \\$v_\\mathrm{reset}\\$ to \\$0\\$, although this will only be approximately true for all membrane traces."
   ]
  },
  {
   "cell_type": "code",
   "execution_count": null,
   "id": "c73a9244",
   "metadata": {
    "hide-output": false
   },
   "outputs": [],
   "source": [
    "def normalise_voltage(v_min, v_max):\n",
    "    def normalise(v):\n",
    "        delta_v = v_max - v_min\n",
    "        return 1/delta_v * (v - v_min)\n",
    "\n",
    "    return normalise\n",
    "\n",
    "nv = normalise_voltage(v_min, v_max)"
   ]
  },
  {
   "cell_type": "markdown",
   "id": "19e1e96e",
   "metadata": {},
   "source": [
    "## Trial-to-Trial Variations"
   ]
  },
  {
   "cell_type": "code",
   "execution_count": null,
   "id": "d1e4dd2c",
   "metadata": {
    "hide-output": false
   },
   "outputs": [],
   "source": [
    "taus = np.arange(1,1022,100)\n",
    "gm = 1022\n",
    "weight = 63\n",
    "n_runs = 5\n",
    "max_voltages = []\n",
    "baselines = []\n",
    "\n",
    "for tau in tqdm.tqdm(taus):\n",
    "    m, v, _ = experiment(tau=tau, gm=gm, weight=weight, n_runs=n_runs, threshold_v_threshold=300, plot=False, results=True)\n",
    "    v_baseline = v[:100].mean()\n",
    "    mean = np.mean(v, axis=0)\n",
    "    max_v = np.max(mean, axis=0)\n",
    "    max_voltages.append(max_v[0])\n",
    "    baselines.append(v_baseline)"
   ]
  },
  {
   "cell_type": "code",
   "execution_count": null,
   "id": "7fc80ea3",
   "metadata": {
    "hide-output": false
   },
   "outputs": [],
   "source": [
    "plt.plot(taus, np.array(max_voltages) - np.array(baselines))"
   ]
  },
  {
   "cell_type": "code",
   "execution_count": null,
   "id": "3a3a2059",
   "metadata": {
    "hide-output": false
   },
   "outputs": [],
   "source": [
    "tau = 26\n",
    "gm = 1022\n",
    "weight = 63\n",
    "n_runs = 200 # each run takes some time (with this value it should finish in less than 1-2 minutes)\n",
    "\n",
    "m, v, _ = experiment(tau=tau, gm=gm, weight=weight, n_runs=n_runs, threshold_v_threshold=300, plot=False, results=True)\n",
    "v_baseline = v[:100].mean()\n",
    "max_v = np.max(v-v_baseline, axis=1)\n",
    "\n",
    "def histogram(heights):\n",
    "    fig, ax = plt.subplots()\n",
    "    ax.set_xlabel(\"height of peaks [MADC]\")\n",
    "    ax.set_ylabel(\"counts\")\n",
    "\n",
    "    ax.hist(heights)\n",
    "\n",
    "    return fig\n",
    "\n",
    "fig = histogram(max_v)"
   ]
  },
  {
   "cell_type": "markdown",
   "id": "609f090a",
   "metadata": {},
   "source": [
    "We can also sweep weight dependence of synaptic input"
   ]
  },
  {
   "cell_type": "code",
   "execution_count": null,
   "id": "7e391745",
   "metadata": {
    "hide-output": false
   },
   "outputs": [],
   "source": [
    "tau = 26\n",
    "gm = 1022\n",
    "n_runs = 10\n",
    "means = []\n",
    "n_sub = 20\n",
    "ws = np.linspace(-64,64,n_sub)\n",
    "category_colors = plt.get_cmap('coolwarm')(0.5+ws/128)\n",
    "\n",
    "max_mean_v = []\n",
    "\n",
    "for idx in tqdm.trange(n_sub):\n",
    "    m, v, times = experiment(tau=tau, gm=gm, weight=ws[idx], n_runs=n_runs, threshold_v_threshold=300, plot=False, results=True)\n",
    "    v_baseline = v[:100].mean()\n",
    "\n",
    "    for j in range(n_runs):\n",
    "        plt.plot(times, v[j] - v_baseline, color=category_colors[idx], alpha=.1)\n",
    "\n",
    "    plt.plot(times, np.mean(v, axis=0) - v_baseline, color=category_colors[idx])\n",
    "\n",
    "    sign = -1 if ws[idx] < 0 else 1\n",
    "\n",
    "    max_mean_v.append(sign*np.max(np.abs(np.mean(v, axis=0) - v_baseline)))\n",
    "\n",
    "plt.xlabel(\"Wall clock time [ms]\")\n",
    "plt.ylabel(\"ADC readout [a.u.]\")"
   ]
  },
  {
   "cell_type": "markdown",
   "id": "350958ba",
   "metadata": {},
   "source": [
    "### Exercises\n",
    "\n",
    "- Plot the maximum of the voltages we obtained  "
   ]
  },
  {
   "cell_type": "markdown",
   "id": "582f1473",
   "metadata": {},
   "source": [
    "### Solution\n",
    "\n",
    "Please enter your solution here…"
   ]
  },
  {
   "cell_type": "code",
   "execution_count": null,
   "id": "b58b24b4",
   "metadata": {
    "hide-output": false
   },
   "outputs": [],
   "source": [
    "... # TODO"
   ]
  },
  {
   "cell_type": "markdown",
   "id": "3924f74d",
   "metadata": {},
   "source": [
    "## Fixed-Pattern Noise\n",
    "\n",
    "Investigate the fixed pattern noise between synapses/synapse drivers."
   ]
  },
  {
   "cell_type": "code",
   "execution_count": null,
   "id": "19994fca",
   "metadata": {
    "hide-output": false
   },
   "outputs": [],
   "source": [
    "def extract_heights(voltage, spike_times):\n",
    "    '''\n",
    "    Extract the PSP heights from a membrane trace where several inputs\n",
    "    where injected one after another.\n",
    "\n",
    "    :param voltage: Recorded membrane trace\n",
    "    :param spike_times: Input spike times for the different inputs in ms\n",
    "        (hw domain).\n",
    "    '''\n",
    "\n",
    "    # determine baseline voltage\n",
    "    v_baseline = voltage[:100].mean()\n",
    "\n",
    "    # extract for each synapse the maximum in the membrane trace and\n",
    "    # substact the baseline voltage\n",
    "    heights = []\n",
    "\n",
    "    # determine how many samples are recorded between inputs\n",
    "    idx_first_input = np.argmin(np.abs(voltage.times - spike_times[0] * pq.ms))\n",
    "    samples_per_input = 2 * idx_first_input\n",
    "\n",
    "    # loop over inputs\n",
    "    for n_input in range(len(spike_times)):\n",
    "        start_stop = (np.array([0, 1]) + n_input) * samples_per_input\n",
    "        input_slice = slice(start_stop[0], start_stop[1])\n",
    "        height = np.max(voltage[input_slice]) - v_baseline\n",
    "        heights.append(float(height))\n",
    "\n",
    "    return heights"
   ]
  },
  {
   "cell_type": "code",
   "execution_count": null,
   "id": "85a92d0b",
   "metadata": {
    "hide-output": false
   },
   "outputs": [],
   "source": [
    "# save results of this experiment in subfolder\n",
    "exercise_folder = results_folder.joinpath('fixed_pattern_noise')\n",
    "exercise_folder.mkdir(parents=True, exist_ok=True)\n",
    "\n",
    "def fixed_pattern_noise_experiment():\n",
    "    # parameters\n",
    "    n_synapses = 100\n",
    "    weight = 63\n",
    "    time_between_inputs = 0.4\n",
    "\n",
    "    pynn.setup(initial_config=calib)\n",
    "\n",
    "    # neuron to be observed: disable threshold such we can observe PSP shape\n",
    "    neuron = pynn.Population(1, pynn.cells.HXNeuron(threshold_enable=False))\n",
    "    neuron.record(\"v\")\n",
    "\n",
    "    # external input\n",
    "    # since we want to test several external synapses, we create a population\n",
    "    # of external neurons which spike one after another\n",
    "    spike_times = (np.arange(n_synapses) + 0.5) * time_between_inputs\n",
    "    # SpikeSourceArray expects a list of spike times for each neuron in the\n",
    "    # population -> reshape\n",
    "    pop_input = pynn.Population(n_synapses,\n",
    "        pynn.cells.SpikeSourceArray(spike_times=spike_times.reshape([-1, 1]).tolist()))\n",
    "\n",
    "    synapse = pynn.standardmodels.synapses.StaticSynapse(weight=weight)\n",
    "    proj = pynn.Projection(pop_input, neuron, pynn.AllToAllConnector(),\n",
    "                           synapse_type=synapse, receptor_type='excitatory')\n",
    "\n",
    "    # run experiment\n",
    "    pynn.run(n_synapses * time_between_inputs)\n",
    "\n",
    "    # save membrane trace\n",
    "    mem = neuron.get_data(\"v\").segments[-1].irregularlysampledsignals[0]\n",
    "    np.savetxt(exercise_folder.joinpath('membrane_trace.txt'), mem.base)\n",
    "    pynn.end()\n",
    "\n",
    "    return mem, spike_times"
   ]
  },
  {
   "cell_type": "markdown",
   "id": "696feb5b",
   "metadata": {},
   "source": [
    "### Exercises\n",
    "\n",
    "Extract the PSP height from the trace and plot it in a histogram.\n",
    "You can use the functions you implemented above.\n",
    "\n",
    "Hints:\n",
    "* The function to plot histograms with matplotlib is called [hist](https://matplotlib.org/stable/api/_as_gen/matplotlib.pyplot.hist.html)"
   ]
  },
  {
   "cell_type": "markdown",
   "id": "f4da9634",
   "metadata": {},
   "source": [
    "### Solution\n",
    "\n",
    "Please enter your solution here…"
   ]
  },
  {
   "cell_type": "code",
   "execution_count": null,
   "id": "3709cede",
   "metadata": {
    "hide-output": false
   },
   "outputs": [],
   "source": [
    "mem, spike_times = fixed_pattern_noise_experiment()\n",
    "heights = ...\n",
    "# TODO plot and save histogram"
   ]
  },
  {
   "cell_type": "markdown",
   "id": "aec682f9",
   "metadata": {},
   "source": [
    "## Stacking of PSPs"
   ]
  },
  {
   "cell_type": "code",
   "execution_count": null,
   "id": "d154125e",
   "metadata": {
    "hide-output": false
   },
   "outputs": [],
   "source": [
    "@interact(exc_weight=IntSlider(min=0, max=63, step=1, value=31),\n",
    "          inh_weight=IntSlider(min=0, max=63, step=1, value=31),\n",
    "          tau=IntSlider(min=1, max=1022, step=1, value=26),\n",
    "          gm=IntSlider(min=1, max=1022, step=1, value=1022),\n",
    "          isi=IntSlider(min=10, max=100, step=5, value=50),\n",
    "          n_runs=IntSlider(min=1, max=10, step=1, value=1)\n",
    "          )\n",
    "def run_experiment(exc_weight: int, inh_weight: int, tau: float, gm: float, isi: float, n_runs: int, plot = True, return_results = False):\n",
    "    '''\n",
    "    Run external input demonstration on BSS-2.\n",
    "\n",
    "    Adjust weight of projections, set input spikes and execute experiment\n",
    "    on BSS-2.\n",
    "\n",
    "    :param exc_weight: Weight of excitatory synaptic inputs, value range\n",
    "        [0,63].\n",
    "    :param inh_weight: Weight of inhibitory synaptic inputs, value range\n",
    "        [0,63].\n",
    "    :param isi: Time between synaptic inputs in microsecond (hardware\n",
    "        domain)\n",
    "    '''\n",
    "\n",
    "    plt.figure()\n",
    "    plt.title(\"Fourth experiment: External stimulation\")\n",
    "\n",
    "    pynn.setup(initial_config=calib)\n",
    "\n",
    "    # use calibrated parameters for neuron\n",
    "    stimulated_p = pynn.Population(1, pynn.cells.HXNeuron(\n",
    "        excitatory_input_i_bias_tau=tau,\n",
    "        excitatory_input_i_bias_gm=gm,\n",
    "        inhibitory_input_i_bias_tau=tau,\n",
    "        inhibitory_input_i_bias_gm=gm\n",
    "    ))\n",
    "    stimulated_p.record([\"v\", \"spikes\"])\n",
    "\n",
    "    # calculate spike times\n",
    "    wait_before_experiment = 0.01  # ms (hw)\n",
    "    isi_ms = isi / 1000  # convert to ms\n",
    "    spiketimes = np.arange(6) * isi_ms + wait_before_experiment\n",
    "\n",
    "    # all but one input are chosen to be exciatory\n",
    "    excitatory_spike = np.ones_like(spiketimes, dtype=bool)\n",
    "    excitatory_spike[1] = False\n",
    "\n",
    "    # external input\n",
    "    exc_spikes = spiketimes[excitatory_spike]\n",
    "    exc_stim_pop = pynn.Population(1, SpikeSourceArray(spike_times=exc_spikes))\n",
    "    exc_proj = pynn.Projection(exc_stim_pop, stimulated_p,\n",
    "                               pynn.AllToAllConnector(),\n",
    "                               synapse_type=StaticSynapse(weight=exc_weight),\n",
    "                               receptor_type=\"excitatory\")\n",
    "\n",
    "    inh_spikes = spiketimes[~excitatory_spike]\n",
    "    inh_stim_pop = pynn.Population(1, SpikeSourceArray(spike_times=inh_spikes))\n",
    "    inh_proj = pynn.Projection(inh_stim_pop, stimulated_p,\n",
    "                               pynn.AllToAllConnector(),\n",
    "                               synapse_type=StaticSynapse(weight=-inh_weight),\n",
    "                               receptor_type=\"inhibitory\")\n",
    "\n",
    "    # run experiment\n",
    "\n",
    "    # run experiment\n",
    "    voltages = []\n",
    "    mems = []\n",
    "    min_shape = 2**32\n",
    "    experiment_duration = 0.6\n",
    "\n",
    "    for run in range(n_runs):\n",
    "        pynn.run(experiment_duration)\n",
    "        mem = stimulated_p.get_data(\"v\").segments[-1].irregularlysampledsignals[0]\n",
    "        if plot:\n",
    "            plot_population_dynamics(stimulated_p, ylim=(100, 600))\n",
    "        mems.append(mem)\n",
    "        voltages.append(np.array(mem))\n",
    "        min_shape = min(mem.shape[0], min_shape)\n",
    "        pynn.reset()\n",
    "\n",
    "    voltages = [v[:min_shape] for v in voltages]\n",
    "    voltages = np.stack(voltages)\n",
    "\n",
    "    if return_results:\n",
    "        return voltages"
   ]
  },
  {
   "cell_type": "markdown",
   "id": "cf06ff37",
   "metadata": {},
   "source": [
    "### Exercises\n",
    "\n",
    "- Adjust the time between the synaptic inputs and investigate when the neuron is firing.  \n",
    "- Save a plot in which you can observe firing behaviour and save the parameters.  "
   ]
  },
  {
   "cell_type": "markdown",
   "id": "1558fec0",
   "metadata": {},
   "source": [
    "### Solution\n",
    "\n",
    "Document your observations here…"
   ]
  },
  {
   "cell_type": "markdown",
   "id": "c6789afb",
   "metadata": {},
   "source": [
    "## Behaviour under Stimulation by a Poisson Process\n",
    "\n",
    "So far we have only looked at a single neuron receiving deterministic input. In this last exercise for this section of the lab course, we will look at one neuron receiving “stochastic”\n",
    "input from two sources: an inhibitory and excitatory input source emitting spikes according to a poisson process with intensity \\$\\lambda_e,\\lambda_i\\$. Poisson processes occur frequently\n",
    "in nature and have wide [applications in many areas](https://en.wikipedia.org/wiki/Poisson_point_process). One key point of this exercise\n",
    "therefore is to give you an idea how a spiking neuron running on Neuromorphic Hardware\n",
    "could naturally and efficiently process event data."
   ]
  },
  {
   "cell_type": "code",
   "execution_count": null,
   "id": "4a0e455f",
   "metadata": {
    "hide-output": false
   },
   "outputs": [],
   "source": [
    "def poisson_spike_times(lambda0 = 100, delta_t = 0.6):\n",
    "    n_spikes = np.random.poisson(lambda0 * delta_t)\n",
    "    times = delta_t * np.random.uniform(0, 1, n_spikes)\n",
    "    return np.sort(times)"
   ]
  },
  {
   "cell_type": "markdown",
   "id": "d4fbd165",
   "metadata": {},
   "source": [
    "The following code defines the experiment:"
   ]
  },
  {
   "cell_type": "code",
   "execution_count": null,
   "id": "508f204b",
   "metadata": {
    "hide-output": false
   },
   "outputs": [],
   "source": [
    "@interact(exc_weight=IntSlider(min=0, max=63, step=1, value=31),\n",
    "      inh_weight=IntSlider(min=0, max=63, step=1, value=31),\n",
    "      lambda_exc=IntSlider(min=1, max=200, step=1, value=50),\n",
    "      lambda_inh=IntSlider(min=1, max=200, step=1, value=50),\n",
    "      n_runs=IntSlider(min=1, max=10, step=1, value=1)\n",
    "      )\n",
    "def run_experiment(exc_weight: int, inh_weight: int, lambda_exc: float, lambda_inh:float, n_runs: int, plot = True, return_results = False):\n",
    "    '''\n",
    "    Run external input demonstration on BSS-2.\n",
    "\n",
    "    Adjust weight of projections, set input spikes and execute experiment\n",
    "    on BSS-2.\n",
    "\n",
    "    :param exc_weight: Weight of excitatory synaptic inputs, value range\n",
    "        [0,63].\n",
    "    :param inh_weight: Weight of inhibitory synaptic inputs, value range\n",
    "        [0,63].\n",
    "    :param lambda_exc: excitatory poisson process intensity\n",
    "    :param lambda_inh: inhibitory poisson process intensity\n",
    "    '''\n",
    "\n",
    "    plt.figure()\n",
    "    plt.title(\"Fourth experiment: External stimulation\")\n",
    "\n",
    "    pynn.setup(initial_config=calib)\n",
    "\n",
    "    # use calibrated parameters for neuron\n",
    "    stimulated_p = pynn.Population(1, pynn.cells.HXNeuron())\n",
    "    stimulated_p.record([\"v\", \"spikes\"])\n",
    "\n",
    "    # calculate spike times\n",
    "    experiment_duration = 0.6\n",
    "    wait_before_experiment = 0.01  # ms (hw)\n",
    "\n",
    "    # external input\n",
    "    exc_stim_pop = pynn.Population(1, SpikeSourceArray(spike_times=[]))\n",
    "    exc_proj = pynn.Projection(exc_stim_pop, stimulated_p,\n",
    "                               pynn.AllToAllConnector(),\n",
    "                               synapse_type=StaticSynapse(weight=exc_weight),\n",
    "                               receptor_type=\"excitatory\")\n",
    "\n",
    "    inh_spike_source = SpikeSourceArray(spike_times=[])\n",
    "    inh_stim_pop = pynn.Population(1, inh_spike_source)\n",
    "    inh_proj = pynn.Projection(inh_stim_pop, stimulated_p,\n",
    "                               pynn.AllToAllConnector(),\n",
    "                               synapse_type=StaticSynapse(weight=-inh_weight),\n",
    "                               receptor_type=\"inhibitory\")\n",
    "\n",
    "    # run experiment\n",
    "\n",
    "    # run experiment\n",
    "    voltages = []\n",
    "    mems = []\n",
    "    min_shape = 2**32\n",
    "\n",
    "\n",
    "    for run in tqdm.trange(n_runs):\n",
    "        inh_spikes = poisson_spike_times(lambda_inh, experiment_duration) + wait_before_experiment\n",
    "        inh_stim_pop.set(spike_times = inh_spikes)\n",
    "        exc_spikes = poisson_spike_times(lambda_exc, experiment_duration) + wait_before_experiment\n",
    "        exc_stim_pop.set(spike_times = exc_spikes)\n",
    "\n",
    "        pynn.run(experiment_duration)\n",
    "        mem = stimulated_p.get_data(\"v\").segments[-1].irregularlysampledsignals[0]\n",
    "        if plot:\n",
    "            plot_population_dynamics(stimulated_p, ylim=(100, 600))\n",
    "        mems.append(mem)\n",
    "        voltages.append(np.array(mem))\n",
    "        min_shape = min(mem.shape[0], min_shape)\n",
    "        pynn.reset()\n",
    "\n",
    "    voltages = [v[:min_shape] for v in voltages]\n",
    "    voltages = np.stack(voltages)\n",
    "\n",
    "    if return_results:\n",
    "        return voltages"
   ]
  },
  {
   "cell_type": "markdown",
   "id": "7b360988",
   "metadata": {},
   "source": [
    "### Exercises\n",
    "\n",
    "Explore the parameters offered by the experiment and describe your observations.\n",
    "- Consider multiple runs (n > 1), how would you characterise the behaviour over multiple runs.\n",
    "- What happens if the intensity of the inhibitory and excitatory input differ widely?\n",
    "- What happens if you change the weight of the inhibitory / excitatory input?\n",
    "- What quantitative ways of analysing the observed behaviour come to your mind?"
   ]
  },
  {
   "cell_type": "markdown",
   "id": "17031bec",
   "metadata": {},
   "source": [
    "### Solutions\n",
    "\n",
    "Please give your solutions here…"
   ]
  },
  {
   "cell_type": "markdown",
   "id": "bb411399",
   "metadata": {},
   "source": [
    "## Analysis of Stimulation by a Poisson Process\n",
    "\n",
    "The following gives you a way to record membrane voltage traces\n",
    "for given paramters over many runs (n_runs = 1000)"
   ]
  },
  {
   "cell_type": "code",
   "execution_count": null,
   "id": "bea9718f",
   "metadata": {
    "hide-output": false
   },
   "outputs": [],
   "source": [
    "voltages = run_experiment(exc_weight=31, inh_weight=31, lambda_exc=50, lambda_inh=50, n_runs=1000, return_results=1)"
   ]
  },
  {
   "cell_type": "markdown",
   "id": "fbed1c7d",
   "metadata": {},
   "source": [
    "### Exercises\n",
    "\n",
    "- Plot a histogram of the voltages, for different parameter settings. Consider both population (over all runs) and a histograms over time for a single run.  \n",
    "- How could you analyse the observed distribution further?  "
   ]
  },
  {
   "cell_type": "markdown",
   "id": "d4d31d09",
   "metadata": {},
   "source": [
    "### Solution\n",
    "\n",
    "Please type your solution here…\n",
    "\n",
    "Hint: Consider plotting the histogram with density=True)."
   ]
  },
  {
   "cell_type": "code",
   "execution_count": null,
   "id": "ace40dfc",
   "metadata": {
    "hide-output": false
   },
   "outputs": [],
   "source": [
    "# TODO\n",
    "plt.hist(...)"
   ]
  }
 ],
 "metadata": {
  "date": 1760084698.1300871,
  "filename": "fp_synapticInput.rst",
  "kernelspec": {
   "display_name": "EBRAINS-experimental",
   "language": "python",
   "name": "ebrains-experimental"
  },
  "title": "Synaptic Input for Neurons"
 },
 "nbformat": 4,
 "nbformat_minor": 5
}