{
 "cells": [
  {
   "cell_type": "markdown",
   "id": "48bfd104",
   "metadata": {},
   "source": [
    "# Maschinelles Lernen\n",
    "\n",
    "In diesem Teil soll es um ein einfaches Beispiel für maschinelles Lernen gehen.\n",
    "Maschinelles Lernen bedeutet, dass ohne menschliches Zutun neues Wissen aus\n",
    "bestehenden Daten erhalten und dieses verallgemeinert wird. Dadurch sollen\n",
    "Zusammenhänge und Muster erkannt werden, die auch auf unbekannte Beispieledaten\n",
    "anwendbar sind.\n",
    "\n",
    "Ein paar Beispiele, wo maschinelles Lernen sehr praktisch sein kann:\n",
    "\n",
    "- Schrifterkennung  \n",
    "- Texte übersetzen  \n",
    "- Spotify / YouTube Vorschläge  \n",
    "- Aktivitätserkennung  \n",
    "- Werbung filtern  \n",
    "- Facebook Timeline  \n",
    "- …  \n",
    "\n",
    "\n",
    "Fallen euch noch mehr ein?"
   ]
  },
  {
   "cell_type": "markdown",
   "id": "972290a8",
   "metadata": {},
   "source": [
    "## Was ist ein neuronales Netz?\n",
    "\n",
    "Herkömmliche neuronale Netze, wie sie beim maschinellen Lernen verwendet\n",
    "werden, sind aus mehreren Lagen aus Neuronen aufgebaut (orange), welche\n",
    "unterschiedlich stark verbunden sein können. Diese Stärke dieser\n",
    "Verbindungen, die Gewichte, enthalten das “Wissen” und werden beim\n",
    "Trainieren automatisch angepasst.\n",
    "\n",
    "<img src=\"_static/girlsday/girlsday_perceptron.png\" style=\"width:450px;\" align=\"center\">"
   ]
  },
  {
   "cell_type": "markdown",
   "id": "1032af7a",
   "metadata": {},
   "source": [
    "### Wie viele Neuronen und Gewichte sind nötig?\n",
    "\n",
    "Die Wahl eines geeigneten Modells ist gar nicht so einfach. Ist das\n",
    "Modell zu klein, also enthält es zu wenig Neuronen und Gewichte, dann\n",
    "kann es die zu lernenden Zusammenhänge nicht richtig abbilden. Ist es\n",
    "aber zu komplex, also enthält es zu viele Neuronen, so ist dies\n",
    "ebenfalls schlecht. Es können dann zwar die meisten Beispiele, die zum\n",
    "Lernen verwendet wurden, richtig erkannt werden, bei Unbekanntem\n",
    "scheitert das Modell aber. Man sagt, dass solch ein Modell nicht genug\n",
    "verallgemeinern kann. Es hat zwar alle Beispiele auswendig gelernt, kann\n",
    "aber die zu Grunde liegenden Zusammenhänge nicht verstehen.\n",
    "\n",
    "<img src=\"_static/girlsday/girlsday_overfitting.png\" style=\"width:800px;\" align=\"center\">"
   ]
  },
  {
   "cell_type": "markdown",
   "id": "fa21c024",
   "metadata": {},
   "source": [
    "## Umgebung vorbereiten\n",
    "\n",
    "Bevor wir mit unseren Experimenten beginnen können, müssen wir erneut unsere Umgebung vorbereiten:"
   ]
  },
  {
   "cell_type": "code",
   "execution_count": null,
   "id": "fdc1a7ea",
   "metadata": {
    "hide-output": false
   },
   "outputs": [],
   "source": [
    "from _static.common.helpers import setup_hardware_client, save_nightly_calibration\n",
    "setup_hardware_client()"
   ]
  },
  {
   "cell_type": "markdown",
   "id": "fec93a01",
   "metadata": {},
   "source": [
    "## Beispiel: Erkennung von handgeschriebenen Ziffern\n",
    "\n",
    "Dies ist ein sehr beliebtes Beispiel für den Einsatz von maschinellem\n",
    "Lernen: In einem Briefzentrum sollen die Postleitzahlen der Briefe in\n",
    "der Sortieranlage automatisch gelesen werden, damit die Briefe in die\n",
    "richtigen Fahrzeuge verladen werden können. Um dieses Problem zu lösen,\n",
    "wurden viele verschiedene Bilder gesammelt und jeweils der richtigen Ziffer\n",
    "zugeordnet."
   ]
  },
  {
   "cell_type": "code",
   "execution_count": null,
   "id": "81f81ace",
   "metadata": {
    "hide-output": false
   },
   "outputs": [],
   "source": [
    "# Hier werden erstmal alle Dinge importiert, die wir später brauchen.\n",
    "import threading\n",
    "import traceback\n",
    "import time\n",
    "from functools import partial\n",
    "import numpy as np\n",
    "import torch\n",
    "from torchvision import datasets, transforms\n",
    "import hxtorch\n",
    "import ipywidgets as w\n",
    "from ipycanvas import Canvas, hold_canvas\n",
    "from IPython import get_ipython\n",
    "from tqdm.auto import tqdm\n",
    "\n",
    "%matplotlib inline\n",
    "import matplotlib.pyplot as plt\n",
    "\n",
    "save_nightly_calibration('hagen_cocolist.pbin')\n",
    "hxtorch.init_hardware(hxtorch.CalibrationPath('hagen_cocolist.pbin'))\n",
    "hxtorch.perceptron.set_mock_parameter(hxtorch.perceptron.measure_mock_parameter())"
   ]
  },
  {
   "cell_type": "markdown",
   "id": "872727ba",
   "metadata": {},
   "source": [
    "Im maschinellen Lernen ist das klassifizieren von Bildern ein beliebtes Beispiel, sodass eine große Sammlung von Bildern, welche Zahlen darstellen, frei verfügbar ist.\n",
    "Diese Sammlung laden wir im folgenden runter:"
   ]
  },
  {
   "cell_type": "code",
   "execution_count": null,
   "id": "8a6191db",
   "metadata": {
    "hide-output": false
   },
   "outputs": [],
   "source": [
    "# Ort, an dem das Set von Bildern gespeichert werden soll:\n",
    "data_path = 'mnist'"
   ]
  },
  {
   "cell_type": "code",
   "execution_count": null,
   "id": "14bd3210",
   "metadata": {
    "hide-output": false
   },
   "outputs": [],
   "source": [
    "transform = transforms.Compose([\n",
    "    transforms.ToTensor(),\n",
    "    transforms.Lambda(lambda x: x.round())\n",
    "])\n",
    "train_transform = transforms.Compose([\n",
    "    transforms.RandomResizedCrop(28),\n",
    "    transform,\n",
    "])\n",
    "\n",
    "# Die Bilder der Ziffern werden geladen.\n",
    "# Mit `train_data` wird trainiert, mit `test_data` kann nachher überprüft\n",
    "# werden, wie gut das Netzwerk verallgemeinern kann.\n",
    "train_data = datasets.MNIST(data_path, train=True, transform=train_transform,\n",
    "                            download=True)\n",
    "test_data = datasets.MNIST(data_path, train=False, transform=transform,\n",
    "                           download=True)\n",
    "\n",
    "numbers = {n: [] for n in range(10)}\n",
    "for img, n in test_data:\n",
    "    numbers[n].append(img)\n",
    "\n",
    "train_loader = torch.utils.data.DataLoader(\n",
    "    dataset=train_data, batch_size=200, shuffle=True)\n",
    "test_loader = torch.utils.data.DataLoader(\n",
    "    dataset=test_data, batch_size=200)"
   ]
  },
  {
   "cell_type": "markdown",
   "id": "5eb3acbd",
   "metadata": {},
   "source": [
    "Nun stellen wir einige, zufällige Bilder aus dem Set dar:"
   ]
  },
  {
   "cell_type": "code",
   "execution_count": null,
   "id": "2c157344",
   "metadata": {
    "hide-output": false
   },
   "outputs": [],
   "source": [
    "fig, axs = plt.subplots(2, 2, constrained_layout=True)\n",
    "N = len(test_data)\n",
    "for ax in axs.flatten():\n",
    "    image = test_data[np.random.randint(0, N-1)][0][0]\n",
    "    ax.imshow(image, cmap='Greys')\n",
    "    ax.set_axis_off()"
   ]
  },
  {
   "cell_type": "markdown",
   "id": "95278cc5",
   "metadata": {},
   "source": [
    "Um diese Bilder jetzt auch automatisch richtig zu erkennen, wird\n",
    "zunächst eine Beschreibung eines neuronalen Netzwerks benötigt. Der\n",
    "folgende Programmcode definiert ein Netzwerk mit einer einzelnen\n",
    "verstecken Lage mit 128 Neuronen."
   ]
  },
  {
   "cell_type": "code",
   "execution_count": null,
   "id": "acff4582",
   "metadata": {
    "hide-output": false
   },
   "outputs": [],
   "source": [
    "class Model(torch.nn.Module):\n",
    "    \"\"\"\n",
    "    Ein sehr einfaches neuronales Netzwerk mit einer einzigen\n",
    "    Lage aus versteckten Neuronen.\n",
    "    \"\"\"\n",
    "    def __init__(self, mock=True):\n",
    "        super().__init__()\n",
    "        self.mock = mock\n",
    "        num_hidden = 256  # die Anzahl der versteckten Neuronen\n",
    "        self.classifier = torch.nn.Sequential(\n",
    "            # Diese Lage verbindet jeden Pixel des Bildes\n",
    "            # mit jedem versteckten Neuron:\n",
    "            hxtorch.perceptron.nn.Linear(\n",
    "                in_features=28 * 28,  # die Bilder sind 28x28 Pixel groß\n",
    "                out_features=num_hidden,\n",
    "                mock=mock), hxtorch.perceptron.nn.ConvertingReLU(shift=1, mock=True),\n",
    "            hxtorch.perceptron.nn.Linear(\n",
    "                in_features=num_hidden,\n",
    "                out_features=num_hidden,\n",
    "                mock=mock), hxtorch.perceptron.nn.ConvertingReLU(shift=1, mock=True),\n",
    "            # Diese Lage verbindet jedes der verstecken Neuronen\n",
    "            # mit einem der 10 möglichen Ausgänge:\n",
    "            hxtorch.perceptron.nn.Linear(\n",
    "                in_features=num_hidden,\n",
    "                out_features=10,  # es gibt 10 verschiedene Ziffern\n",
    "                mock=mock)\n",
    "        )\n",
    "\n",
    "    def forward(self, x):\n",
    "        x = x.view(-1, 28 * 28) * 31.\n",
    "        x = self.classifier(x)\n",
    "        return x"
   ]
  },
  {
   "cell_type": "markdown",
   "id": "1041a181",
   "metadata": {},
   "source": [
    "Dieses Modell ist aber noch “dumm”, d.h. es kann die Zahlen noch nicht\n",
    "richtig erkennen. Das können wir direkt mal ausprobieren:"
   ]
  },
  {
   "cell_type": "code",
   "execution_count": null,
   "id": "2db31afa",
   "metadata": {
    "hide-output": false
   },
   "outputs": [],
   "source": [
    "class ZahlenMalen:\n",
    "    \"\"\"\n",
    "    Einfache Oberfläche, um MNIST-Bilder zu malen.\n",
    "    \"\"\"\n",
    "\n",
    "    def __init__(self, model, numbers, *,\n",
    "                 scale: int = 10, line_width: float = 2.5, autostop: bool = True):\n",
    "        self.down = False\n",
    "        self.changes_pending = True\n",
    "        self.running = False\n",
    "        self.model = model\n",
    "        self.numbers = numbers\n",
    "        self.scale = scale\n",
    "        self.line_width = line_width\n",
    "        self.autostop = autostop\n",
    "        self.started_at = get_ipython().execution_count\n",
    "\n",
    "        # Elemente der Oberfläche vorbereiten\n",
    "        self.canvas = Canvas(\n",
    "            width=scale * 28, height=scale * 28,\n",
    "            sync_image_data=True,\n",
    "            layout=w.Layout(border='solid gray', margin='10px'))\n",
    "\n",
    "        # Wir verwenden \"gray\", da \"black\" nur die Transparenz auf 0 setzt,\n",
    "        # wir aber aktiv die RGB Werte setzen wollen.\n",
    "        self.canvas.fill_style = \"gray\"\n",
    "        self.clear()\n",
    "\n",
    "        self.color_chooser = w.RadioButtons(\n",
    "            description='Farbe ✏️', options=['schwarz', 'weiß'])\n",
    "        self.clear_button = w.Button(description='Löschen', button_style='')\n",
    "        self.submit_button = w.Button()\n",
    "        self.result_text = w.HTML()\n",
    "        height = (scale * 28 + 0) / 10\n",
    "        b_layout = w.Layout(width=f\"{height}px\", height=f\"{height}px\")\n",
    "        self.number_buttons = [\n",
    "            w.Button(description=str(n),layout=b_layout) for n in range(10)]\n",
    "\n",
    "        # Events für die Maus-/Touchsteuerung registrieren\n",
    "        self.canvas.on_mouse_down(self.start_draw)\n",
    "        self.canvas.on_mouse_up(self.stop_draw)\n",
    "        self.canvas.on_mouse_out(self.stop_draw)\n",
    "        self.canvas.on_mouse_move(self.draw)\n",
    "        self.canvas.on_touch_start(self.start_draw)\n",
    "        self.canvas.on_touch_end(self.stop_draw)\n",
    "        self.canvas.on_touch_cancel(self.stop_draw)\n",
    "        self.canvas.on_touch_move(self.draw)\n",
    "        self.submit_button.on_click(self.toggle_worker)\n",
    "        self.clear_button.on_click(self.clear)\n",
    "        w.interactive(self.choose_color, color=self.color_chooser)\n",
    "        for n, button in enumerate(self.number_buttons):\n",
    "            button.on_click(partial(self.draw_number, n))\n",
    "\n",
    "        self.start_worker()\n",
    "\n",
    "    def display(self):\n",
    "        display(w.HBox([w.VBox(self.number_buttons),\n",
    "                        self.canvas,\n",
    "                        w.VBox([self.color_chooser,\n",
    "                                w.HBox([self.clear_button, self.submit_button]),\n",
    "                                self.result_text])]))\n",
    "\n",
    "    def draw(self, x, y):\n",
    "        if self.down:\n",
    "            x = (round(x/self.scale) - self.line_width / 2) * self.scale\n",
    "            y = (round(y/self.scale) - self.line_width / 2) * self.scale\n",
    "            lw = self.scale * self.line_width\n",
    "            self.canvas.fill_rect(x, y, lw, lw)\n",
    "            self.changes_pending = True\n",
    "\n",
    "    def draw_number(self, n: int, *_):\n",
    "        assert 0<=n and n<10\n",
    "        self.clear()\n",
    "        self.put_image_data(\n",
    "            self.numbers[n][np.random.randint(0, len(self.numbers[n]))])\n",
    "\n",
    "    def start_draw(self, x, y):\n",
    "        self.down = True\n",
    "        self.draw(x, y)\n",
    "\n",
    "    def stop_draw(self, x, y):\n",
    "        self.down = False\n",
    "\n",
    "    def choose_color(self, color):\n",
    "        self.canvas.fill_style = 'white' if (color == 'weiß') else \"gray\"\n",
    "\n",
    "    def clear(self, *args):\n",
    "        tmp_color = self.canvas.fill_style\n",
    "        self.canvas.fill_style = 'white'\n",
    "        self.canvas.fill_rect(0, 0, self.canvas.width, self.canvas.height)\n",
    "        self.canvas.fill_style = tmp_color\n",
    "        self.changes_pending = True\n",
    "\n",
    "    def get_image_data(self):\n",
    "        try:\n",
    "            s = slice(round(self.scale/2), None, self.scale)\n",
    "            image_data = self.canvas.get_image_data()[s, s, 0]\n",
    "            # Unser Modell erwartet Werte zwischen 0 und 1 wobei\n",
    "            # schwarze Pixel ursprünglich mit 1 gekennzeichnet waren.\n",
    "            # Da wir grau zum Zeichnen verwendet haben (R=G=B=128) setzen\n",
    "            # wir alle Pixel mit einem Wert kleiner gleich 128 auf 1\n",
    "            image_data = (image_data <= 128).astype(float)\n",
    "        except:\n",
    "            image_data = self.canvas.create_image_data(\n",
    "                self.canvas.width//self.scale, self.canvas.height//self.scale)[..., -1]\n",
    "            image_data = image_data / 255\n",
    "        return image_data\n",
    "\n",
    "    def put_image_data(self, image_data):\n",
    "        # wiederhole die Pixel damit sie auf den Canvas passen\n",
    "        data = image_data.repeat_interleave(\n",
    "                self.scale, -2).repeat_interleave(self.scale, -1)[0]\n",
    "        # konvertiere die Intensitaeten der Pixel in den RGB Bereich\n",
    "        image = (1 - np.repeat(np.array(data)[:, :, np.newaxis], 3, axis=-1)) * 255\n",
    "        self.canvas.put_image_data(image)\n",
    "        self.changes_pending = True\n",
    "\n",
    "    def inference(self):\n",
    "        try:\n",
    "            if self.model.mock:\n",
    "                time.sleep(0.5)\n",
    "            data = torch.tensor(\n",
    "                self.get_image_data(), dtype=torch.float).unsqueeze(0)\n",
    "            results_p = self.model(data.unsqueeze(0)).detach().flatten()\n",
    "            results = reversed(results_p.argsort())\n",
    "            results_t = [f\"<h4>{i} <small>({results_p[i]:.0f})</small></h4>\" for i in results]\n",
    "            text = \"<h3>Ergebnis:</h3>\"\n",
    "            text += ''.join(results_t[:5])\n",
    "            self.result_text.value = text\n",
    "        except:\n",
    "            self.print_traceback()\n",
    "\n",
    "    def print_traceback(self):\n",
    "        \"\"\"\n",
    "        Zeigt eventuelle Fehler als roten Text auf der Oberfläche\n",
    "        https://github.com/martinRenou/ipycanvas/issues/61\n",
    "        \"\"\"\n",
    "        self.canvas.fill_style = '#ff8888'\n",
    "        self.canvas.fill_rect(10, 10, 300, 300)\n",
    "        self.canvas.fill_style = '#000000'\n",
    "        s = traceback.format_exc()\n",
    "        for i, si in enumerate(s.split('\\n')):\n",
    "            self.canvas.fill_text(si, 20, 30+15*i)\n",
    "\n",
    "    def start_worker(self, *_):\n",
    "        \"\"\" Startet einen neuen Hintergrundprozess \"\"\"\n",
    "        self.started_at = get_ipython().execution_count\n",
    "        self.running = True\n",
    "        self.submit_button.description = \"Stop\"\n",
    "        self.submit_button.button_style = \"danger\"\n",
    "\n",
    "        def work(zm: ZahlenMalen):\n",
    "            while zm.running:\n",
    "                if zm.changes_pending or True:\n",
    "                    zm.changes_pending = False\n",
    "                    zm.inference()\n",
    "                else:\n",
    "                    time.sleep(0.2)\n",
    "                if self.autostop and get_ipython().execution_count > zm.started_at + 1:\n",
    "                    zm.stop_worker()\n",
    "\n",
    "        thread = threading.Thread(target=work, args=(self,))\n",
    "        thread.start()\n",
    "\n",
    "    def stop_worker(self, *_):\n",
    "        # stop and update button\n",
    "        self.running = False\n",
    "        self.submit_button.description = \"Start\"\n",
    "        self.submit_button.button_style = \"success\"\n",
    "\n",
    "    def toggle_worker(self, *_):\n",
    "        if self.running:\n",
    "            self.stop_worker()\n",
    "        else:\n",
    "            self.start_worker()\n",
    "\n",
    "# Anzeigen der Oberfläche zum Malen\n",
    "model = Model()\n",
    "zm1 = ZahlenMalen(model, numbers, line_width=2)\n",
    "zm1.display()"
   ]
  },
  {
   "cell_type": "markdown",
   "id": "ac245efc",
   "metadata": {},
   "source": [
    "In dem weißen Bereich kann man selber malen oder mit den Knöpfen auf der\n",
    "linken Seite eine Zahl malen lassen. Unter **Ergebnis** sollte dann ganz\n",
    "oben die wahrscheinlich richtige Ziffer erscheinen, darunter kommen die\n",
    "Ziffern, die das Modell als etwas weniger wahrscheinlich vorschlägt. Da\n",
    "herrscht jetzt vermutlich noch ein ziemliches Durcheinander, aber es\n",
    "wurde ja auch noch nicht trainiert!"
   ]
  },
  {
   "cell_type": "markdown",
   "id": "51d456ab",
   "metadata": {},
   "source": [
    "### Training des Modells\n",
    "\n",
    "In diesem Teil soll nun ein Modell so trainiert werden, dass es möglichst\n",
    "gut handgeschreibene Ziffern erkennen kann. Dazu werden im Folgenden zwei\n",
    "Funktionen benötigt:\n",
    "\n",
    "- `train` zeigt dem Netzwerk nacheinander jedes\n",
    "  Trainingsbeispiel und passt dabei die Gewichte, die Verbindungen zwischen\n",
    "  den Neuronen, an.  \n",
    "- `test` testet, wie gut das Netzwerk verallgemeinern\n",
    "  kann. Dafür wird versucht die Testbeispiele (die nicht zum Trainieren\n",
    "  verwendet wurden) zuzuordnen und das Ergebnis mit den richtigen Ziffern\n",
    "  verglichen.  "
   ]
  },
  {
   "cell_type": "code",
   "execution_count": null,
   "id": "68faaf44",
   "metadata": {
    "hide-output": false
   },
   "outputs": [],
   "source": [
    "zm1.stop_worker()\n",
    "\n",
    "def train(model: torch.nn.Module,\n",
    "          loader: torch.utils.data.DataLoader,\n",
    "          optimizer: torch.optim.Optimizer):\n",
    "    \"\"\"\n",
    "    Diese Funktion trainiert das Modell.\n",
    "\n",
    "    :param model: Das Modell\n",
    "    :param loader: Die zu verwendenden Beispielbilder\n",
    "    :param optimizer: Der Optimierer, der zum Anpassen des Modells\n",
    "        verwendet werden soll\n",
    "    \"\"\"\n",
    "    model.train()\n",
    "    pbar = tqdm(\n",
    "        total=len(loader), unit=\"batch\", postfix=\" \" * 11, leave=False)\n",
    "    for data, target in loader:\n",
    "        optimizer.zero_grad()\n",
    "        output = model(data)\n",
    "        loss = torch.nn.functional.cross_entropy(output, target) / 64\n",
    "        loss.backward()\n",
    "        optimizer.step()  # automatisches Anpassen der Gewichte\n",
    "        pbar.set_postfix(loss=f\"{loss.item():.4f}\")\n",
    "        pbar.update()\n",
    "    pbar.close()\n",
    "\n",
    "\n",
    "def test(model: torch.nn.Module, loader: torch.utils.data.DataLoader) -> float:\n",
    "    \"\"\"\n",
    "    Diese Funktion testet das Modell.\n",
    "\n",
    "    :param model: Das zu testende Modell\n",
    "    :param loader: Die zu verwendenden Beispielbilder\n",
    "    :return: Die erreichte Genauigkeit\n",
    "    \"\"\"\n",
    "    model.eval()\n",
    "    loss = 0\n",
    "    n_correct = 0\n",
    "    n_total = len(loader.dataset)\n",
    "    pbar = tqdm(total=len(loader), unit=\"batch\", leave=False)\n",
    "    with torch.no_grad():\n",
    "        for data, target in loader:\n",
    "            output = model(data)\n",
    "            pred = output.argmax(dim=1, keepdim=True)\n",
    "            n_correct += pred.eq(target.view_as(pred)).sum().item()\n",
    "            pbar.update()\n",
    "    pbar.close()\n",
    "    accuracy = n_correct / n_total\n",
    "    return accuracy"
   ]
  },
  {
   "cell_type": "code",
   "execution_count": null,
   "id": "a1a764dc",
   "metadata": {
    "hide-output": false
   },
   "outputs": [],
   "source": [
    "# Dieses Modell soll trainiert werden\n",
    "model = Model()\n",
    "print(model)\n",
    "\n",
    "# Dieser Optimierer wird für das Training benötigt\n",
    "# und übernimmt die Anpassung der Gewichte.\n",
    "optimizer = torch.optim.Adam(\n",
    "    model.parameters(),  # es sollen alle Gewichte trainiert werden\n",
    "    lr=0.25,  # Geschwindigkeit, mit der gelernt werden soll\n",
    ")"
   ]
  },
  {
   "cell_type": "markdown",
   "id": "560e37b6",
   "metadata": {},
   "source": [
    "Trainiert wird nun in sogenannten Epochen, das heißt es werden die\n",
    "gleichen Beispiele immer wieder gezeigt. Dabei sollte das Netzwerk\n",
    "immer besser werden."
   ]
  },
  {
   "cell_type": "code",
   "execution_count": null,
   "id": "a8ac9492",
   "metadata": {
    "hide-output": false
   },
   "outputs": [],
   "source": [
    "num_epochs = 4  # Die Anzahl der Trainingsepochen\n",
    "for epoch in range(num_epochs):\n",
    "    train(model, train_loader, optimizer)\n",
    "    accuracy = test(model, test_loader)\n",
    "    print(f\"Genauigkeit: {accuracy*100:.2f}%\")"
   ]
  },
  {
   "cell_type": "markdown",
   "id": "db22aa24",
   "metadata": {},
   "source": [
    "Jetzt sollte das Netzwerk die gemalten Ziffern auch erkennen können:"
   ]
  },
  {
   "cell_type": "code",
   "execution_count": null,
   "id": "3dfdaec7",
   "metadata": {
    "hide-output": false
   },
   "outputs": [],
   "source": [
    "zm2 = ZahlenMalen(model, numbers, line_width=2)\n",
    "zm2.display()"
   ]
  },
  {
   "cell_type": "markdown",
   "id": "a58dc5fd",
   "metadata": {},
   "source": [
    "- Ihr werdet feststellen, das manche Ziffern einfacher erkannt werden\n",
    "  als andere. Woran könnte das liegen?  \n",
    "- Reicht es auch, nur eine halbe Ziffer zu malen?  "
   ]
  },
  {
   "cell_type": "code",
   "execution_count": null,
   "id": "765075e7",
   "metadata": {
    "hide-output": false
   },
   "outputs": [],
   "source": [
    "zm2.stop_worker()"
   ]
  }
 ],
 "metadata": {
  "date": 1741779496.8584669,
  "filename": "gs_05_machine_learning.rst",
  "kernelspec": {
   "display_name": "EBRAINS-experimental",
   "language": "python3",
   "name": "ebrains-experimental"
  },
  "title": "Maschinelles Lernen"
 },
 "nbformat": 4,
 "nbformat_minor": 5
}