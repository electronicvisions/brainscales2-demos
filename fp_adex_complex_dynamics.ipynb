{
 "cells": [
  {
   "cell_type": "markdown",
   "id": "bc5d9f29",
   "metadata": {},
   "source": [
    "# Complex Neuron Dynamics with a Silicon Adaptive Exponential Integrate-and-Fire Neuron\n",
    "\n",
    "Biological neurons exhibit electrophysiological behavior beyond the\n",
    "dynamics of the plain leaky integrate-and-fire model. These dynamics\n",
    "include adaptation processes on vastly different time scales which may\n",
    "act either as positive or as negative feedback, which can lead to\n",
    "bistable behavior such as transient dynamics or bursting. A plethora of\n",
    "more complex neuron models attempt to capture these higher-order\n",
    "effects with a varying degree of biophysical detail."
   ]
  },
  {
   "cell_type": "markdown",
   "id": "81e630a1",
   "metadata": {},
   "source": [
    "## The adaptive exponential integrate-and-fire model\n",
    "\n",
    "The adaptive exponential integrate-and-fire (AdEx) equations address\n",
    "this in a rather phenomenological manner and for that purpose simply\n",
    "extend the leaky integrate-and-fire equation. It introduces an\n",
    "exponential feedback current to mimic the onset of an action potential\n",
    "and augments the membrane equation by a second differential equation for\n",
    "an adaptation current $ w $:\n",
    "\n",
    "$$\n",
    "\\begin{align}\n",
    "        C\\frac{\\operatorname{d} V}{\\operatorname{d} t} &= -g_l\\left(V-E_l\\right)\n",
    "                \\,+\\, g_\\text{l}\\Delta_\\text{T}\\operatorname{exp}\\left(\\frac{V-V_\\text{T}}{\\Delta_\\text{T}}\\right)\n",
    "                \\,-\\, w\n",
    "                \\,+\\, I_\\text{stim}\\\\[1em]\n",
    "                \\tau_w \\frac{\\operatorname{d}w}{\\operatorname{d}t} &= a\\left(V-E_\\text{l}\\right) - w \\,.\n",
    " \\end{align}\n",
    "$$\n",
    "\n",
    "On top of the LIF model, these equations introduce the exponential slope\n",
    "and threshold $ \\Delta_\\text{T} $ and $ V_\\text{T} $,\n",
    "respectively, the adaptation current $ w $, its time constant\n",
    "$ \\tau_w $, the spike-triggered increment of the adaptation state\n",
    "$ b $, and the subthreshold adaptation strength $ a $.\n",
    "\n",
    "The silicon neuron possesses a set of additional, more technical\n",
    "parameters, e.g. for the baseline of the adaptation state voltage.\n",
    "\n",
    "A rather detailed analysis of the AdEx dynamics was performed by Naud et\n",
    "al. (2008) and might be useful for the interested reader:\n",
    "\n",
    "[Naud, Richard, Nicolas Marcille, Claudia Clopath, and Wulfram Gerstner.\n",
    "“Firing patterns in the adaptive exponential integrate-and-fire model.”\n",
    "Biological cybernetics 99 (2008):\n",
    "335-347.](https://www.ncbi.nlm.nih.gov/pmc/articles/PMC2798047/)"
   ]
  },
  {
   "cell_type": "markdown",
   "id": "781b601e",
   "metadata": {},
   "source": [
    "## The firing patterns of the AdEx model\n",
    "\n",
    "The AdEx dynamics are capable of reproducing many of the firing patterns\n",
    "whitnessed in electrophysiological recordings – only by means of\n",
    "choosing suitable model parameters. Naud et al. (2008) analyzed these\n",
    "different configurations in great detail. We will, in the following,\n",
    "limit ourselves to the following four examples (adapted from Naud et\n",
    "al. (2008)):\n",
    "\n",
    "<img src=\"_static/tutorial/adex-naud-patterns.png\" style=\"width:100%;\">\n",
    "\n",
    "Each pattern is an AdEx neuron’s response to a constant step current. It\n",
    "is characterized through the resulting spike times and the membrane\n",
    "trace, which is shown next to the trajectory through the phase space of\n",
    "both the membrane potential $ V $ and the adaptation current\n",
    "$ w $. These phase diagrams display the behavior of the complete\n",
    "dynamical system including, e.g., the discontinuities at the respective\n",
    "spike times. They also indiciate the nullclines, i.e. the curves where\n",
    "$ \\dot V (w) = 0 $ (black curves, solid: resting state, dashed:\n",
    "during stimulus) and $ \\dot w (V) = 0 $ (green line), respectively.\n",
    "For a more detailed description, please refer to Naud et al. (2008)."
   ]
  },
  {
   "cell_type": "markdown",
   "id": "b80dc46a",
   "metadata": {},
   "source": [
    "## Silicon neuron implementation\n",
    "\n",
    "The silicon neurons of BrainScaleS-2 attempt to faithfully implement the\n",
    "AdEx dynamics as captured by the above system of differential equations.\n",
    "Each model parameter can be tuned by means of either programmable\n",
    "voltage references or bias currents.\n",
    "\n",
    "Deviating from the original equations, the silicon neuron keeps track of\n",
    "the adaptation state in form of a voltage, which is then converted into\n",
    "a current flowing onto the membrane; the neuron consists of two coupled\n",
    "leaky integrators. The resistive elements behind these RC circuits are\n",
    "implemented from active, transistor-based (trans-)conductances and can\n",
    "be tuned through bias currents (higher bias currents will result in\n",
    "stronger conductances – corresponding to, e.g., lower time constants).\n",
    "While cross-dependencies between different parameters have been reduced\n",
    "to a minimum during the design phase, a direct one-to-one correspondence\n",
    "between model and circuit parameters is not always guaranteed. The\n",
    "following diagram attempts to highlight the fundamental dependencies and\n",
    "all parameters revelant for a basic understanding of the AdEx circuits.\n",
    "\n",
    "<img src=\"_static/tutorial/adex-schematic.png\" style=\"width:100%;\">\n",
    "\n",
    "The two RC circuits representing the membrane and the adaptation term\n",
    "are coupled through two voltage-controlled current sources with a\n",
    "tunable transconductance (strength), which we use to, e.g., tune the\n",
    "subthreshold adaptation strength."
   ]
  },
  {
   "cell_type": "code",
   "execution_count": null,
   "id": "b0af902a",
   "metadata": {
    "hide-output": false
   },
   "outputs": [],
   "source": [
    "%matplotlib inline\n",
    "from _static.common.helpers import setup_hardware_client\n",
    "setup_hardware_client()\n",
    "\n",
    "import pynn_brainscales.brainscales2 as pynn\n",
    "\n",
    "from _static.tutorial.snn_adex_helpers import plot_membrane_dynamics, build_gui\n",
    "from ipywidgets import fixed\n",
    "\n",
    "import matplotlib.pyplot as plt"
   ]
  },
  {
   "cell_type": "code",
   "execution_count": null,
   "id": "ba0d83ca",
   "metadata": {
    "hide-output": false
   },
   "outputs": [],
   "source": [
    "import pyhalco_hicann_dls_vx_v3 as halco\n",
    "\n",
    "def adjust_calibration():\n",
    "    for i in halco.iter_all(halco.CommonNeuronBackendConfigOnDLS):\n",
    "        pynn.simulator.state.grenade_chip_config.neuron_block.backends[i].enable_clocks = True\n",
    "        pynn.simulator.state.grenade_chip_config.neuron_block.backends[i].clock_scale_fast = 3\n",
    "        pynn.simulator.state.grenade_chip_config.neuron_block.backends[i].clock_scale_slow = 3\n",
    "        pynn.simulator.state.grenade_chip_config.neuron_block.backends[i].\\\n",
    "            clock_scale_adaptation_pulse = 7\n",
    "        pynn.simulator.state.grenade_chip_config.neuron_block.backends[i].\\\n",
    "            clock_scale_post_pulse = 5"
   ]
  },
  {
   "cell_type": "code",
   "execution_count": null,
   "id": "f9390377",
   "metadata": {
    "hide-output": false
   },
   "outputs": [],
   "source": [
    "def experiment(**kwargs):\n",
    "    global last_configuration\n",
    "    last_configuration = kwargs\n",
    "\n",
    "    target_neuron = kwargs.pop(\"target_neuron\", 0)\n",
    "\n",
    "    pynn.setup(neuronPermutation=[target_neuron, target_neuron + 1])\n",
    "\n",
    "    pop = pynn.Population(2, pynn.cells.HXNeuron())\n",
    "\n",
    "    neuron = pop[0]\n",
    "    readout_dummy = pop[1]\n",
    "\n",
    "    neuron.reset_v_reset = 300\n",
    "    neuron.reset_i_bias = 1022\n",
    "    neuron.reset_enable_multiplication = True\n",
    "    neuron.membrane_capacitance_capacitance = 63\n",
    "    neuron.refractory_period_refractory_time = 30\n",
    "    neuron.refractory_period_enable_pause = True\n",
    "\n",
    "    neuron.threshold_v_threshold = 620\n",
    "    neuron.threshold_enable = True\n",
    "\n",
    "    # adaptation\n",
    "    neuron.adaptation_enable_pulse = True\n",
    "    neuron.adaptation_i_bias_b = 0\n",
    "\n",
    "    neuron.multicompartment_connect_right = True\n",
    "\n",
    "    neuron.exponential_enable = any([k.startswith(\"exponential\") for k in kwargs.keys()])\n",
    "\n",
    "    if any([k.startswith(\"adaptation\") for k in kwargs.keys()]):\n",
    "        enable_adaptation = False\n",
    "        if \"adaptation_i_bias_a\" in kwargs.keys() and kwargs[\"adaptation_i_bias_a\"] != 0:\n",
    "            enable_adaptation = True\n",
    "        if \"adaptation_i_bias_b\" in kwargs.keys() and kwargs[\"adaptation_i_bias_b\"] != 0:\n",
    "            enable_adaptation = True\n",
    "        neuron.adaptation_enable = enable_adaptation\n",
    "\n",
    "        if enable_adaptation:\n",
    "            # the adaptation leak reference has to track the membrane leak to avoid offset currents\n",
    "            neuron.adaptation_v_leak = 500 + kwargs[\"leak_v_leak\"] - 700\n",
    "\n",
    "    for k, v in kwargs.items():\n",
    "        setattr(neuron, k, v)\n",
    "\n",
    "    readout_dummy.membrane_capacitance_capacitance = 0\n",
    "    readout_dummy.leak_i_bias = 0\n",
    "    readout_dummy.leak_enable_division = True\n",
    "    readout_dummy.threshold_enable = False\n",
    "\n",
    "    pop[0:1].record([\"adaptation\", \"spikes\"])\n",
    "    pop[1:2].record([\"v\"])\n",
    "\n",
    "    adjust_calibration()\n",
    "\n",
    "    # schedule and execute hardware run\n",
    "    pop[0:1].set(constant_current_enable=False)\n",
    "    pynn.run(0.1, pynn.RunCommand.APPEND)\n",
    "    pop[0:1].set(constant_current_enable=True)\n",
    "    pynn.run(0.6, pynn.RunCommand.APPEND)\n",
    "    pop[0:1].set(constant_current_enable=False)\n",
    "    pynn.run(0.3, pynn.RunCommand.EXECUTE)\n",
    "\n",
    "    plot_membrane_dynamics(pop)\n",
    "    plt.show()\n",
    "\n",
    "    pynn.end()"
   ]
  },
  {
   "cell_type": "markdown",
   "id": "85e87c55",
   "metadata": {},
   "source": [
    "## Understanding subthreshold adaptation\n",
    "\n",
    "1. Get accustomed with the shown neuron parameters and attempt to\n",
    "  associate them with model parameters from the differential equations.  \n",
    "1. Observe the membrane and adaptation states and characterize their\n",
    "  response to a change in the stimulus current and sub-threshold\n",
    "  adaptation bias. (*Hint: It might be advantageous to start from a\n",
    "  clean state, i.e. re-execute the cell to reset the parameters.*)  \n",
    "  - You should be able to observe a “ringing” at the transients,\n",
    "    visible as an overshoot at the leading and trailing edges of the\n",
    "    stimulus current.  \n",
    "  - Can you induce a (dampened) oscillatory behavior at the transients\n",
    "    of the stimulus? Consider strengthening the sub-threshold adaptation\n",
    "    and aligning the leak and adaptation time constants (by slowing down\n",
    "    the membrane and increasing the speed of the adaptation state).  "
   ]
  },
  {
   "cell_type": "code",
   "execution_count": null,
   "id": "4e962ae7",
   "metadata": {
    "hide-output": false
   },
   "outputs": [],
   "source": [
    "build_gui(experiment, [\"leak_i_bias\", \"leak_v_leak\", \"adaptation_v_ref\", \"adaptation_i_bias_tau\", \"adaptation_i_bias_a\", \"constant_current_i_offset\"], {\"target_neuron\": fixed(1)}, defaults={\"adaptation_i_bias_a\": 10, \"leak_enable_division\": True})"
   ]
  },
  {
   "cell_type": "markdown",
   "id": "a191fdfb",
   "metadata": {},
   "source": [
    "## Transient spiking\n",
    "\n",
    "1. Let’s now consider a few more neuron parameters (i.e. *reset\n",
    "  potential*, *spike-triggered adaptation strength*, *exponential onset\n",
    "  potential*, and *exponential slope bias*). Associate them with\n",
    "  quantities from the differential equations.  \n",
    "1. Exploit the overshoot observed before to reach a configuration where\n",
    "  the neuron only fires at the leading edge of the stimulus.  \n",
    "  - Gradually reduce the exponential onset potential until you oberve\n",
    "    spikes. What’s the impact of this voltage and the reset potential\n",
    "    on the spike count?  \n",
    "  - Configure the neuron to emit approximately three spikes marking\n",
    "    the onset of the stimulus. Now increase the spike-triggered\n",
    "    adaptation strength and observe its impact on the adaptation state\n",
    "    and the spike count. Adjust it to enforce only a single spike.  "
   ]
  },
  {
   "cell_type": "code",
   "execution_count": null,
   "id": "143a43cb",
   "metadata": {
    "hide-output": false
   },
   "outputs": [],
   "source": [
    "build_gui(experiment, [\"leak_i_bias\", \"leak_v_leak\", \"reset_v_reset\", \"adaptation_v_ref\", \"adaptation_i_bias_tau\", \"adaptation_i_bias_a\", \"adaptation_i_bias_b\", \"exponential_v_exp\", \"exponential_i_bias\", \"constant_current_i_offset\"], {\"target_neuron\": fixed(0)}, copy_configuration=True)"
   ]
  },
  {
   "cell_type": "markdown",
   "id": "24b730ea",
   "metadata": {},
   "source": [
    "## Spike-frequency adaptation\n",
    "\n",
    "1. Let us now consider a state with dominating spike-triggered\n",
    "  adaptation by reducing (or disabling) the strength of the\n",
    "  sub-threshold component. Reduce the exponential onset potential until\n",
    "  you observe approximately a dozen spikes during the stimulus (and\n",
    "  only during the stimulus).  \n",
    "1. Now increase the spike-triggered adaptation strength and observe its\n",
    "  impact on the inter-spike intervals. Also describe the impact of the\n",
    "  adaptation time constant and vary the stimulus current strength.  "
   ]
  },
  {
   "cell_type": "code",
   "execution_count": null,
   "id": "b917211f",
   "metadata": {
    "hide-output": false
   },
   "outputs": [],
   "source": [
    "build_gui(experiment, [\"leak_i_bias\", \"leak_v_leak\", \"reset_v_reset\", \"adaptation_v_ref\", \"adaptation_i_bias_tau\", \"adaptation_i_bias_a\", \"adaptation_i_bias_b\", \"exponential_v_exp\", \"exponential_i_bias\", \"constant_current_i_offset\"], {\"target_neuron\": fixed(0)}, defaults={\"adaptation_i_bias_a\": 0, \"adaptation_i_bias_b\": 200}, copy_configuration=True)"
   ]
  },
  {
   "cell_type": "markdown",
   "id": "37446596",
   "metadata": {},
   "source": [
    "## Bursting\n",
    "\n",
    "1. Using your freshly gained knowledge, configure the neuron for\n",
    "  spike-frequency adaptation and roughly a dozen spikes. Now,\n",
    "  carefully increase the reset potential such that it approaches the\n",
    "  turning “point of no return” induced by the exponential current.  \n",
    "1. Replicate “initial bursting”, characterized by a quick burst of\n",
    "  spikes at the onset of the stimulus followed by regularly spaced\n",
    "  individual action potentials. Have a closer look at the membrane\n",
    "  potential. Can you discern a difference in the membrane’s trajectory\n",
    "  after a spike within a burst and an individual spike?  \n",
    "1. Continue slowly increasing the reset potential. Configure the neuron\n",
    "  for regular bursting.  \n",
    "1. In both cases, explore the impact of the adaptation time constant\n",
    "  and the spike-triggered adaptation strength.  "
   ]
  },
  {
   "cell_type": "code",
   "execution_count": null,
   "id": "89f6a679",
   "metadata": {
    "hide-output": false
   },
   "outputs": [],
   "source": [
    "build_gui(experiment, [\"leak_i_bias\", \"leak_v_leak\", \"reset_v_reset\", \"adaptation_v_ref\", \"adaptation_i_bias_tau\", \"adaptation_i_bias_a\", \"adaptation_i_bias_b\", \"exponential_v_exp\", \"exponential_i_bias\", \"constant_current_i_offset\"], {\"target_neuron\": fixed(0)}, copy_configuration=True)"
   ]
  }
 ],
 "metadata": {
  "date": 1731315138.7476923,
  "filename": "fp_adex_complex_dynamics.rst",
  "kernelspec": {
   "display_name": "EBRAINS-experimental",
   "language": "python",
   "name": "ebrains-experimental"
  },
  "title": "Complex Neuron Dynamics with a Silicon Adaptive Exponential Integrate-and-Fire Neuron"
 },
 "nbformat": 4,
 "nbformat_minor": 5
}