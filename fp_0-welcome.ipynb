{
 "cells": [
  {
   "cell_type": "markdown",
   "id": "fa03eeb9",
   "metadata": {},
   "source": [
    "# Welcome to the Advanced Physics Lab for Physicists by the Electronic Vision(s) Group\n",
    "\n",
    "<img src=\"_static/fp/bss2.jpg\" style=\"\">\n",
    "\n",
    "Hello and welcome to this lab course!"
   ]
  }
 ],
 "metadata": {
  "date": 1679561230.6319857,
  "filename": "fp_0-welcome.rst",
  "kernelspec": {
   "display_name": "Python",
   "language": "python3",
   "name": "python3"
  },
  "title": "Welcome to the Advanced Physics Lab for Physicists by the Electronic Vision(s) Group"
 },
 "nbformat": 4,
 "nbformat_minor": 5
}