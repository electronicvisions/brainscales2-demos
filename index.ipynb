{
 "cells": [
  {
   "cell_type": "markdown",
   "id": "c0635576",
   "metadata": {},
   "source": [
    "# Welcome to the BrainScaleS-2 Demos & Examples!\n",
    "\n",
    "- [Demos and Examples](tutorial.ipynb)\n",
    "- [Girlsday](girlsday.ipynb)\n",
    "- [Advanced Lab Course](fortgeschrittenen_praktikum.ipynb)"
   ]
  }
 ],
 "metadata": {
  "date": 1701248871.6855614,
  "filename": "index.rst",
  "kernelspec": {
   "display_name": "EBRAINS-experimental",
   "language": "python",
   "name": "ebrains-experimental"
  },
  "title": "Welcome to the BrainScaleS-2 Demos & Examples!"
 },
 "nbformat": 4,
 "nbformat_minor": 5
}