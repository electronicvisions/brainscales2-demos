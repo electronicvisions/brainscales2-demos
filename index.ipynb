{
 "cells": [
  {
   "cell_type": "markdown",
   "id": "10384920",
   "metadata": {},
   "source": [
    "# Welcome to the BrainScaleS-2 Demos & Examples!"
   ]
  },
  {
   "cell_type": "markdown",
   "id": "b964ddc4",
   "metadata": {},
   "source": [
    "# Demos and Examples\n",
    "\n",
    "- [Welcome to the BrainScaleS-2 Tutorial](tutorial_0-welcome.ipynb)\n",
    "  - [BrainScaleS-2 single neuron experiments](tutorial_1-single_neuron.ipynb)\n",
    "  - [Learning with the SuperSpike rule](tutorial_2-superspike.ipynb)\n",
    "  - [Introduction to matrix multiplication](tutorial_3-hagen_intro.ipynb)\n",
    "  - [Exploring the analog MAC operation](tutorial_4-hagen_properties.ipynb)\n",
    "  - [BrainScaleS-2 on-chip plasticity experiment](tutorial_5-plasticity_rate_coding.ipynb)\n",
    "  - [Structured Neurons](tutorial_6-multicompartment.ipynb)\n",
    "  - [Executing the Notebooks](tutorial_0-welcome.ipynb#executing-the-notebooks)\n",
    "  - [Shared Hardware Resources](tutorial_0-welcome.ipynb#shared-hardware-resources)\n",
    "  - [Final test: Hardware Execution](tutorial_0-welcome.ipynb#final-test-hardware-execution)\n",
    "- [BrainScaleS-2 single neuron experiments](tutorial_1-single_neuron.ipynb)\n",
    "  - [A silent neuron](tutorial_1-single_neuron.ipynb#a-silent-neuron)\n",
    "  - [Leak over threshold](tutorial_1-single_neuron.ipynb#leak-over-threshold)\n",
    "  - [Fixed-pattern variations](tutorial_1-single_neuron.ipynb#fixed-pattern-variations)\n",
    "  - [Summary](tutorial_1-single_neuron.ipynb#summary)\n",
    "  - [Outlook: External stimulation](tutorial_1-single_neuron.ipynb#outlook-external-stimulation)\n",
    "- [Learning with the SuperSpike rule](tutorial_2-superspike.ipynb)\n",
    "  - [Training spiking networks with surrogate gradients](tutorial_2-superspike.ipynb#training-spiking-networks-with-surrogate-gradients)\n",
    "  - [Helper functions](tutorial_2-superspike.ipynb#helper-functions)\n",
    "  - [Define network in PyNN](tutorial_2-superspike.ipynb#define-network-in-pynn)\n",
    "  - [Construct Poisson input spike trains](tutorial_2-superspike.ipynb#construct-poisson-input-spike-trains)\n",
    "  - [Generating a taget spike train](tutorial_2-superspike.ipynb#generating-a-taget-spike-train)\n",
    "  - [The SuperSpike learning rule](tutorial_2-superspike.ipynb#the-superspike-learning-rule)\n",
    "  - [Training the network](tutorial_2-superspike.ipynb#training-the-network)\n",
    "- [Introduction to matrix multiplication](tutorial_3-hagen_intro.ipynb)\n",
    "  - [Principles](tutorial_3-hagen_intro.ipynb#principles)\n",
    "  - [Example](tutorial_3-hagen_intro.ipynb#example)\n",
    "- [Exploring the analog MAC operation](tutorial_4-hagen_properties.ipynb)\n",
    "  - [The `hxtorch` API](tutorial_4-hagen_properties.ipynb#the-hxtorch-api)\n",
    "  - [Noise and fixed-pattern deviations](tutorial_4-hagen_properties.ipynb#noise-and-fixed-pattern-deviations)\n",
    "  - [Linearity of the MAC operation](tutorial_4-hagen_properties.ipynb#linearity-of-the-mac-operation)\n",
    "- [BrainScaleS-2 on-chip plasticity experiment](tutorial_5-plasticity_rate_coding.ipynb)\n",
    "  - [Controlling the on-chip plasticity processor](tutorial_5-plasticity_rate_coding.ipynb#controlling-the-on-chip-plasticity-processor)\n",
    "  - [The plasticity kernel](tutorial_5-plasticity_rate_coding.ipynb#the-plasticity-kernel)\n",
    "  - [The experiment](tutorial_5-plasticity_rate_coding.ipynb#the-experiment)\n",
    "- [Structured Neurons](tutorial_6-multicompartment.ipynb)\n",
    "  - [Imports and Calibration](tutorial_6-multicompartment.ipynb#imports-and-calibration)\n",
    "  - [Constructing a Compartment Chain](tutorial_6-multicompartment.ipynb#constructing-a-compartment-chain)\n",
    "  - [External Input and Experiment Definition](tutorial_6-multicompartment.ipynb#external-input-and-experiment-definition)\n",
    "  - [Performing the Experiment](tutorial_6-multicompartment.ipynb#performing-the-experiment)\n",
    "- [Train DNNs on BrainScaleS-2](tutorial_7-yin_yang_itl.ipynb)\n",
    "  - [Hardware in the loop](tutorial_7-yin_yang_itl.ipynb#hardware-in-the-loop)\n",
    "  - [Simulating hardware: The mock mode](tutorial_7-yin_yang_itl.ipynb#simulating-hardware-the-mock-mode)\n",
    "  - [Example application: the Yin-Yang dataset](tutorial_7-yin_yang_itl.ipynb#example-application-the-yin-yang-dataset)\n",
    "- [Exploring the dynamic range](tutorial_8-dynamic_range.ipynb)\n",
    "  - [Define network in PyNN](tutorial_8-dynamic_range.ipynb#define-network-in-pynn)\n",
    "- [Introduction to the non-interactive queue runner](tutorial_9-non-interactive_queue_runner.ipynb)\n",
    "  - [First Experiment](tutorial_9-non-interactive_queue_runner.ipynb#first-experiment)\n",
    "  - [Second Experiment](tutorial_9-non-interactive_queue_runner.ipynb#second-experiment)\n",
    "  - [Third Experiment: Fixed-pattern noise](tutorial_9-non-interactive_queue_runner.ipynb#third-experiment-fixed-pattern-noise)\n",
    "  - [Fourth Experiment: External stimulation](tutorial_9-non-interactive_queue_runner.ipynb#fourth-experiment-external-stimulation)\n",
    "- [Training an SNN on BrainScaleS-2 with PyTorch](tutorial_10-spiking_yiny_yang_itl.ipynb)\n",
    "  - [References and further reading](tutorial_10-spiking_yiny_yang_itl.ipynb#references-and-further-reading)"
   ]
  },
  {
   "cell_type": "markdown",
   "id": "0357674d",
   "metadata": {},
   "source": [
    "# Girls' Day\n",
    "\n",
    "- [Wie verarbeitet unser Gehirn Informationen?](girlsday_01_biological_background.ipynb)\n",
    "- [Unsere neuromorphe Hardware](girlsday_02_neuromorphic_hardware.ipynb)\n",
    "- [Wie können wir mit den künstlichen Nervenzellen kommunizieren?](girlsday_03_pynn_introduction.ipynb)\n",
    "- [Experimente mit einer einzelnen Nervenzelle](girlsday_04_single_neuron.ipynb)\n",
    "- [Experimente mit mehreren Nervenzellen Teil 1](girlsday_05-1_multiple_neurons_feuerkette.ipynb)\n",
    "- [Experimente mit mehreren Nervenzellen Teil 2](girlsday_05-2_multiple_neurons_sudoku.ipynb)\n",
    "- [Maschinelles Lernen](girlsday_06_machine_learning.ipynb)\n",
    "- [Neuronenverbindungen - Synapsen](wolke7_networks.ipynb)\n",
    "- [Synapsennetzwerke](wolke7_networks.ipynb#synapsennetzwerke)"
   ]
  },
  {
   "cell_type": "markdown",
   "id": "73f439f1",
   "metadata": {},
   "source": [
    "# Advanced Physics Lab for Physicists\n",
    "\n",
    "- [Welcome to the Advanced Physics Lab for Physicists by the Electronic Vision(s) Group](fp_0-welcome.ipynb)\n",
    "- [Introduction to PyNN](fp_pynn_introduction.ipynb)\n",
    "- [Binary operations using spiking neurons](fp_binary_operations.ipynb)\n",
    "- [Sudoku](fp_sudoku.ipynb)"
   ]
  }
 ],
 "metadata": {
  "date": 1679561230.9449918,
  "filename": "index.rst",
  "kernelspec": {
   "display_name": "Python",
   "language": "python3",
   "name": "python3"
  },
  "title": "Welcome to the BrainScaleS-2 Demos & Examples!"
 },
 "nbformat": 4,
 "nbformat_minor": 5
}