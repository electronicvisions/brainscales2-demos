{
 "cells": [
  {
   "cell_type": "markdown",
   "id": "4f27bf5a",
   "metadata": {},
   "source": [
    "# Welcome to the BrainScaleS-2 Demos & Examples!\n",
    "\n",
    "- [Demos and Examples](tutorial.ipynb)\n",
    "- [Wie verarbeitet unser Gehirn Informationen?](girlsday.ipynb)\n",
    "- [Welcome to the Advanced Physics Lab for Physicists by the Electronic Vision(s) Group](fortgeschrittenen_praktikum.ipynb)"
   ]
  }
 ],
 "metadata": {
  "date": 1760633808.1033762,
  "filename": "index.rst",
  "kernelspec": {
   "display_name": "EBRAINS-experimental",
   "language": "python",
   "name": "ebrains-experimental"
  },
  "title": "Welcome to the BrainScaleS-2 Demos & Examples!"
 },
 "nbformat": 4,
 "nbformat_minor": 5
}