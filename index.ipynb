{
 "cells": [
  {
   "cell_type": "markdown",
   "id": "d724caf9",
   "metadata": {},
   "source": [
    "# Welcome to the BrainScaleS-2 Demos & Examples!\n",
    "\n",
    "- [Demos and Examples](tutorial.ipynb)\n",
    "- [Wie verarbeitet unser Gehirn Informationen?](girlsday.ipynb)\n",
    "- [Welcome to the Advanced Physics Lab for Physicists by the Electronic Vision(s) Group](fortgeschrittenen_praktikum.ipynb)"
   ]
  }
 ],
 "metadata": {
  "date": 1725359030.5349343,
  "filename": "index.rst",
  "kernelspec": {
   "display_name": "EBRAINS-experimental",
   "language": "python",
   "name": "ebrains-experimental"
  },
  "title": "Welcome to the BrainScaleS-2 Demos & Examples!"
 },
 "nbformat": 4,
 "nbformat_minor": 5
}