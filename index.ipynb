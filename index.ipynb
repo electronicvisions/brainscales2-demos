{
 "cells": [
  {
   "cell_type": "markdown",
   "id": "9248a416",
   "metadata": {},
   "source": [
    "# Welcome to the BrainScaleS-2 Demos & Examples!\n",
    "\n",
    "- [Demos and Examples](tutorial.ipynb)\n",
    "- [Wie verarbeitet unser Gehirn Informationen?](girlsday.ipynb)\n",
    "- [Welcome to the Advanced Physics Lab for Physicists by the Electronic Vision(s) Group](fortgeschrittenen_praktikum.ipynb)"
   ]
  }
 ],
 "metadata": {
  "date": 1734550620.8185425,
  "filename": "index.rst",
  "kernelspec": {
   "display_name": "Python",
   "language": "python3",
   "name": "python3"
  },
  "title": "Welcome to the BrainScaleS-2 Demos & Examples!"
 },
 "nbformat": 4,
 "nbformat_minor": 5
}