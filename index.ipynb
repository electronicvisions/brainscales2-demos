{
 "cells": [
  {
   "cell_type": "markdown",
   "id": "ae23327e",
   "metadata": {},
   "source": [
    "# Welcome to the BrainScaleS-2 Demos & Examples!\n",
    "\n",
    "- [Demos and Examples](tutorial.ipynb)\n",
    "- [Wie verarbeitet unser Gehirn Informationen?](girlsday.ipynb)\n",
    "- [Welcome to the Advanced Physics Lab for Physicists by the Electronic Vision(s) Group](fortgeschrittenen_praktikum.ipynb)"
   ]
  }
 ],
 "metadata": {
  "date": 1752846839.3806257,
  "filename": "index.rst",
  "kernelspec": {
   "display_name": "EBRAINS-experimental",
   "language": "python",
   "name": "ebrains-experimental"
  },
  "title": "Welcome to the BrainScaleS-2 Demos & Examples!"
 },
 "nbformat": 4,
 "nbformat_minor": 5
}