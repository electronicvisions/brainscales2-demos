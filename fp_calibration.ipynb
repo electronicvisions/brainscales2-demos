{
 "cells": [
  {
   "cell_type": "markdown",
   "id": "9bc8141f",
   "metadata": {},
   "source": [
    "# Calibration: Characterising and Measuring Analog Behaviour\n",
    "\n",
    "The goal of the exercises assembled in this task is to familiarise yourself with how we characterise and measure the analog behaviour of the chip. At the end you will understand\n",
    "how to convert raw hardware measurements into physical units and how to relate digital calibration values to measured membrane traces."
   ]
  },
  {
   "cell_type": "markdown",
   "id": "37a77d2c",
   "metadata": {},
   "source": [
    "## Setup"
   ]
  },
  {
   "cell_type": "code",
   "execution_count": null,
   "id": "5b06a0a8",
   "metadata": {
    "hide-output": false
   },
   "outputs": [],
   "source": [
    "from _static.common.helpers import setup_hardware_client\n",
    "setup_hardware_client()"
   ]
  },
  {
   "cell_type": "markdown",
   "id": "86d939ef",
   "metadata": {},
   "source": [
    "## Characterizing the MADC\n",
    "\n",
    "Before we continue our investigations of analog neurons, we need to characterize the readout chain used for the neurons’ signals. Since HICANN-X has digital communication interfaces, the analog voltage recordings of a neuron need to be digitized on chip.\n",
    "\n",
    "Characterizing the analog-to-digital-converter (ADC) means applying a known voltage externally and recording the value returned by the ADC. Later, we will reverse this relation in order to convert measured data back to SI units.\n",
    "\n",
    "In the following, we define a function which applies an external voltage and returns samples from the MADC. Your task is to sweep the external voltage and analyze the returned reads. Plot the characteristic and perform a linear fit to a suitable range. You will use the parameters of your fit in the following notebooks."
   ]
  },
  {
   "cell_type": "markdown",
   "id": "96ef2ec0",
   "metadata": {},
   "source": [
    "### Low Level Hardware Access\n",
    "\n",
    "You will not need to make changes to the function imported in the next cell. If you are curious how it is implemented you can take a [look at it](_static/common/measure_voltage.py)."
   ]
  },
  {
   "cell_type": "code",
   "execution_count": null,
   "id": "646507c2",
   "metadata": {
    "hide-output": false
   },
   "outputs": [],
   "source": [
    "from _static.common.measure_voltage import measure_voltage"
   ]
  },
  {
   "cell_type": "markdown",
   "id": "52b9afe4",
   "metadata": {},
   "source": [
    "We first test the function above by setting a medium voltage, say 0.5 V. Look at the printed samples and their data type - notice the sampled value is the first entry in each tuple, accessible by the named field “value”."
   ]
  },
  {
   "cell_type": "code",
   "execution_count": null,
   "id": "a0274912",
   "metadata": {
    "hide-output": false
   },
   "outputs": [],
   "source": [
    "from dlens_vx_v3 import hxcomm\n",
    "\n",
    "# since we're not using the PyNN frontend here, we need to define our own\n",
    "# connection to the hardware. It is available as a context manager:\n",
    "with hxcomm.ManagedConnection() as connection:\n",
    "    result = measure_voltage(connection, 0.5)\n",
    "print(result[:20])\n",
    "print(result.dtype)"
   ]
  },
  {
   "cell_type": "markdown",
   "id": "0b7e500f",
   "metadata": {},
   "source": [
    "### Exercises\n",
    "\n",
    "- Measure the sampled value for voltages between 0 and 1.2 V. We recommend steps of 0.05 V. For each data point, save a mean ADC value. Hint: Use something like `result[\"value\"]` for calculating your mean ADC values. Complete the cell below to do so:  \n",
    "\n",
    "\n",
    "Hint: You can use the measure_voltage function."
   ]
  },
  {
   "cell_type": "code",
   "execution_count": null,
   "id": "b29aaeee",
   "metadata": {
    "hide-output": false
   },
   "outputs": [],
   "source": [
    "import numpy as np\n",
    "\n",
    "# Measure characteristic\n",
    "voltages =  ... # volt\n",
    "results = np.zeros_like(voltages)  # mean ADC values in LSB\n",
    "errors = np.zeros_like(voltages)  # std deviation of ADC values in LSB\n",
    "\n",
    "with hxcomm.ManagedConnection() as connection:\n",
    "      for voltage_id, voltage in enumerate(voltages):\n",
    "        samples = ...\n",
    "        results[voltage_id] = ...\n",
    "        errors[voltage_id] = ...\n",
    "    ..."
   ]
  },
  {
   "cell_type": "markdown",
   "id": "1f07a1f5",
   "metadata": {},
   "source": [
    "- Plot the characteristic, i.e. plot the acquired value over the external voltage.  "
   ]
  },
  {
   "cell_type": "code",
   "execution_count": null,
   "id": "6305abcb",
   "metadata": {
    "hide-output": false
   },
   "outputs": [],
   "source": [
    "import matplotlib.pyplot as plt\n",
    "plt.figure(figsize=(12, 8))\n",
    "\n",
    "# TODO\n",
    "...\n",
    "\n",
    "plt.xlabel(\"Voltage [V]\")\n",
    "plt.ylabel(\"MADC value [LSB]\")"
   ]
  },
  {
   "cell_type": "markdown",
   "id": "4b2122cf",
   "metadata": {},
   "source": [
    "- Perform a linear fit in a suitable range (exclude possibly saturated values on top and bottom). Hint: In order to convert sample values to voltage later, you can use the results as “x data” and the voltages as “y data” for your fit function.  "
   ]
  },
  {
   "cell_type": "code",
   "execution_count": null,
   "id": "02d7ba3c",
   "metadata": {
    "hide-output": false
   },
   "outputs": [],
   "source": [
    "# fit linear function to data\n",
    "from scipy.optimize import curve_fit\n",
    "\n",
    "# TODO"
   ]
  },
  {
   "cell_type": "markdown",
   "id": "8356c6b3",
   "metadata": {},
   "source": [
    "- Plot your linear fit and save the plot.  \n",
    "- Save the fit parameters for later, so you can convert ADC values to Volt.  \n",
    "\n",
    "\n",
    "You can use the fit parameters you obtained to implement a madc value to voltage conversion routine like so:"
   ]
  },
  {
   "cell_type": "code",
   "execution_count": null,
   "id": "8ccacfe3",
   "metadata": {
    "hide-output": false
   },
   "outputs": [],
   "source": [
    "def madc_to_voltage_conversion(m, b):\n",
    "    def convert(value):\n",
    "        return m * value + b\n",
    "    return convert\n",
    "\n",
    "madc_to_v = madc_to_voltage_conversion(*popt)"
   ]
  },
  {
   "cell_type": "markdown",
   "id": "377fce99",
   "metadata": {},
   "source": [
    "## Characterizing Neuron Parameters\n",
    "\n",
    "We now move on to a characterisation of Neuron Parameters, the goal is to relate the\n",
    "parameter values, which are specified in arbitrary units to the MADC measurement values.\n",
    "That way you will establish a correspondence between the values you specify and the membrane\n",
    "measurement values send back to you by the chip.\n",
    "\n",
    "We begin by importing some commonly used calibration code\n",
    "\n",
    "A default calibration is generated for every setup every night.\n",
    "We save the nightly calibration in two variables such that we can use it later when we define our neuronal network."
   ]
  },
  {
   "cell_type": "code",
   "execution_count": null,
   "id": "c64f9d03",
   "metadata": {
    "hide-output": false
   },
   "outputs": [],
   "source": [
    "from _static.common.helpers import get_nightly_calibration\n",
    "calib = get_nightly_calibration()"
   ]
  },
  {
   "cell_type": "markdown",
   "id": "b693eff9",
   "metadata": {},
   "source": [
    "and define plotting functions"
   ]
  },
  {
   "cell_type": "code",
   "execution_count": null,
   "id": "71f2ebe9",
   "metadata": {
    "hide-output": false
   },
   "outputs": [],
   "source": [
    "import pynn_brainscales.brainscales2 as pynn\n",
    "\n",
    "from pynn_brainscales.brainscales2 import Population\n",
    "from pynn_brainscales.brainscales2.standardmodels.cells import SpikeSourceArray\n",
    "from pynn_brainscales.brainscales2.standardmodels.synapses import StaticSynapse\n",
    "\n",
    "%matplotlib inline\n",
    "\n",
    "import matplotlib.pyplot as plt\n",
    "import numpy as np\n",
    "import time\n",
    "\n",
    "plt.style.use(\"_static/matplotlibrc\")\n",
    "\n",
    "def plot_membrane_dynamics(population: Population, segment_id=-1, ylim=None):\n",
    "    \"\"\"\n",
    "    Plot the membrane potential of the neuron in a given population view. Only\n",
    "    population views of size 1 are supported.\n",
    "    :param population: Population, membrane traces and spikes are plotted for.\n",
    "    :param segment_id: Index of the neo segment to be plotted. Defaults to\n",
    "                       -1, encoding the last recorded segment.\n",
    "    :param ylim: y-axis limits for the plot.\n",
    "    \"\"\"\n",
    "    if len(population) != 1:\n",
    "        raise ValueError(\"Plotting is supported for populations of size 1.\")\n",
    "    # Experimental results are given in the 'neo' data format\n",
    "    mem_v = population.get_data(\"v\").segments[segment_id].irregularlysampledsignals[0]\n",
    "    spikes = population.get_data(\"spikes\").segments[-1].spiketrains[0]\n",
    "\n",
    "    plt.plot(mem_v.times, mem_v, alpha=0.5, color='black')\n",
    "\n",
    "    # indicate the spikes as red dots\n",
    "    plt.scatter(spikes, np.max(mem_v)*np.ones_like(spikes), color='red')\n",
    "    plt.xlabel(\"Wall clock time [ms]\")\n",
    "    plt.ylabel(\"ADC readout [a.u.]\")\n",
    "    if ylim:\n",
    "        plt.ylim(ylim)"
   ]
  },
  {
   "cell_type": "markdown",
   "id": "2db120ff",
   "metadata": {},
   "source": [
    "The following experiment code let’s you interactively explore the measurement we are about to perform:"
   ]
  },
  {
   "cell_type": "code",
   "execution_count": null,
   "id": "83485966",
   "metadata": {
    "hide-output": false
   },
   "outputs": [],
   "source": [
    "from ipywidgets import interact, IntSlider\n",
    "from functools import partial\n",
    "IntSlider = partial(IntSlider, continuous_update=False)\n",
    "\n",
    "@interact(\n",
    "    neuron_idx=IntSlider(min=0, max=511, step=1, value=0),\n",
    "    v_leak=IntSlider(min=0, max=1022, step=1, value=1000),\n",
    "    v_threshold=IntSlider(min=0, max=500, step=1, value=500),\n",
    "    v_reset=IntSlider(min=0, max=1022, step=1, value=400),\n",
    "    i_bias_leak=IntSlider(min=0, max=1022, step=1, value=150),\n",
    ")\n",
    "def experiment(neuron_idx, v_leak, v_threshold, v_reset, i_bias_leak):\n",
    "    \"\"\"\n",
    "    Set up a leak over threshold neuron.\n",
    "\n",
    "    :param v_leak: Leak potential.\n",
    "    :param v_threshold: Spike threshold potential.\n",
    "    :param v_reset: Reset potential.\n",
    "    :param i_bias_leak: Controls the leak conductance (membrane time constant).\n",
    "    :param savefig: Save the experiment figure.\n",
    "    \"\"\"\n",
    "\n",
    "    plt.figure()\n",
    "\n",
    "    # everything between pynn.setup() and pynn.end()\n",
    "    # below is part of one hardware run.\n",
    "    pynn.setup(initial_config=calib, neuronPermutation=[neuron_idx])\n",
    "\n",
    "    # a pynn.Population corresponds to a certain number of\n",
    "    # neuron circuits on the chip\n",
    "    pop = pynn.Population(1, pynn.cells.HXNeuron(\n",
    "        # Leak potential, range: 400-1000\n",
    "        leak_v_leak=v_leak,\n",
    "        # Leak conductance, range: 0-1022\n",
    "        leak_i_bias=i_bias_leak,\n",
    "        # Threshold potential, range: 0-500\n",
    "        threshold_v_threshold=v_threshold,\n",
    "        # Reset potential, range: 300-1000\n",
    "        reset_v_reset=v_reset,\n",
    "        # Membrane capacitance, range: 0-63\n",
    "        membrane_capacitance_capacitance=63,\n",
    "        # Refractory time (counter), range: 0-255\n",
    "        refractory_period_refractory_time=255,\n",
    "        # Enable reset on threshold crossing\n",
    "        threshold_enable=True,\n",
    "        # Reset conductance, range: 0-1022\n",
    "        reset_i_bias=1022,\n",
    "        # Increase reset conductance\n",
    "        reset_enable_multiplication=True))\n",
    "\n",
    "    pop.record([\"v\", \"spikes\"])\n",
    "\n",
    "    # this triggers a hardware execution\n",
    "    # with a duration of 0.2 ms\n",
    "    pynn.run(0.2)\n",
    "    plot_membrane_dynamics(pop, ylim=(100, 800))\n",
    "    plt.show()\n",
    "\n",
    "    mem = pop.get_data(\"v\").segments[-1].irregularlysampledsignals[0]\n",
    "    spikes = pop.get_data(\"spikes\").segments[-1].spiketrains[0]\n",
    "    pynn.end()\n",
    "\n",
    "    return mem, spikes"
   ]
  },
  {
   "cell_type": "markdown",
   "id": "7e34206a",
   "metadata": {},
   "source": [
    "We now define a function which returns the measured membrane voltage trace for a given set of parameters"
   ]
  },
  {
   "cell_type": "code",
   "execution_count": null,
   "id": "29a6a0cb",
   "metadata": {
    "hide-output": false
   },
   "outputs": [],
   "source": [
    "def get_v_mem(neuron_params: dict, neuron_idx: int) -> np.ndarray:\n",
    "    pynn.setup(initial_config=calib, neuronPermutation=[neuron_idx])\n",
    "    pop = pynn.Population(1, pynn.cells.HXNeuron(**neuron_params))\n",
    "    pop.record([\"v\"])\n",
    "    pynn.run(0.2)\n",
    "    mem_v = pop.get_data(\"v\").segments[0].irregularlysampledsignals[0]\n",
    "    pynn.end()\n",
    "    return mem_v.base"
   ]
  },
  {
   "cell_type": "markdown",
   "id": "6a5ba292",
   "metadata": {},
   "source": [
    "We want to perform this experiment over potentially a larger number of neurons\n",
    "and for specific neuron ranges"
   ]
  },
  {
   "cell_type": "code",
   "execution_count": null,
   "id": "6ce5dc52",
   "metadata": {
    "hide-output": false
   },
   "outputs": [],
   "source": [
    "def get_data(number_of_neurons, sweep_range, sweep_neuron_param,\n",
    "             filter_function, neuron_params):\n",
    "\n",
    "    y_measured = np.zeros(shape=(number_of_neurons, len(sweep_range)))\n",
    "    for neuron_idx in range(number_of_neurons):\n",
    "        y_measured_local = []\n",
    "        for dac_idx, dac_value in enumerate(sweep_range):\n",
    "            neuron_params.update({sweep_neuron_param: dac_value})\n",
    "            membrane = get_v_mem(neuron_params, neuron_idx)\n",
    "            print(f\"Measuring neuron {neuron_idx} for \"\n",
    "                  f\"{sweep_neuron_param} with value: {dac_value}\")\n",
    "            y_measured_local.append(filter_function(membrane.magnitude))\n",
    "            y_measured[neuron_idx][dac_idx] = filter_function(membrane.magnitude)\n",
    "\n",
    "    return y_measured"
   ]
  },
  {
   "cell_type": "markdown",
   "id": "a66843f8",
   "metadata": {},
   "source": [
    "This defines the main function for the parameter sweep"
   ]
  },
  {
   "cell_type": "code",
   "execution_count": null,
   "id": "b44b4787",
   "metadata": {
    "hide-output": false
   },
   "outputs": [],
   "source": [
    "def main(number_of_neurons, sweep_range, param_to_be_determined):\n",
    "    if param_to_be_determined == \"threshold\":\n",
    "        neuron_params = {\"leak_v_leak\": 1022,\n",
    "                         \"reset_v_reset\": 50}\n",
    "        sweep_neuron_param = \"threshold_v_threshold\"\n",
    "        filter_function = np.max\n",
    "\n",
    "    if param_to_be_determined == \"reset\":\n",
    "        neuron_params = {\"threshold_v_threshold\": 150,\n",
    "                         \"leak_v_leak\": 1022}\n",
    "        sweep_neuron_param = \"reset_v_reset\"\n",
    "        filter_function = np.min\n",
    "\n",
    "    if param_to_be_determined == \"leak\":\n",
    "        neuron_params = {\"threshold_v_threshold\": 1022,\n",
    "                         \"reset_v_reset\": 50}\n",
    "        sweep_neuron_param = \"leak_v_leak\"\n",
    "        filter_function = np.mean\n",
    "\n",
    "    y_measured = get_data(number_of_neurons, sweep_range, sweep_neuron_param,\n",
    "             filter_function, neuron_params)\n",
    "\n",
    "    #\n",
    "    measured_mean = np.mean(y_measured, axis=0)\n",
    "    measured_err = np.std(y_measured, axis=0)\n",
    "    return sweep_range, y_measured, measured_mean, measured_err\n",
    "\n",
    "def plot_and_fit(ax, data, label):\n",
    "    sweep_range, y_measured, measured_mean, measured_err = data\n",
    "\n",
    "    number_of_neurons = y_measured.shape[0]\n",
    "\n",
    "    ax.set_xlabel(f\"set $V_{{{label}}}$ [DAC value]\")\n",
    "    ax.set_ylabel(f\"measured $V_{{{label}}}$ [ADC value]\")\n",
    "    for k in range(number_of_neurons):\n",
    "        ax.plot(sweep_range, y_measured[k], '-',\n",
    "                 color='darkgray', linewidth=0.25, zorder=-1)\n",
    "\n",
    "    ax.errorbar(sweep_range, measured_mean, yerr=measured_err,\n",
    "                 color='red', linestyle='-', marker='None', zorder=0)\n",
    "\n",
    "    linear_fit = np.polyfit(sweep_range, measured_mean, 1)\n",
    "    ax.plot(sweep_range, linear_fit[0] * sweep_range + linear_fit[1],\n",
    "             'b--', zorder=1)\n",
    "\n",
    "    return linear_fit"
   ]
  },
  {
   "cell_type": "markdown",
   "id": "2c6dcd33",
   "metadata": {},
   "source": [
    "The general idea is to modify the sweep range to find a suitable range for the fit\n",
    "for respective parameters. Start with full range and narrow down."
   ]
  },
  {
   "cell_type": "code",
   "execution_count": null,
   "id": "af453dec",
   "metadata": {
    "hide-output": false
   },
   "outputs": [],
   "source": [
    "# for how many neurons should an average characterisation be done\n",
    "num_neurons = 1\n",
    "\n",
    "# valid range [0, 1022]\n",
    "adc_sweep_range = np.arange(0, 1022, 50)\n",
    "\n",
    "# parameter to be determined, valid \"threshold\", \"reset\" or \"leak\"\n",
    "adc_sweep_range = np.arange(50, 301, 50)\n",
    "param_name = \"threshold\"\n",
    "threshold_data = main(num_neurons, adc_sweep_range, param_name)\n",
    "\n",
    "adc_sweep_range = np.arange(500, 901, 100)\n",
    "param_name = \"leak\"\n",
    "leak_data = main(num_neurons, adc_sweep_range, param_name)\n",
    "\n",
    "adc_sweep_range = np.arange(400, 901, 100)\n",
    "param_name = \"reset\"\n",
    "reset_data = main(num_neurons, adc_sweep_range, param_name)"
   ]
  },
  {
   "cell_type": "markdown",
   "id": "24b96404",
   "metadata": {},
   "source": [
    "### Excercises"
   ]
  },
  {
   "cell_type": "code",
   "execution_count": null,
   "id": "57cd2c14",
   "metadata": {
    "hide-output": false
   },
   "outputs": [],
   "source": [
    "fig, ax = plt.subplots(1,3, sharey=True)\n",
    "\n",
    "v_th_fit = plot_and_fit(ax[0], threshold_data, \"th\")\n",
    "v_leak_fit = plot_and_fit(ax[1], leak_data, \"leak\")\n",
    "v_reset_fit = plot_and_fit(ax[2], reset_data, \"reset\")"
   ]
  },
  {
   "cell_type": "code",
   "execution_count": null,
   "id": "bc93f430",
   "metadata": {
    "hide-output": false
   },
   "outputs": [],
   "source": [
    "def linear(param):\n",
    "    def fun(x):\n",
    "        return param[0] * x + param[1]\n",
    "\n",
    "    def inverse(x):\n",
    "        return (x - param[1]) / param[0]\n",
    "\n",
    "    return fun, inverse\n",
    "\n",
    "v_th_s2m, v_th_m2s = linear(v_th_fit)\n",
    "v_leak_s2m, v_leak_m2s = linear(v_leak_fit)\n",
    "v_reset_s2m, v_reset_m2s = linear(v_reset_fit)"
   ]
  },
  {
   "cell_type": "code",
   "execution_count": null,
   "id": "6121cc42",
   "metadata": {
    "hide-output": false
   },
   "outputs": [],
   "source": [
    "@interact(\n",
    "    neuron_idx=IntSlider(min=0, max=511, step=1, value=0),\n",
    "    v_leak=IntSlider(min=v_leak_s2m(0), max=v_leak_s2m(1022), step=1, value=v_leak_s2m(1000)),\n",
    "    v_threshold=IntSlider(min=v_leak_s2m(0), max=v_th_s2m(500), step=1, value=v_th_s2m(500)),\n",
    "    v_reset=IntSlider(min=v_reset_s2m(0), max=v_reset_s2m(1022), step=1, value=v_reset_s2m(400)),\n",
    "    i_bias_leak=IntSlider(min=0, max=1022, step=1, value=150),\n",
    ")\n",
    "def experiment(neuron_idx, v_leak, v_threshold, v_reset, i_bias_leak):\n",
    "    \"\"\"\n",
    "    Set up a leak over threshold neuron.\n",
    "\n",
    "    :param v_leak: Leak potential.\n",
    "    :param v_threshold: Spike threshold potential.\n",
    "    :param v_reset: Reset potential.\n",
    "    :param i_bias_leak: Controls the leak conductance (membrane time constant).\n",
    "    :param savefig: Save the experiment figure.\n",
    "    \"\"\"\n",
    "\n",
    "    v_leak = v_leak_m2s(v_leak)\n",
    "    v_threshold = v_th_m2s(v_threshold)\n",
    "    v_reset = v_reset_m2s(v_reset)\n",
    "\n",
    "    plt.figure()\n",
    "\n",
    "    # everything between pynn.setup() and pynn.end()\n",
    "    # below is part of one hardware run.\n",
    "    pynn.setup(initial_config=calib, neuronPermutation=[neuron_idx])\n",
    "\n",
    "    # a pynn.Population corresponds to a certain number of\n",
    "    # neuron circuits on the chip\n",
    "    pop = pynn.Population(1, pynn.cells.HXNeuron(\n",
    "        # Leak potential, range: 400-1000\n",
    "        leak_v_leak=v_leak,\n",
    "        # Leak conductance, range: 0-1022\n",
    "        leak_i_bias=i_bias_leak,\n",
    "        # Threshold potential, range: 0-500\n",
    "        threshold_v_threshold=v_threshold,\n",
    "        # Reset potential, range: 300-1000\n",
    "        reset_v_reset=v_reset,\n",
    "        # Membrane capacitance, range: 0-63\n",
    "        membrane_capacitance_capacitance=63,\n",
    "        # Refractory time (counter), range: 0-255\n",
    "        refractory_period_refractory_time=255,\n",
    "        # Enable reset on threshold crossing\n",
    "        threshold_enable=True,\n",
    "        # Reset conductance, range: 0-1022\n",
    "        reset_i_bias=1022,\n",
    "        # Increase reset conductance\n",
    "        reset_enable_multiplication=True))\n",
    "\n",
    "    pop.record([\"v\", \"spikes\"])\n",
    "\n",
    "    # this triggers a hardware execution\n",
    "    # with a duration of 0.2 ms\n",
    "    pynn.run(0.2)\n",
    "    plot_membrane_dynamics(pop, ylim=(100, 800))\n",
    "    plt.axhline(v_th_s2m(v_threshold))\n",
    "    plt.axhline(v_reset_s2m(v_reset))\n",
    "    plt.axhline(v_leak_s2m(v_leak), color='green')\n",
    "\n",
    "    plt.show()\n",
    "\n",
    "    mem = pop.get_data(\"v\").segments[-1].irregularlysampledsignals[0]\n",
    "    spikes = pop.get_data(\"spikes\").segments[-1].spiketrains[0]\n",
    "    pynn.end()\n",
    "\n",
    "    return mem, spikes"
   ]
  },
  {
   "cell_type": "markdown",
   "id": "c9b4d3b3",
   "metadata": {},
   "source": [
    "## Calibrating Neuron Parameters"
   ]
  },
  {
   "cell_type": "code",
   "execution_count": null,
   "id": "eb0f18bf",
   "metadata": {
    "hide-output": false
   },
   "outputs": [],
   "source": [
    "def membrane2dac(voltage, slope, offset):\n",
    "    return int((voltage - offset) / slope)\n",
    "\n",
    "\n",
    "# set voltages\n",
    "# threshold must be according to:\n",
    "v_leak = 350\n",
    "v_reset = 200\n",
    "v_th = v_leak - (v_leak - v_reset) / np.exp(1)\n",
    "\n",
    "# enter your fit results from task a) into the membrane2dac calls\n",
    "neuron_params = {\"leak_i_bias\": 400,\n",
    "                 \"reset_i_bias\": 1022,\n",
    "                 \"leak_enable_division\": True,\n",
    "                 \"threshold_enable\": True,\n",
    "                 \"reset_enable_multiplication\": True,\n",
    "                 \"membrane_capacitance_capacitance\": 63,\n",
    "                 \"refractory_period_refractory_time\": 150,\n",
    "                 \"leak_v_leak\": membrane2dac(v_leak, 0.79, -180),\n",
    "                 \"reset_v_reset\": membrane2dac(v_reset, 0.88, -250),\n",
    "                 \"threshold_v_threshold\": membrane2dac(v_th, 0.99, 60)\n",
    "                 }\n",
    "\n",
    "# the leak conductance g_leak is set by I_bias\n",
    "# each entry refers to a different neuron\n",
    "# must be adjusted for identical firing rates!\n",
    "I_bias = [400, 400, 400, 400]\n",
    "assert len(I_bias) > 3, \"You need to look at least on 4 neurons.\""
   ]
  },
  {
   "cell_type": "markdown",
   "id": "65435808",
   "metadata": {},
   "source": [
    "Gather spikes an membrane trace for different neurons"
   ]
  },
  {
   "cell_type": "code",
   "execution_count": null,
   "id": "08388ab5",
   "metadata": {
    "hide-output": false
   },
   "outputs": [],
   "source": [
    "# as we can only readout the membrane of one neuron at a time we need to\n",
    "# repeat the measurement for each neuron\n",
    "\n",
    "result = []\n",
    "for nrnidx, bias in enumerate(I_bias):\n",
    "    pynn.setup()\n",
    "\n",
    "    pop = pynn.Population(len(I_bias),\n",
    "                          pynn.cells.HXNeuron(**neuron_params))\n",
    "    pop.set(leak_i_bias=bias)\n",
    "\n",
    "    # a population view is a subset of a population\n",
    "    p_view = pynn.PopulationView(pop, [nrnidx])\n",
    "    p_view.record([\"v\", \"spikes\"])\n",
    "\n",
    "    pynn.run(2)\n",
    "    spikes = p_view.get_data(\"spikes\").segments[0].spiketrains[0]\n",
    "\n",
    "    # # FIXME spike readout fails some times\n",
    "    # if len(spikes) <= 1:\n",
    "    #     raise RuntimeError(\"not enough spikes recorded\")\n",
    "\n",
    "    mem_v = p_view.get_data(\"v\").segments[0].irregularlysampledsignals[0]\n",
    "\n",
    "    pynn.end()\n",
    "\n",
    "    result.append((spikes, mem_v))"
   ]
  },
  {
   "cell_type": "markdown",
   "id": "9aac59f3",
   "metadata": {},
   "source": [
    "Analyse and plot neuron output"
   ]
  },
  {
   "cell_type": "code",
   "execution_count": null,
   "id": "2c18b1b1",
   "metadata": {
    "hide-output": false
   },
   "outputs": [],
   "source": [
    "membrane = []\n",
    "spikes = []\n",
    "isi = []\n",
    "\n",
    "for nrnidx, (spike, v) in enumerate(result):\n",
    "    spikes.append(spike)\n",
    "    membrane.append(v)\n",
    "    isi.append(np.diff(spikes[nrnidx]))\n",
    "\n",
    "num_plots = len(I_bias)\n",
    "# -> play around with figsize to modify plot resolution\n",
    "_, axes = plt.subplots(\n",
    "    num_plots, 1, sharex=True, sharey=True, figsize=(8, 5))\n",
    "axes = axes.flatten()\n",
    "\n",
    "for nrnidx in range(num_plots):\n",
    "    max_v = np.max(membrane[nrnidx])\n",
    "    print(f'neuron {nrnidx}')\n",
    "    print(f\"max. membrane potential: {max_v:.3f} V\")\n",
    "    print(f\"firing rate: {np.mean(1 / isi[nrnidx]):.4} \"\n",
    "            f\"+- {np.std(1 / isi[nrnidx]):.2f} MHz\")\n",
    "\n",
    "    axes[nrnidx].plot(membrane[nrnidx].times, membrane[nrnidx])\n",
    "    axes[nrnidx].plot(\n",
    "        spikes[nrnidx],\n",
    "        [max_v for i in range(len(spikes[nrnidx]))],\n",
    "        '.', color='red')\n",
    "\n",
    "axes[0].set_xlim(0, 0.2)\n",
    "axes[2].set_ylabel(\"V [V]\", fontsize=12)\n",
    "axes[-1].set_xlabel(\"t [ms]\", fontsize=12)\n",
    "\n",
    "figname = f'fp_task2b_4membranes_{time.strftime(\"%Y%m%d-%H%M%S\")}.png'\n",
    "plt.savefig(figname)\n",
    "print(f\"plot saved {figname}\")"
   ]
  },
  {
   "cell_type": "markdown",
   "id": "f3c752f8",
   "metadata": {},
   "source": [
    "## Calibrating Membrane Time Constant\n",
    "\n",
    "In this optional task you create a calibration routine to calibrate the leak potential of all neurons.\n",
    "\n",
    "> "
   ]
  },
  {
   "cell_type": "code",
   "execution_count": null,
   "id": "0078fa80",
   "metadata": {
    "hide-output": false
   },
   "outputs": [],
   "source": [
    "def membrane2dac(voltage, slope, offset):\n",
    "    return int((voltage - offset) / slope)\n",
    "\n",
    "\n",
    "# set voltages in volt\n",
    "# threshold must be according to:\n",
    "v_leak = 350\n",
    "v_reset = 200\n",
    "v_th = v_leak - (v_leak - v_reset) / np.exp(1)\n",
    "\n",
    "# enter your fit results from task a) into the voltage2dac calls\n",
    "neuron_params = {\"leak_i_bias\": 400,\n",
    "                 \"reset_i_bias\": 38,\n",
    "                 \"leak_enable_division\": True,  # set False for freq > 40\n",
    "                 \"threshold_enable\": True,\n",
    "                 \"reset_enable_multiplication\": True,\n",
    "                 \"membrane_capacitance_capacitance\": 63,\n",
    "                 \"refractory_period_refractory_time\": 150,\n",
    "                 \"leak_v_leak\": membrane2dac(v_leak, 0.79, -180),\n",
    "                 \"reset_v_reset\": membrane2dac(v_reset, 0.88, -250),\n",
    "                 \"threshold_v_threshold\": membrane2dac(v_th, 0.99, 60)\n",
    "                }\n",
    "\n",
    "targetrate = 30.0  # in kHz\n",
    "\n",
    "# strength of calibration\n",
    "# choose value between 0 and 1\n",
    "calib_param = 0.7"
   ]
  },
  {
   "cell_type": "code",
   "execution_count": null,
   "id": "479a1e75",
   "metadata": {
    "hide-output": false
   },
   "outputs": [],
   "source": [
    "def get_data(i_bias, iteration):\n",
    "    rates = []\n",
    "    gleaks = []\n",
    "\n",
    "    # capacitance from DAC value (63 equals 2.2pF)\n",
    "    c_m = 2.2 * 10e-12 * neuron_params[\"membrane_capacitance_capacitance\"] / 63\n",
    "\n",
    "    # tau_ref from DAC value with f_clock = 10MHz\n",
    "    tau_ref = neuron_params[\"refractory_period_refractory_time\"] / (10e6) * 1e3\n",
    "\n",
    "    pynn.setup()\n",
    "\n",
    "    pop = pynn.Population(len(i_bias), pynn.cells.HXNeuron(**neuron_params))\n",
    "    pop.set(leak_i_bias=i_bias)\n",
    "    pop.record([\"spikes\"])\n",
    "\n",
    "    pynn.run(2)\n",
    "    all_spikes = pop.get_data(\"spikes\").segments[0].spiketrains\n",
    "\n",
    "    pynn.end()\n",
    "\n",
    "    for nrnidx, spikes in enumerate(all_spikes):\n",
    "        # if not enough spikes are recorded, the neuron is skipped\n",
    "        if len(spikes) <= 1:\n",
    "            rates.append(-1)\n",
    "            gleaks.append(-1)\n",
    "\n",
    "            print(\"not enough spikes recorded for neuron \", nrnidx)\n",
    "        else:\n",
    "            # calculate the firing rate from the spike array\n",
    "            isi = np.array(np.diff(spikes))\n",
    "            rates.append(1 / np.mean(isi))\n",
    "\n",
    "            # calculate gleak from the interspike interval\n",
    "            tau_m = np.mean(isi) - tau_ref\n",
    "            gleaks.append(c_m / tau_m)\n",
    "\n",
    "            # print(f\"data obtained for neuron {nrnidx}\")\n",
    "\n",
    "    print(f\"The average firing rate is {np.mean(rates):.4} \"\n",
    "          f\"+- {np.std(rates):.3} kHz\")\n",
    "    print(f\"The average leak conductance is {np.mean(gleaks):.4} \"\n",
    "          f\"+- {np.std(gleaks):.3} S\")\n",
    "\n",
    "    # save results for plotting\n",
    "    np.savetxt(f\"fp_task2c_rates_iteration{iteration}.txt\", rates)\n",
    "    np.savetxt(f\"fp_task2c_gleaks_iteration{iteration}.txt\", gleaks)"
   ]
  },
  {
   "cell_type": "code",
   "execution_count": null,
   "id": "a1dc506e",
   "metadata": {
    "hide-output": false
   },
   "outputs": [],
   "source": [
    "def calibrate_neurons(i_bias, num_iterations):\n",
    "\n",
    "    for iteration in range(num_iterations):\n",
    "        get_data(i_bias, iteration)\n",
    "        rates = np.loadtxt(f\"fp_task2c_rates_iteration{iteration}.txt\")\n",
    "        for nrnidx, _ in enumerate(i_bias):\n",
    "            if rates[nrnidx] != -1:\n",
    "                # TODO: Check code here\n",
    "                scaling = (calib_param * (targetrate / rates[nrnidx] - 1) + 1)\n",
    "                i_bias[nrnidx] = int(scaling * i_bias[nrnidx])\n",
    "                if i_bias[nrnidx] > 1022:\n",
    "                    print(f\"Reached max i_bias for neuron {nrnidx}\")\n",
    "                    i_bias[nrnidx] = 1022\n",
    "                if i_bias[nrnidx] < 0:\n",
    "                    print(f\"Reached min i_bias for neuron {nrnidx}\")\n",
    "                    i_bias[nrnidx] = 0"
   ]
  },
  {
   "cell_type": "markdown",
   "id": "c1cd2670",
   "metadata": {},
   "source": [
    "Definition of visualization"
   ]
  },
  {
   "cell_type": "code",
   "execution_count": null,
   "id": "b74ae2df",
   "metadata": {
    "hide-output": false
   },
   "outputs": [],
   "source": [
    "def plot_histogram(num_iterations):\n",
    "    # read data and filter failed runs\n",
    "    rates_pre = np.loadtxt(\"fp_task2c_rates_iteration0.txt\")\n",
    "    rates_pre = rates_pre[rates_pre >= 0]\n",
    "    gleaks_pre = np.loadtxt(\"fp_task2c_gleaks_iteration0.txt\")\n",
    "    gleaks_pre = gleaks_pre[gleaks_pre >= 0]\n",
    "    rates_post = np.loadtxt(f\"fp_task2c_rates_iteration{num_iterations-1}.txt\")\n",
    "    rates_post = rates_post[rates_post >= 0]\n",
    "    gleaks_post = np.loadtxt(\n",
    "        f\"fp_task2c_gleaks_iteration{num_iterations-1}.txt\")\n",
    "    gleaks_post = gleaks_post[gleaks_post >= 0]\n",
    "    bins = min(len(rates_pre), 20)\n",
    "\n",
    "    # plot two histograms\n",
    "    fig = plt.figure()\n",
    "    ax_rate = fig.add_subplot(221)\n",
    "    ax_rate.set_title(\"Uncalibrated firing rates\")\n",
    "    ax_rate.set_xlabel(\"rates [kHz]\")\n",
    "    ax_rate.set_ylabel(\"number of neurons\")\n",
    "    ax_rate.hist(rates_pre, bins=bins)\n",
    "\n",
    "    ax_gleak = fig.add_subplot(222)\n",
    "    ax_gleak.set_title(\"Uncalibrated leak conductance\")\n",
    "    ax_gleak.set_xlabel(\"$g_{leak}$ [S]\")\n",
    "    ax_gleak.set_ylabel(\"number of neurons\")\n",
    "    ax_gleak.yaxis.tick_right()\n",
    "    ax_gleak.yaxis.set_label_position(\"right\")\n",
    "    ax_gleak.hist(gleaks_pre, bins=bins)\n",
    "\n",
    "    rates_range = [min(np.min(rates_pre), np.min(rates_post)),\n",
    "                   max(np.max(rates_pre), np.max(rates_post))]\n",
    "    ax_rate = fig.add_subplot(223, sharex=ax_rate)\n",
    "    ax_rate.set_title(\"Calibrated firing rates\")\n",
    "    ax_rate.set_xlabel(\"rates [kHz]\")\n",
    "    ax_rate.set_ylabel(\"number of neurons\")\n",
    "    ax_rate.hist(rates_post,\n",
    "                 bins=bins,\n",
    "                 range=rates_range)\n",
    "\n",
    "    gleak_ranges = [min(np.min(gleaks_pre, initial=0.),\n",
    "                        np.min(gleaks_post, initial=0.)),\n",
    "                    max(np.max(gleaks_pre, initial=0.),\n",
    "                        np.max(gleaks_post, initial=0.))]\n",
    "    ax_gleak = fig.add_subplot(224, sharex=ax_gleak)\n",
    "    ax_gleak.set_title(\"Calibrated leak conductance\")\n",
    "    ax_gleak.set_xlabel(\"$g_{leak}$ [S]\")\n",
    "    ax_gleak.set_ylabel(\"number of neurons\")\n",
    "    ax_gleak.yaxis.tick_right()\n",
    "    ax_gleak.yaxis.set_label_position(\"right\")\n",
    "    ax_gleak.hist(gleaks_post,\n",
    "                  bins=bins,\n",
    "                  range=gleak_ranges)\n",
    "\n",
    "    plt.subplots_adjust(left=0.1, right=0.9, bottom=0.1, top=0.9,\n",
    "                        wspace=0.2, hspace=0.5)\n",
    "    figname = f'fp_task2c_histo_{time.strftime(\"%Y%m%d-%H%M%S\")}.png'\n",
    "    plt.savefig(figname)\n",
    "\n",
    "    print(f\"plots saved {figname}\")"
   ]
  },
  {
   "cell_type": "markdown",
   "id": "3fac0eb1",
   "metadata": {},
   "source": [
    "Execution"
   ]
  },
  {
   "cell_type": "code",
   "execution_count": null,
   "id": "5210501b",
   "metadata": {
    "hide-output": false
   },
   "outputs": [],
   "source": [
    "# choose neurons you want to observe\n",
    "# the default is range(0,128)\n",
    "num_neurons = 100\n",
    "\n",
    "# number of iterations for calibration\n",
    "num_iterations = 20\n",
    "\n",
    "# the leak conductance g_leak is set by I_bias\n",
    "# will be adjusted for identical firing rates\n",
    "i_bias = [400] * num_neurons\n",
    "\n",
    "# calibrate neurons for same firing rate\n",
    "calibrate_neurons(i_bias, num_iterations)\n",
    "\n",
    "# plot histograms for uncalibrated and calibrated neurons\n",
    "plot_histogram(num_iterations)"
   ]
  },
  {
   "cell_type": "markdown",
   "id": "a982c10e",
   "metadata": {},
   "source": [
    "\n",
    "## Exercises\n",
    "\n",
    "- Please complete the missing code in the cells above  \n",
    "- Execute all cells, determine sensible parameter characterization ranges  \n",
    "- Document the results that you have obtained and the plots that you have created below  "
   ]
  },
  {
   "cell_type": "markdown",
   "id": "ff76ad20",
   "metadata": {},
   "source": [
    "## Solution\n",
    "\n",
    "Please insert your results here…"
   ]
  }
 ],
 "metadata": {
  "date": 1740990467.7543283,
  "filename": "fp_calibration.rst",
  "kernelspec": {
   "display_name": "EBRAINS-experimental",
   "language": "python",
   "name": "ebrains-experimental"
  },
  "title": "Calibration: Characterising and Measuring Analog Behaviour"
 },
 "nbformat": 4,
 "nbformat_minor": 5
}