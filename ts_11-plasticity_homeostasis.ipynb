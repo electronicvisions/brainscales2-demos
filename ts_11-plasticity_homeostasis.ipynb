{
 "cells": [
  {
   "cell_type": "markdown",
   "id": "940e7555",
   "metadata": {},
   "source": [
    "# BrainScaleS-2 on-chip plasticity experiment\n",
    "\n",
    "In this tutorial we will show how to define a custom plasticity rule and how to execute it during run-time on the BrainScaleS-2 system.\n",
    "In addition to the analog neural network core, BrainScaleS-2 features two embedded general-purpose processors, called PPUs (Plasticity Processing Units).\n",
    "They can be used for experiment control and alterations of configuration during the run-time of an experiment.\n",
    "This example makes use of this feature by show-casing synaptic plasticity for a simple homeostatic rule stabilizing the firing frequency of neurons."
   ]
  },
  {
   "cell_type": "code",
   "execution_count": null,
   "id": "3da9e4a5",
   "metadata": {
    "hide-output": false
   },
   "outputs": [],
   "source": [
    "%matplotlib inline\n",
    "from os.path import join\n",
    "import numpy as np\n",
    "import matplotlib.pyplot as plt\n",
    "import pynn_brainscales.brainscales2 as pynn\n",
    "from dlens_vx_v3 import hal, lola, halco, sta"
   ]
  },
  {
   "cell_type": "code",
   "execution_count": null,
   "id": "eac852d0",
   "metadata": {
    "hide-output": false
   },
   "outputs": [],
   "source": [
    "from _static.common.helpers import setup_hardware_client\n",
    "setup_hardware_client()"
   ]
  },
  {
   "cell_type": "markdown",
   "id": "ab039716",
   "metadata": {},
   "source": [
    "We initialize the system using a nightly-generated default calibration for the neurons.\n",
    "\n",
    "A default calibration is generated for every setup every night.\n",
    "We save the nightly calibration in a variable such that we can use it later when we define our experiment."
   ]
  },
  {
   "cell_type": "code",
   "execution_count": null,
   "id": "9bb4409d",
   "metadata": {
    "hide-output": false
   },
   "outputs": [],
   "source": [
    "from _static.common.helpers import get_nightly_calibration\n",
    "calib = get_nightly_calibration()"
   ]
  },
  {
   "cell_type": "code",
   "execution_count": null,
   "id": "2aa7c0db",
   "metadata": {
    "hide-output": false
   },
   "outputs": [],
   "source": [
    "pynn.setup(initial_config=calib)"
   ]
  },
  {
   "cell_type": "markdown",
   "id": "d5cbecf2",
   "metadata": {},
   "source": [
    "## The network\n",
    "\n",
    "Our network topology looks like follows:\n",
    "\n",
    "<img src=\"_static/tutorial/plasticity_homeostasis_network.svg\" style=\"width:20%;\">\n",
    "\n",
    "Our network consists of one Poisson source and a number of target neurons.\n",
    "The Poisson stimulus is generated with a constant rate."
   ]
  },
  {
   "cell_type": "code",
   "execution_count": null,
   "id": "b70c8c3e",
   "metadata": {
    "hide-output": false
   },
   "outputs": [],
   "source": [
    "runtime = 1000.  # ms\n",
    "\n",
    "bg_props = dict(\n",
    "    seed=1234,\n",
    "    rate=120e3,  # Hz\n",
    ")\n",
    "poisson_input = pynn.Population(1, pynn.cells.SpikeSourcePoissonOnChip(**bg_props))"
   ]
  },
  {
   "cell_type": "markdown",
   "id": "522e835c",
   "metadata": {},
   "source": [
    "We now want to use local plasticity to tune the weights between the Poisson source and the target neurons for them to stabilize around a target firing rate.\n",
    "The weights are updated according to:\n",
    "\n",
    "$$\n",
    "\\Delta w = \\mathrm{sign}\\left(\\nu_\\mathrm{target} - \\nu \\right)\n",
    "$$"
   ]
  },
  {
   "cell_type": "markdown",
   "id": "427f7784",
   "metadata": {},
   "source": [
    "## Controlling the on-chip plasticity processor\n",
    "\n",
    "During the experiment, the PPUs execute an earliest-deadline-first scheduler for tasks to be performed.\n",
    "It periodically fetches new tasks to be performed and executes the task with the earliest deadline first.\n",
    "In PyNN, execution of a plasticity rule is such a task.\n",
    "A plasticity rule is applied onto a projection or population via the synapse type or the cell type respectively.\n",
    "The plasticity rule features a method yielding C++-code to be executed as a task on the PPU.\n",
    "Tasks can be executed periodically, for which a timer object is to be supplied."
   ]
  },
  {
   "cell_type": "markdown",
   "id": "57925e07",
   "metadata": {},
   "source": [
    "## The plasticity kernel\n",
    "\n",
    "We now define the program code for the plasticity rule which stabilizes the neurons’ firing rate by alteration of the synaptic weights.\n",
    "The entry point of the plasticity task is called `PLASTICITY_RULE_KERNEL` and is supplied with information about the synapse and neuron locations.\n",
    "This information corresponds to the projections and populations in PyNN.\n",
    "\n",
    "Within the task function, we will access the neurons’ firing rates via `get_rate_counters(reset)`, compare it to a target firing rate and change the weight according to our learning rule.\n",
    "In order to change the weight, we read the synaptic weights row-wise via `get_weights(row)`, increase/decrease the value by one and then write the weight with `set_weights(weight_values, row)`.\n",
    "Over time, this leads to the stabilization of the neurons’ firing rates.\n",
    "\n",
    "Here is the definition of the plasticity in C++.\n",
    "Since there is no syntax highlighting for C++ in our Python code, we will print a nicely formatted version below."
   ]
  },
  {
   "cell_type": "code",
   "execution_count": null,
   "id": "c7e0f5f3",
   "metadata": {
    "hide-output": false
   },
   "outputs": [],
   "source": [
    "import textwrap\n",
    "\n",
    "PLASTICITY_CODE = textwrap.dedent(\"\"\"\n",
    "    #include \"grenade/vx/ppu/synapse_array_view_handle.h\"\n",
    "    #include \"grenade/vx/ppu/neuron_view_handle.h\"\n",
    "    #include \"grenade/vx/ppu/time.h\"\n",
    "    #include \"libnux/vx/vector_if.h\"\n",
    "    #include \"hate/tuple.h\"\n",
    "\n",
    "    using namespace grenade::vx::ppu;\n",
    "    using namespace libnux::vx;\n",
    "    extern volatile PPUOnDLS ppu;\n",
    "\n",
    "    /**\n",
    "     * Get the sign for each entry of a SIMD vector row (with 256 elements, one for each\n",
    "     * neuron column).\n",
    "     * We use signed fractional saturating SIMD arithmetics to express the sign.\n",
    "     */\n",
    "    VectorRowFracSat8 sign(VectorRowFracSat8 const& value)\n",
    "    {{\n",
    "        // (value == 0) ? 0 : ((value >= 0) ? 1 : -1);\n",
    "        // vector_if applies a conditional selection for each SIMD vector entry\n",
    "        return vector_if(\n",
    "            value,\n",
    "            VectorIfCondition::equal,\n",
    "            VectorRowFracSat8(0),\n",
    "            vector_if(\n",
    "                value,\n",
    "                VectorIfCondition::greater_equal,\n",
    "                VectorRowFracSat8(1),\n",
    "                VectorRowFracSat8(-1)));\n",
    "    }}\n",
    "\n",
    "    /**\n",
    "     * The plasticity rule function, which will be invoked at the requested times during the\n",
    "     * experiment.\n",
    "     *\n",
    "     * @tparam N Number of handles to synapses of the projection and neurons of the\n",
    "     *           population. The handles contain all synapses or neurons, which reside on\n",
    "     *           one hemisphere of the chip, therefore these can here be one or two.\n",
    "     */\n",
    "    template <size_t N>\n",
    "    void PLASTICITY_RULE_KERNEL(\n",
    "        std::array<SynapseArrayViewHandle, N>& synapses,\n",
    "        std::array<NeuronViewHandle, N>& neurons,\n",
    "        Recording& recording)\n",
    "    {{\n",
    "        // record the current time of the experiment\n",
    "        recording.time = now();\n",
    "\n",
    "        // for each part (synapses placed on the top or bottom hemisphere of the chip)\n",
    "        // of the projection perform the plasticity update\n",
    "        hate::for_each(\n",
    "            [&ppu](SynapseArrayViewHandle const& local_synapses,\n",
    "                NeuronViewHandle& local_neurons,\n",
    "                auto& local_recording_w) {{\n",
    "                // Both PPUs execute the same code, we therefore check that we only apply\n",
    "                // weight updates to the hemisphere/PPU-local synapses\n",
    "                if (local_synapses.hemisphere != ppu) {{\n",
    "                    return;\n",
    "                }}\n",
    "\n",
    "                // get the number of spikes for each neuron in the population residing on\n",
    "                // this hemisphere since the last rule execution (and reset the counter)\n",
    "                auto const neuron_counters = local_neurons.get_rate_counters(true);\n",
    "\n",
    "                // iterate over all synapse rows, which contain plastic synapses:\n",
    "                //  - get the weights\n",
    "                //  - calculate weight update\n",
    "                //  - set updated weights\n",
    "                //  - record current weight values\n",
    "                for (size_t j = 0; j < local_synapses.rows.size(); ++j) {{\n",
    "                    auto weights = static_cast<VectorRowFracSat8>(local_synapses.get_weights(j));\n",
    "\n",
    "                    weights += sign(\n",
    "                        VectorRowFracSat8({target})\n",
    "                        - static_cast<VectorRowFracSat8>(neuron_counters));\n",
    "\n",
    "                    // ensure positive weight\n",
    "                    // (weights > 0) ? weights : 0\n",
    "                    weights = vector_if(\n",
    "                        weights,\n",
    "                        VectorIfCondition::greater,\n",
    "                        weights,\n",
    "                        VectorRowFracSat8(0));\n",
    "\n",
    "                    // ensure weight in hardware range\n",
    "                    // (weights > 63) ? 63 : weights\n",
    "                    weights = vector_if(\n",
    "                        weights -63,\n",
    "                        VectorIfCondition::greater,\n",
    "                        VectorRowFracSat8(63),\n",
    "                        weights);\n",
    "\n",
    "                    local_synapses.set_weights(static_cast<VectorRowMod8>(weights), j);\n",
    "\n",
    "                    for (size_t c = 0; c < local_synapses.columns.size(); ++c) {{\n",
    "                        local_recording_w[j][c] = weights[local_synapses.columns[c]];\n",
    "                    }}\n",
    "                }}\n",
    "            }}, synapses, neurons, recording.w);\n",
    "    }}\n",
    "    \"\"\")"
   ]
  },
  {
   "cell_type": "code",
   "execution_count": null,
   "id": "eb461145",
   "metadata": {
    "hide-output": false
   },
   "outputs": [],
   "source": [
    "import IPython.display\n",
    "IPython.display.display_markdown(IPython.display.Markdown(f\"``` c++ \\n{PLASTICITY_CODE}\\n```\"))"
   ]
  },
  {
   "cell_type": "markdown",
   "id": "1fece99f",
   "metadata": {},
   "source": [
    "We now have to define a class which represents the plasticity rule in PyNN.\n",
    "With it we define which observables we want to record.\n",
    "Upon construction of the plasticity rule, we expect a Timer object which handles the execution of the plasticity rule.\n",
    "\n",
    "We need the neurons’ firing rates as observables in the plasticity rule function.\n",
    "Therefore, we will later require the rule to operate on both the synaptic weights as well as the target neurons."
   ]
  },
  {
   "cell_type": "code",
   "execution_count": null,
   "id": "90eea5d8",
   "metadata": {
    "hide-output": false
   },
   "outputs": [],
   "source": [
    "class PlasticityRule(pynn.PlasticityRule):\n",
    "    def __init__(self, timer: pynn.Timer, target: int):\n",
    "        \"\"\"\n",
    "        :param timer: Timing information for the execution of the rule\n",
    "        :param target: Target firing rate of the neurons in number of spikes per execution\n",
    "                       period\n",
    "        \"\"\"\n",
    "        observables = {\n",
    "            \"w\": pynn.PlasticityRule.ObservablePerSynapse(\n",
    "                pynn.PlasticityRule.ObservablePerSynapse.Type.uint8,\n",
    "                pynn.PlasticityRule.ObservablePerSynapse.LayoutPerRow.packed_active_columns)\n",
    "        }\n",
    "\n",
    "        pynn.PlasticityRule.__init__(self, timer, observables)\n",
    "        if target < 0 or target > 256:\n",
    "            raise ValueError(\"The target factor must be in [0, 256).\")\n",
    "        self._target = target\n",
    "\n",
    "    def _set_target(self, new_target):\n",
    "        if new_target < 0 or new_target > 256:\n",
    "            raise ValueError(\"The target factor must be in [0, 256).\")\n",
    "        self._target = new_target\n",
    "        # needed for differential updates of the experiment description\n",
    "        self.changed_since_last_run = True\n",
    "\n",
    "    def _get_target(self):\n",
    "        return self._target\n",
    "\n",
    "    target = property(_get_target, _set_target)\n",
    "\n",
    "    def generate_kernel(self) -> str:\n",
    "        \"\"\"\n",
    "        Generate plasticity rule kernel to be compiled into PPU program.\n",
    "\n",
    "        :return: PPU-code of plasticity-rule kernel as string.\n",
    "        \"\"\"\n",
    "        return PLASTICITY_CODE.format(target=self._target)"
   ]
  },
  {
   "cell_type": "markdown",
   "id": "cfadbf7c",
   "metadata": {},
   "source": [
    "## The experiment\n",
    "\n",
    "We have already constructed the Poisson source.\n",
    "We now construct the plasticity rule with a target firing rate."
   ]
  },
  {
   "cell_type": "code",
   "execution_count": null,
   "id": "1c10f611",
   "metadata": {
    "hide-output": false
   },
   "outputs": [],
   "source": [
    "# plasticity execution timing\n",
    "period = 10.  # ms\n",
    "timer = pynn.Timer(\n",
    "    start=0., # ms\n",
    "    period=period,\n",
    "    num_periods=int(runtime / period))\n",
    "\n",
    "target_rate = 6.  # kHz\n",
    "\n",
    "plasticity_rule = PlasticityRule(timer=timer, target=target_rate * period)"
   ]
  },
  {
   "cell_type": "markdown",
   "id": "035cd3b9",
   "metadata": {},
   "source": [
    "The target population consists of `num_neurons` neurons, of which spikes are recorded.\n",
    "The plasticity rule is supplied as an argument to the celltype, which is an argument to the initialized neuron population.\n",
    "This allows to define a neuron population that is accessible to the plasticity rule under consideration and therefore to access these neurons’ firing rates."
   ]
  },
  {
   "cell_type": "code",
   "execution_count": null,
   "id": "e57226ab",
   "metadata": {
    "hide-output": false
   },
   "outputs": [],
   "source": [
    "num_neurons = 512\n",
    "neurons = pynn.Population(num_neurons, pynn.cells.HXNeuron(plasticity_rule=plasticity_rule))\n",
    "neurons.record([\"spikes\"])"
   ]
  },
  {
   "cell_type": "markdown",
   "id": "8dbb33ff",
   "metadata": {},
   "source": [
    "A all-to-all connector is used as a projection between the Poisson stimulus and the target neurons.\n",
    "Initially the weights are set to zero, the PPU will alter them during the experiment."
   ]
  },
  {
   "cell_type": "code",
   "execution_count": null,
   "id": "b10c92d6",
   "metadata": {
    "hide-output": false
   },
   "outputs": [],
   "source": [
    "synapse = pynn.standardmodels.synapses.PlasticSynapse(\n",
    "    plasticity_rule=plasticity_rule, weight=0)\n",
    "\n",
    "projection = pynn.Projection(poisson_input,\n",
    "                neurons,\n",
    "                pynn.AllToAllConnector(),\n",
    "                synapse_type=synapse)"
   ]
  },
  {
   "cell_type": "markdown",
   "id": "a81ba508",
   "metadata": {},
   "source": [
    "We run the experiment for 1000 ms, during which we expect a plasticity execution every 10 ms\n",
    "leading to convergence of the neurons firing rates towards the target rate."
   ]
  },
  {
   "cell_type": "code",
   "execution_count": null,
   "id": "61b150dc",
   "metadata": {
    "hide-output": false
   },
   "outputs": [],
   "source": [
    "pynn.run(runtime)"
   ]
  },
  {
   "cell_type": "markdown",
   "id": "85ff898a",
   "metadata": {},
   "source": [
    "To plot the neurons’ firing rate, we count spikes in bins:"
   ]
  },
  {
   "cell_type": "code",
   "execution_count": null,
   "id": "26c7b45f",
   "metadata": {
    "hide-output": false
   },
   "outputs": [],
   "source": [
    "import neo\n",
    "\n",
    "def calculate_firing_rates(spikes: neo.SpikeTrain, runtime: float, bins: int = 100) -> np.array:\n",
    "    \"\"\"\n",
    "    Get the neurons' firing rates by counting spikes in time intervals.\n",
    "\n",
    "    :param spikes: Spikes of the neurons\n",
    "    :param runtime: Total experiment runtime in ms\n",
    "    :param bins: Number of bins to divide runtime into\n",
    "    :return: Firing rate of neurons in each bin across the runtime and left limits of the bins.\n",
    "    \"\"\"\n",
    "    counts, times = np.histogram(spikes, bins=bins, range=[0., runtime])\n",
    "    return counts * (bins / runtime), times[:-1]"
   ]
  },
  {
   "cell_type": "markdown",
   "id": "b51cd20e",
   "metadata": {},
   "source": [
    "We visualize the recorded spike-trains.\n",
    "The neurons’ firing rates converge towards the target firing rate."
   ]
  },
  {
   "cell_type": "code",
   "execution_count": null,
   "id": "21d278f2",
   "metadata": {
    "hide-output": false
   },
   "outputs": [],
   "source": [
    "# Plot data\n",
    "plt.figure()\n",
    "plt.xlabel(\"t [ms]\")\n",
    "plt.ylabel(\"$\\\\nu$ [kHz]\")\n",
    "plt.axhline(target_rate)\n",
    "plt.text(0, target_rate + 0.5, \"$\\\\nu_\\\\mathrm{target}$\", color=\"C0\")\n",
    "\n",
    "for spikes in neurons.get_data(\"spikes\").segments[0].spiketrains:\n",
    "    nus, times = calculate_firing_rates(spikes, runtime, 20)\n",
    "    plt.plot(times, nus, color=\"gray\", alpha=0.2, lw=0.5)\n",
    "\n",
    "plt.show()"
   ]
  },
  {
   "cell_type": "markdown",
   "id": "1c4f1918",
   "metadata": {},
   "source": [
    "Last, we visualize the synaptic weights, which were recorded as observables of the plasticity rule.\n",
    "The weights are altered such that the neurons’ firing rate approaches the target firing rate.\n",
    "Since the update rule uses the sign function, the weights are always either increased or decreased in each update step and therefore oscillating."
   ]
  },
  {
   "cell_type": "code",
   "execution_count": null,
   "id": "c399a8f6",
   "metadata": {
    "hide-output": false
   },
   "outputs": [],
   "source": [
    "# get batch entry 0 here, currently in PyNN we don't support batch size larger one\n",
    "weights = projection.get_data(\"w\")[0]\n",
    "weight_times = []\n",
    "weight_values = []\n",
    "for i in range(len(weights)):\n",
    "    # times are not yet converted to ms, but are given in FPGA clock cycles (with 125MHz clock)\n",
    "    weight_times.append(weights[i].time.value() / 125 / 1000)\n",
    "    weight_values.append(weights[i].data)\n",
    "weight_times = np.array(weight_times)\n",
    "weight_values = np.array(weight_values).squeeze()\n",
    "\n",
    "plt.plot(weight_times, weight_values, color=\"gray\", alpha=0.2, lw=0.5)\n",
    "plt.ylabel(\"synaptic weight [a.u.]\")\n",
    "plt.xlabel(\"t [ms]\")\n",
    "\n",
    "plt.show()"
   ]
  }
 ],
 "metadata": {
  "date": 1752846839.9062366,
  "filename": "ts_11-plasticity_homeostasis.rst",
  "kernelspec": {
   "display_name": "EBRAINS-experimental",
   "language": "python",
   "name": "ebrains-experimental"
  },
  "title": "BrainScaleS-2 on-chip plasticity experiment"
 },
 "nbformat": 4,
 "nbformat_minor": 5
}