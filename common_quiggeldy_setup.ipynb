{
 "cells": [
  {
   "cell_type": "code",
   "execution_count": null,
   "id": "f4b228ed",
   "metadata": {
    "hide-output": false
   },
   "outputs": [],
   "source": [
    "from _static.common.helpers import setup_hardware_client\n",
    "setup_hardware_client()"
   ]
  }
 ],
 "metadata": {
  "date": 1748430002.5619109,
  "filename": "common_quiggeldy_setup.rst",
  "kernelspec": {
   "display_name": "Python",
   "language": "python3",
   "name": "python3"
  }
 },
 "nbformat": 4,
 "nbformat_minor": 5
}