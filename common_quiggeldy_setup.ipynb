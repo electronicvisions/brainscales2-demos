{
 "cells": [
  {
   "cell_type": "code",
   "execution_count": null,
   "id": "82b15b01",
   "metadata": {
    "hide-output": false
   },
   "outputs": [],
   "source": [
    "from _static.common.helpers import setup_hardware_client\n",
    "setup_hardware_client()"
   ]
  }
 ],
 "metadata": {
  "date": 1748946587.895899,
  "filename": "common_quiggeldy_setup.rst",
  "kernelspec": {
   "display_name": "Python",
   "language": "python3",
   "name": "python3"
  }
 },
 "nbformat": 4,
 "nbformat_minor": 5
}