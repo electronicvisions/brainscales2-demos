{
 "cells": [
  {
   "cell_type": "markdown",
   "id": "3f46b713",
   "metadata": {},
   "source": [
    "# Multicompartmental Neurons\n",
    "\n",
    "In the previous demonstrations we considered point neuron models.\n",
    "However, biological neurons often posses elaborate dendritic trees, which allow them to pre-process the synaptic inputs before they reach the somatic spike initiation zone near the axon initial segment.\n",
    "Taking dendrites as well as their passive and active properties into account can greatly enhance the computational power of neurons [1-3].\n",
    "\n",
    "In order to investigate the features of structured neurons, BrainScaleS-2 offers the possibility to connect several neuron circuits to form multi-compartmental neuron models.\n",
    "The following figure shows a sketch of two neuron circuits and the electronic (**not** synaptic) connections they can establish.\n",
    "\n",
    "<img src=\"_static/tutorial/multicompartment_connections.png\" style=\"width:500px;\" align=\"center\">\n",
    "\n",
    "Horizontal switches $ S_{mh} $ and vertical switches $ S_{mv} $ allow to connect neighboring neuron circuits directly – they form a single, isopotential compartment.\n",
    "This can be useful to increase the fan-in of a single compartment as it is now connected to several columns of the synapse array or might be needed to realize certain multi-compartmental models (see the code example below).\n",
    "\n",
    "In addition to these “membrane connections” each neuron circuit can also connect either directly ($ S_{ms} $) or via a conductance $ R_{ms} $ to a “shared line”.\n",
    "This offers the possibility to connect several compartments via conductances and to form various multi-compartmental neuron models.\n",
    "We will demonstrate the implementation of a multi-compartmental model by the example of a compartment chain and will investigate how excitatory postsynaptic potentials propagate along the chain.\n",
    "The following figure displays a sketch of a chain with four compartments in the top part; in the bottom the hardware implementation is illustrated.\n",
    "\n",
    "<img src=\"_static/tutorial/multicompartment_chain_model.png\" style=\"width:500px;\" align=\"center\">\n",
    "\n",
    "The rest of this demo will motivate why we chose this hardware implementation and will show how this model can be emulated on the BrainScaleS-2 system.\n",
    "You can find more detailed information about the multi-compartmental capabilities, example configurations and experiments with structured neurons in Kaiser et al. 2021 [4]."
   ]
  },
  {
   "cell_type": "markdown",
   "id": "e486d81c",
   "metadata": {},
   "source": [
    "# References for further reading\n",
    "\n",
    "1. Poirazi, P., Brannon, T., Mel, B.W., 2003. Pyramidal neuron as two-layer neural network. Neuron 37, 989–999. doi:[10.1016/s0896-6273(03)00149-1](https://www.doi.org/10.1016/s0896-6273%2803%2900149-1)  \n",
    "1. London, M., Häusser, M., 2005. Dendritic computation. Annu. Rev. Neurosci.  28, 503–532. doi:[10.1146/annurev.neuro.28.061604.135703](https://www.doi.org/10.1146/annurev.neuro.28.061604.135703)  \n",
    "1. Major, G., Larkum, M.E., Schiller, J., 2013. Active properties of neocortical pyramidal neuron dendrites. Annual Review of Neuroscience 36, 1–24. doi:[10.1146/annurev-neuro-062111-150343](https://www.doi.org/10.1146/annurev-neuro-062111-150343)  \n",
    "1. Kaiser, J., Billaudelle, S., Müller, E., Tetzlaff, C., Schemmel, J., and Schmitt, S., 2022. Emulating dendritic computing paradigms on analog neuromorphic hardware. Neuroscience. doi:[10.1016/j.neuroscience.2021.08.013](https://www.doi.org/10.1016/j.neuroscience.2021.08.013)  "
   ]
  },
  {
   "cell_type": "markdown",
   "id": "56d7a777",
   "metadata": {},
   "source": [
    "## Imports and Calibration\n",
    "\n",
    "Once again we have to set some environment variables for our microscheduler first:"
   ]
  },
  {
   "cell_type": "code",
   "execution_count": null,
   "id": "d109cffc",
   "metadata": {
    "hide-output": false
   },
   "outputs": [],
   "source": [
    "from _static.common.helpers import setup_hardware_client\n",
    "setup_hardware_client()"
   ]
  },
  {
   "cell_type": "markdown",
   "id": "9f6c44e7",
   "metadata": {},
   "source": [
    "We continue by importing several Python packages, which we need to perform our experiment."
   ]
  },
  {
   "cell_type": "code",
   "execution_count": null,
   "id": "134bbe39",
   "metadata": {
    "hide-output": false
   },
   "outputs": [],
   "source": [
    "%matplotlib inline\n",
    "from functools import partial\n",
    "from typing import List, Optional\n",
    "import numpy as np\n",
    "import ipywidgets as widget\n",
    "import matplotlib.pyplot as plt\n",
    "import quantities as pq\n",
    "\n",
    "import pynn_brainscales.brainscales2 as pynn\n",
    "from pynn_brainscales.brainscales2.morphology import create_mc_neuron, \\\n",
    "    Compartment, SharedLineConnection"
   ]
  },
  {
   "cell_type": "markdown",
   "id": "28006851",
   "metadata": {},
   "source": [
    "A default calibration is generated for every setup every night.\n",
    "We save the nightly calibration in two variables such that we can use it later when we define our neuronal network."
   ]
  },
  {
   "cell_type": "code",
   "execution_count": null,
   "id": "cc8b7808",
   "metadata": {
    "hide-output": false
   },
   "outputs": [],
   "source": [
    "from _static.common.helpers import get_nightly_calibration\n",
    "calib = get_nightly_calibration()"
   ]
  },
  {
   "cell_type": "markdown",
   "id": "5805e93d",
   "metadata": {},
   "source": [
    "Now we can start setting up our network:"
   ]
  },
  {
   "cell_type": "code",
   "execution_count": null,
   "id": "ab06e814",
   "metadata": {
    "hide-output": false
   },
   "outputs": [],
   "source": [
    "# setup PyNN and inject calibration data\n",
    "pynn.setup(initial_config=calib)"
   ]
  },
  {
   "cell_type": "markdown",
   "id": "0aad873f",
   "metadata": {},
   "source": [
    "Furthermore, we define some global parameters which we need for the construction of the chain and the external stimulus."
   ]
  },
  {
   "cell_type": "code",
   "execution_count": null,
   "id": "8e4f7245",
   "metadata": {
    "hide-output": false
   },
   "outputs": [],
   "source": [
    "length = 4  # Number of compartments in the chain\n",
    "inputs = 10 # Number of concurrent input spikes"
   ]
  },
  {
   "cell_type": "markdown",
   "id": "a51790fe",
   "metadata": {},
   "source": [
    "## Constructing a Compartment Chain\n",
    "\n",
    "We will now create a chain of compartments, which are connected via conductances.\n",
    "Each compartment in the middle of the chain has two neighbors.\n",
    "Therefore, these compartments have to establish two connections via the somatic line.\n",
    "As a consequence each is made up of two neuron circuits: the first will connect to the somatic line via the conductance and the second via the switch.\n",
    "\n",
    "The PyNN interface allows us to define compartments and the connections between them.\n",
    "Once we defined all compartments and connections, we can create a new neuron type."
   ]
  },
  {
   "cell_type": "code",
   "execution_count": null,
   "id": "ad124adc",
   "metadata": {
    "hide-output": false
   },
   "outputs": [],
   "source": [
    "assert length >= 2\n",
    "compartments = []\n",
    "for n_comp in range(length):\n",
    "    positions = [2 * n_comp, 2 * n_comp + 1]\n",
    "    # use direct connection to connect to the right\n",
    "    connect_shared_line = None if n_comp == 0 else [positions[0]]\n",
    "    # use resistor to connect to the right\n",
    "    connect_conductance = None if n_comp == (length - 1) else \\\n",
    "        [(positions[1], 200)]\n",
    "    compartments.append(\n",
    "        Compartment(positions=positions,\n",
    "                    label=f'comp_{n_comp}',\n",
    "                    connect_conductance=connect_conductance,\n",
    "                    connect_shared_line=connect_shared_line))\n",
    "\n",
    "\n",
    "# close shared line between neighboring compartments\n",
    "connections = []\n",
    "for n_comp in range(length - 1):\n",
    "    # start at second circuit in first compartment\n",
    "    start = 2 * n_comp + 1\n",
    "    connections.append(\n",
    "        SharedLineConnection(start=start, stop=start + 1, row=0))\n",
    "\n",
    "# create new neuron type\n",
    "CompartmentChain = create_mc_neuron('CompartmentChain',\n",
    "                                    compartments=compartments,\n",
    "                                    connections=connections,\n",
    "                                    single_active_circuit=True)\n",
    "\n",
    "# disable spiking since we want to observe the attenuation of PSPs\n",
    "pop = pynn.Population(1, CompartmentChain(threshold_enable=False))"
   ]
  },
  {
   "cell_type": "markdown",
   "id": "49db91a6",
   "metadata": {},
   "source": [
    "## External Input and Experiment Definition\n",
    "\n",
    "We create stimulus neurons which inject synaptic inputs in one compartment after another."
   ]
  },
  {
   "cell_type": "code",
   "execution_count": null,
   "id": "af98f625",
   "metadata": {
    "hide-output": false
   },
   "outputs": [],
   "source": [
    "isi = 0.2  # ms (hw): time between inputs\n",
    "spike_times = np.arange(length) * isi + 0.5 * isi  # ms (hw)\n",
    "# Inject stimulus in one compartment after another\n",
    "projections = []\n",
    "for n_comp, spike_time in enumerate(spike_times):\n",
    "    pop_in = pynn.Population(inputs, pynn.cells.SpikeSourceArray(\n",
    "        spike_times=[spike_time]))\n",
    "\n",
    "    # Note: the weight will be set later\n",
    "    synapse_type = pynn.standardmodels.synapses.StaticSynapse()\n",
    "    projections.append(\n",
    "        pynn.Projection(pop_in, pop,\n",
    "                        pynn.AllToAllConnector(location_selector=f'comp_{n_comp}'),\n",
    "                        synapse_type=synapse_type))"
   ]
  },
  {
   "cell_type": "markdown",
   "id": "5478f8ff",
   "metadata": {},
   "source": [
    "Now we define a function which runs the experiment on the BrainScaleS-2 system.\n",
    "Since we use a single ADC (analog-to-digital converter) to record the membrane potential of each compartment, we have to perform `length` hardware runs."
   ]
  },
  {
   "cell_type": "code",
   "execution_count": null,
   "id": "9f2181cb",
   "metadata": {
    "hide-output": false
   },
   "outputs": [],
   "source": [
    "def record_membrane_traces(weight: int, conductance: int) -> List:\n",
    "    \"\"\"\n",
    "    Run emulation on BSS-2 and record membrane traces of each compartment.\n",
    "\n",
    "    :param weight: Weight of stimulus projection. Value range: [0, 63].\n",
    "    :param conductance: Conductance between compartments. Value range\n",
    "        [0, 1022].\n",
    "\n",
    "    :return List of recorded membrane traces.\n",
    "    \"\"\"\n",
    "\n",
    "    # Set parameters\n",
    "    pop.set(multicompartment_i_bias_nmda=conductance)\n",
    "    for proj in projections:\n",
    "        proj.set(weight=weight)\n",
    "\n",
    "\n",
    "    # Run on hardware and record mebrane potentials\n",
    "    membrane_traces = []\n",
    "    for n_comp in range(length):\n",
    "        pop.record(['v'], locations=[f'comp_{n_comp}'])\n",
    "\n",
    "        pynn.run(length * isi)\n",
    "\n",
    "        membrane_traces.append(pop.get_data(clear=True).segments[-1].irregularlysampledsignals[0])\n",
    "\n",
    "        pop.record(None)\n",
    "        pynn.reset()\n",
    "\n",
    "    return membrane_traces"
   ]
  },
  {
   "cell_type": "markdown",
   "id": "76eb151c",
   "metadata": {},
   "source": [
    "Furthermore, we define a function which plots the defined membrane traces.\n",
    "For that purpose we create a grid of size `length x length`.\n",
    "Each cell in this grid will contain a subplot which displays the membrane response in a single compartment to a single input.\n",
    "We will change the recording site in the x-axis and the injection site on the y-axis."
   ]
  },
  {
   "cell_type": "code",
   "execution_count": null,
   "id": "8af48d92",
   "metadata": {
    "hide-output": false
   },
   "outputs": [],
   "source": [
    "def plot_membrane_traces(membrane_traces: List, old_traces: Optional[List]):\n",
    "    \"\"\"\n",
    "    Display recorded membrane traces.\n",
    "\n",
    "    Split the recorded membrane trace of each compartment and create a grid of\n",
    "    reponses in which the recording site changes in the horizontal direction\n",
    "    and the injection site in the vertical direction.\n",
    "\n",
    "    :param membrane_traces: List of recorded membrane traces of the different\n",
    "        compartments.\n",
    "    \"\"\"\n",
    "    length = len(membrane_traces)\n",
    "    fig, axs = plt.subplots(length, length, sharex=True, sharey=True,\n",
    "                            figsize=(10,8))\n",
    "\n",
    "    def plot_single(traces: List, **kwargs):\n",
    "        '''\n",
    "        Helper function to plot membrane traces recorded in a single experiment.\n",
    "        '''\n",
    "        for injected in range(length):\n",
    "            for measured in range(length):\n",
    "                membrane_trace = traces[measured]\n",
    "                input_time = spike_times[injected] * pq.ms\n",
    "\n",
    "                signal = membrane_trace.time_slice(\n",
    "                    t_start=input_time - 0.01 * pq.ms,\n",
    "                    t_stop=input_time + 0.06 * pq.ms)\n",
    "\n",
    "                # Normalize voltage and times\n",
    "                signal.times = (signal.times - input_time).rescale(pq.us)\n",
    "                signal = signal - signal[:100].mean()\n",
    "\n",
    "                axs[injected, measured].plot(signal.times, signal, **kwargs)\n",
    "\n",
    "    plot_single(membrane_traces, c='k')\n",
    "    if old_traces is not None:\n",
    "        plot_single(old_traces, c='k', alpha=0.3)\n",
    "\n",
    "    # Hide all but one axis\n",
    "    for ax in np.delete(axs, -length):\n",
    "        ax.axis('off')\n",
    "\n",
    "    axs[-1, 0].spines['right'].set_visible(False)\n",
    "    axs[-1, 0].spines['top'].set_visible(False)\n",
    "\n",
    "    # Add \"global\" axis with annotations\n",
    "    ax = fig.add_subplot(111, frameon=False)\n",
    "    ax.tick_params(labelcolor='none', top=False, bottom=False, left=False,\n",
    "                   right=False)\n",
    "    ax.minorticks_off()\n",
    "    ax.set_ylabel('Membrane Voltage (MADC)')\n",
    "    ax.set_xlabel('Hardware Time (us)')\n",
    "\n",
    "\n",
    "    pad = 8\n",
    "    ax.annotate(r'$\\triangleleft$ change recording site $\\triangleright$',\n",
    "                xy=(0.5, 1), xytext=(0, pad),\n",
    "                xycoords='axes fraction', textcoords='offset points',\n",
    "                ha='center', va='center')\n",
    "    ax.annotate(r'$\\triangleleft$ change injection site $\\triangleright$',\n",
    "                xy=(1, 0.5), xytext=(pad, 0),\n",
    "                xycoords='axes fraction', textcoords='offset points',\n",
    "                ha='center', va='center', rotation=270)\n",
    "\n",
    "    fig.show()"
   ]
  },
  {
   "cell_type": "markdown",
   "id": "d1e457d9",
   "metadata": {},
   "source": [
    "## Performing the Experiment\n",
    "\n",
    "Finally, we can execute the experiment on the BrainScaleS-2 system.\n",
    "For that purpose we use the functions defined in the previous section."
   ]
  },
  {
   "cell_type": "code",
   "execution_count": null,
   "id": "15aad40a",
   "metadata": {
    "hide-output": false
   },
   "outputs": [],
   "source": [
    "old_traces = None\n",
    "\n",
    "Slider = partial(widget.IntSlider, continuous_update=False)\n",
    "@widget.interact(weight=Slider(min=0, max=63, step=1, value=31),\n",
    "                 conductance=Slider(min=0, max=1022, step=10, value=500))\n",
    "def run_experiment(weight, conductance):\n",
    "    global old_traces\n",
    "    membrane_traces = record_membrane_traces(weight, conductance)\n",
    "    plot_membrane_traces(membrane_traces, old_traces)\n",
    "    old_traces = membrane_traces"
   ]
  },
  {
   "cell_type": "markdown",
   "id": "af4941ee",
   "metadata": {},
   "source": [
    "### Questions\n",
    "\n",
    "- How does the conductance influence the attenuation of the EPSP?\n",
    "  How does it affect the height of the EPSP in the compartment in which it was injected?  \n",
    "- Do you see an effect due to the finite chain length?  \n",
    "\n",
    "\n",
    "Last but not least, we tell PyNN that we finished all our experiments.\n",
    "Uncomment and execute the following line once you want to finish the experiment."
   ]
  },
  {
   "cell_type": "code",
   "execution_count": null,
   "id": "69213006",
   "metadata": {
    "hide-output": false
   },
   "outputs": [],
   "source": [
    "# pynn.end()"
   ]
  }
 ],
 "metadata": {
  "date": 1731315138.844327,
  "filename": "fp_multicompartment.rst",
  "kernelspec": {
   "display_name": "EBRAINS-experimental",
   "language": "python",
   "name": "ebrains-experimental"
  },
  "title": "Multicompartmental Neurons"
 },
 "nbformat": 4,
 "nbformat_minor": 5
}