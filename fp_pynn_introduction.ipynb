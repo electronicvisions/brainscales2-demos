{
 "cells": [
  {
   "cell_type": "markdown",
   "id": "82ac6186",
   "metadata": {},
   "source": [
    "# Introduction to PyNN\n",
    "\n",
    "The neuron circuits have a lot of tunable parameters. But how do we set\n",
    "their values? For this the module PyNN can be used. It is a language\n",
    "that allows you to form groups of neurons and to connect them in\n",
    "different ways to each other. Also, the parameters of individual neurons\n",
    "can be varied and the resulting dynamic can be observed.\n",
    "\n",
    "In the following, we want to build a simple network in which a neuron is\n",
    "stimulated by a group of five neurons.\n",
    "\n",
    "<img src=\"_static/common/pynn_simple_network.png\" style=\"width:400;\" align=\"center\">"
   ]
  },
  {
   "cell_type": "code",
   "execution_count": null,
   "id": "52423b58",
   "metadata": {
    "hide-output": false
   },
   "outputs": [],
   "source": [
    "# import the module PyNN\n",
    "import pynn_brainscales.brainscales2 as pynn\n",
    "\n",
    "# set the environment\n",
    "from _static.common.helpers import setup_hardware_client, get_nightly_calibration\n",
    "\n",
    "setup_hardware_client()\n",
    "calib = get_nightly_calibration()\n",
    "pynn.setup(initial_config=calib)"
   ]
  },
  {
   "cell_type": "markdown",
   "id": "7196aca6",
   "metadata": {},
   "source": [
    "Groups of neurons are called [populations](http://neuralensemble.org/docs/PyNN/reference/populations.html#populations).\n",
    "Such a population is instantiated by setting the number of neurons it should contain, the cell type of these neurons and the values of the cell parameters.\n",
    "The [cell type](http://neuralensemble.org/docs/PyNN/reference/neuronmodels.html) of our artificial neurons is called `HXNeuron`.\n",
    "Its parameters are not expressed in the same units as for biological neurons, but in hardware units.\n",
    "These two systems of units are not directly related.\n",
    "Also within the hardware units there is no general translation to physical voltages and currents.\n",
    "Furthermore, these values can have different meanings for the different parameters on a chip, for example, a threshold voltage of 300 may be higher than a leakage voltage of 400.\n",
    "Especially in the comparison between chips, even though they are designed completely identical, the actual measured values can vary slightly."
   ]
  },
  {
   "cell_type": "code",
   "execution_count": null,
   "id": "7c9b96ab",
   "metadata": {
    "hide-output": false
   },
   "outputs": [],
   "source": [
    "# define the neuron parameters of the population\n",
    "n_neurons = 1\n",
    "neuron_parameters = {                          # range\n",
    "    \"leak_v_leak\": 400,                        # (300-1000)\n",
    "    \"leak_i_bias\": 200,                        # (0-1022)\n",
    "    \"threshold_v_threshold\": 400,              # (0-600)\n",
    "    \"threshold_enable\": True,                  #\n",
    "    \"refractory_period_refractory_time\": 100,  # (0-255)\n",
    "    \"reset_v_reset\": 300,                      # (300-1000)\n",
    "    \"reset_i_bias\": 1000,                      # (0-1022)\n",
    "    \"membrane_capacitance_capacitance\": 63     # (0-63)\n",
    "}\n",
    "\n",
    "neuron_type = pynn.cells.HXNeuron(**neuron_parameters)\n",
    "\n",
    "# save the configured neuron in the population 'pop'\n",
    "pop = pynn.Population(n_neurons, neuron_type)"
   ]
  },
  {
   "cell_type": "markdown",
   "id": "d5940ed0",
   "metadata": {},
   "source": [
    "The spikes of all neurons that have been stored in populations can be recorded.\n",
    "Furthermore, it is also possible to record the membrane potential of a single neuron.\n",
    "Consequently, for this purpose the population must have a size of one.\n",
    "\n",
    "We can only record one neuron at the time. Make sure to use\n",
    "populations of size one or use views to select a single neuron, see.\n",
    "[PyNN documentation](http://neuralensemble.org/docs/PyNN/reference/populations.html#views-sub-populations)."
   ]
  },
  {
   "cell_type": "code",
   "execution_count": null,
   "id": "21cff7b6",
   "metadata": {
    "hide-output": false
   },
   "outputs": [],
   "source": [
    "# record spikes and membrane potential 'v' of the neuron in the\n",
    "# population 'pop'\n",
    "pop.record([\"spikes\", \"v\"])"
   ]
  },
  {
   "cell_type": "markdown",
   "id": "08645528",
   "metadata": {},
   "source": [
    "Different populations can be connected by so-called [projections](http://neuralensemble.org/docs/PyNN/reference/projections.html).\n",
    "For this, firstly it must be specified which is the pre-synaptic (source) and which the post-synaptic (receiver) population. Furthermore, the way in which the neurons within the populations are exactly connected to each other is specified, e.g., all neurons are connected, or only a certain percentage of the neurons are connected to each other.\n",
    "In addition, the synaptic weight which describes the strength of the connection and the [synapse type](http://neuralensemble.org/docs/PyNN/reference/plasticitymodels.html) are specified.\n",
    "This can either be excitatory, meaning that the membrane voltage increases in case of stimulation, or it is inhibitory, which causes the membrane voltage to decrease."
   ]
  },
  {
   "cell_type": "code",
   "execution_count": null,
   "id": "857919eb",
   "metadata": {
    "hide-output": false
   },
   "outputs": [],
   "source": [
    "# create a source population that generates spikes at given times\n",
    "spike_times = [0.01, 0.03, 0.05, 0.07, 0.09]\n",
    "src = pynn.Population(5, pynn.cells.SpikeSourceArray(spike_times=spike_times))\n",
    "\n",
    "# define a synapse and its weight\n",
    "synapse_weight = 63\n",
    "synapse = pynn.synapses.StaticSynapse(weight=synapse_weight)\n",
    "\n",
    "# connect the pre-synaptic population 'src' to the post-synaptic\n",
    "# neuron in 'pop'\n",
    "pynn.Projection(src, pop, pynn.AllToAllConnector(),\n",
    "                synapse_type=synapse, receptor_type=\"excitatory\")"
   ]
  },
  {
   "cell_type": "markdown",
   "id": "16f0e676",
   "metadata": {},
   "source": [
    "The created network of populations and projections can now be emulated\n",
    "for a selected time."
   ]
  },
  {
   "cell_type": "code",
   "execution_count": null,
   "id": "24470076",
   "metadata": {
    "hide-output": false
   },
   "outputs": [],
   "source": [
    "# the duration is given in ms,\n",
    "# this is in the hardware domain, not in the biological\n",
    "# (the hardware is faster by a factor of approx. 1000\n",
    "# compared to biology)\n",
    "duration = 0.1\n",
    "pynn.run(duration)"
   ]
  },
  {
   "cell_type": "markdown",
   "id": "482e87b0",
   "metadata": {},
   "source": [
    "Thereafter, the recorded behavior of the neurons can be read out."
   ]
  },
  {
   "cell_type": "code",
   "execution_count": null,
   "id": "f93fbfae",
   "metadata": {
    "hide-output": false
   },
   "outputs": [],
   "source": [
    "# read out the spikes of the neuron in 'pop'\n",
    "spiketrain = pop.get_data(\"spikes\").segments[0].spiketrains[0]\n",
    "print(f\"The neuron spiked {len(spiketrain)} times.\")\n",
    "print(f\"The spike times were: {spiketrain}\")\n",
    "\n",
    "# plot its membrane potential\n",
    "mem_v = pop.get_data(\"v\").segments[0].irregularlysampledsignals[0]\n",
    "\n",
    "import matplotlib.pyplot as plt\n",
    "%matplotlib inline\n",
    "plt.figure()\n",
    "plt.plot(mem_v.times, mem_v)\n",
    "plt.xlabel(\"time [ms]\")\n",
    "plt.ylabel(\"membrane potential [LSB]\")\n",
    "plt.show()"
   ]
  }
 ],
 "metadata": {
  "date": 1727430818.8677878,
  "filename": "fp_pynn_introduction.rst",
  "kernelspec": {
   "display_name": "EBRAINS-experimental",
   "language": "python",
   "name": "ebrains-experimental"
  },
  "title": "Introduction to PyNN"
 },
 "nbformat": 4,
 "nbformat_minor": 5
}