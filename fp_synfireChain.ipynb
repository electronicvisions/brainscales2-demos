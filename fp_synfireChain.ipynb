{
 "cells": [
  {
   "cell_type": "markdown",
   "id": "10ae50f7",
   "metadata": {},
   "source": [
    "# A simple feedforward network\n",
    "\n",
    "In this task we consider a so-called synfire chain, an illustration of which can be seen in the next image:\n",
    "A synfire chain is a chain of `numb_pops` “excitatory” populations (red), each consisting of $ n_\\text{exc} $ neurons, which are connected via excitatory connections, such that events in a prior population excite the neurons in the following population.\n",
    "So, if the first population is activated, the activity begins traveling through the chain.\n",
    "In order to stop a population from firing as soon as it has excited the next population it is also connected to an “inhibitory” population (blue) of $ n_\\text{inh} $ neurons via inhibitory synapses.\n",
    "This inhibitory population is excited by the spike events from the previous excitatory population.\n",
    "\n",
    "<img src=\"_static/girlsday/girlsday_synfire_chain.png\" style=\"width:300px;\" align=\"center\">\n",
    "\n",
    "The number of neurons in the “excitatory” and “inhibitory” populations, as well as the strength of the connections in between needs to be chosen carefully in order for the activity to travel neatly.\n",
    "The chain can also be closed by connecting the last population to the first one, making the activity travel through the chain repetitively."
   ]
  },
  {
   "cell_type": "markdown",
   "id": "ff1e3205",
   "metadata": {},
   "source": [
    "## Setup"
   ]
  },
  {
   "cell_type": "code",
   "execution_count": null,
   "id": "29fbcc15",
   "metadata": {
    "hide-output": false
   },
   "outputs": [],
   "source": [
    "from _static.common.helpers import setup_hardware_client\n",
    "setup_hardware_client()"
   ]
  },
  {
   "cell_type": "markdown",
   "id": "34b2ae75",
   "metadata": {},
   "source": [
    "A default calibration is generated for every setup every night.\n",
    "We save the nightly calibration in two variables such that we can use it later when we define our neuronal network."
   ]
  },
  {
   "cell_type": "code",
   "execution_count": null,
   "id": "3eac2012",
   "metadata": {
    "hide-output": false
   },
   "outputs": [],
   "source": [
    "from _static.common.helpers import get_nightly_calibration\n",
    "calib = get_nightly_calibration()"
   ]
  },
  {
   "cell_type": "markdown",
   "id": "5b18831d",
   "metadata": {},
   "source": [
    "## A Synfire Chain\n",
    "\n",
    "We start by importing the relevant python packages we need for our experiment and setting up the environment for experiment execution."
   ]
  },
  {
   "cell_type": "code",
   "execution_count": null,
   "id": "c310ee78",
   "metadata": {
    "hide-output": false
   },
   "outputs": [],
   "source": [
    "%matplotlib inline\n",
    "\n",
    "from typing import Dict, Tuple, List, Union\n",
    "import quantities as pq\n",
    "\n",
    "import time\n",
    "import matplotlib.pyplot as plt\n",
    "import numpy as np\n",
    "import neo\n",
    "\n",
    "import pynn_brainscales.brainscales2 as pynn\n",
    "from pynn_brainscales.brainscales2.standardmodels.cells import \\\n",
    "    SpikeSourceArray, HXNeuron\n",
    "from pynn_brainscales.brainscales2.standardmodels.synapses import StaticSynapse"
   ]
  },
  {
   "cell_type": "markdown",
   "id": "734986ec",
   "metadata": {},
   "source": [
    "## Experiment setup\n",
    "\n",
    "You are given a scaffold to run the experiment where populations are created and connected, and finally also stimulated.\n",
    "This scaffold can be used to investigate the behaviour of a synfire chain and answer the questions below."
   ]
  },
  {
   "cell_type": "code",
   "execution_count": null,
   "id": "33a35ab6",
   "metadata": {
    "hide-output": false
   },
   "outputs": [],
   "source": [
    "ProjCollType = Dict[str, Union[List[pynn.Projection], pynn.Projection]]\n",
    "PopCollType = Dict[str, Union[List[pynn.Population], pynn.Population]]\n",
    "\n",
    "def setup_network(numb_pops: int, pop_sizes: Dict[int, np.array],\n",
    "                  closed: bool = False) -> Tuple[ProjCollType, PopCollType]:\n",
    "    \"\"\"\n",
    "    This function generates a synfire chain network\n",
    "    Attention: You need to run 'pynn.end()' before a re-setup of a network\n",
    "               is possible!\n",
    "\n",
    "    :param numb_pops: chain length\n",
    "    :param pop_sizes: number of neurons in the excitatory ('exc') and\n",
    "                      inhibitory ('inh') populations\n",
    "    :param closed: indicates if the chain is closed, defaults to False\n",
    "    :return: projections (as dict) and populations (as dict)\n",
    "    \"\"\"\n",
    "    # The refractory period needs to be small to allow regular spiking\n",
    "    neuron_params = {\"refractory_period_refractory_time\": 50}\n",
    "\n",
    "    # Setup pyNN with a calibration\n",
    "    pynn.setup(initial_config=calib)\n",
    "\n",
    "    #############################\n",
    "    # create neuron populations #\n",
    "    #############################\n",
    "    pop_collector = {'exc': [], 'inh': []}\n",
    "\n",
    "    for syn_type in ['exc', 'inh']:\n",
    "        for _ in range(numb_pops):\n",
    "            pop = pynn.Population(pop_sizes[syn_type],\n",
    "                                  HXNeuron(**neuron_params))\n",
    "            pop.record(['spikes'])\n",
    "            pop_collector[syn_type].append(pop)\n",
    "\n",
    "    # record membrane potential from first neuron of first excitatory\n",
    "    # population of chain\n",
    "    pop1exc = pop_collector['exc'][0]\n",
    "    pop1exc[[0]].record('v')\n",
    "\n",
    "    # kick starter input pulse at t = 0\n",
    "    stim_pop = pynn.Population(pop_sizes['exc'],\n",
    "                               SpikeSourceArray(spike_times=[0]))\n",
    "\n",
    "    #################################################\n",
    "    # connect neuron populations to a synfire chain #\n",
    "    #################################################\n",
    "    proj_collector = {'exc_exc': [], 'exc_inh': [], 'inh_exc': []}\n",
    "\n",
    "    # connect stim -> exc\n",
    "    proj_collector['stim_exc'] = pynn.Projection(\n",
    "        stim_pop, pop_collector['exc'][0], pynn.AllToAllConnector(),\n",
    "        synapse_type=StaticSynapse(weight=0), receptor_type='excitatory')\n",
    "\n",
    "    # connect stim -> inh\n",
    "    proj_collector['stim_inh'] = pynn.Projection(\n",
    "        stim_pop, pop_collector['inh'][0], pynn.AllToAllConnector(),\n",
    "        synapse_type=StaticSynapse(weight=0), receptor_type='excitatory')\n",
    "\n",
    "    for pop_index in range(numb_pops):\n",
    "        # connect inh -> exc\n",
    "        proj_collector['inh_exc'].append(pynn.Projection(\n",
    "            pop_collector['inh'][pop_index],\n",
    "            pop_collector['exc'][pop_index],\n",
    "            pynn.AllToAllConnector(), synapse_type=StaticSynapse(weight=0),\n",
    "            receptor_type='inhibitory'))\n",
    "\n",
    "        # if synfire chain is not closed, the last exc -> exc and exc -> inh\n",
    "        # that connects back to the first population needs to be skipped\n",
    "        if (pop_index == numb_pops - 1) and not closed:\n",
    "            continue\n",
    "\n",
    "        # connect exc -> exc\n",
    "        proj_collector['exc_exc'].append(pynn.Projection(\n",
    "            pop_collector['exc'][pop_index],\n",
    "            pop_collector['exc'][(pop_index + 1) % numb_pops],\n",
    "            pynn.AllToAllConnector(), synapse_type=StaticSynapse(weight=0),\n",
    "            receptor_type='excitatory'))\n",
    "\n",
    "        # connect exc -> inh\n",
    "        proj_collector['exc_inh'].append(pynn.Projection(\n",
    "            pop_collector['exc'][pop_index],\n",
    "            pop_collector['inh'][(pop_index + 1) % numb_pops],\n",
    "            pynn.AllToAllConnector(), synapse_type=StaticSynapse(weight=0),\n",
    "            receptor_type='excitatory'))\n",
    "    return proj_collector, pop_collector\n",
    "\n",
    "# Initially setup a network\n",
    "projs, pops = setup_network(\n",
    "    numb_pops=8,                     # chain length\n",
    "    pop_sizes={'exc': 7, 'inh': 7})  # size of each chain link"
   ]
  },
  {
   "cell_type": "markdown",
   "id": "9f7d2b3b",
   "metadata": {},
   "source": [
    "With the network setup we can configure and run it."
   ]
  },
  {
   "cell_type": "code",
   "execution_count": null,
   "id": "fbdb4380",
   "metadata": {
    "hide-output": false
   },
   "outputs": [],
   "source": [
    "def set_network_weights(weights: Dict[str, int],\n",
    "                        projections: ProjCollType):\n",
    "    \"\"\"\n",
    "    Sets weights in the network.\n",
    "\n",
    "    :param weights: unsigned weights to be set\n",
    "    :param projections: projections where the weights should be applied\n",
    "\n",
    "    :raise ValueError: if field name in weights can't be found in\n",
    "        projections\n",
    "    \"\"\"\n",
    "    for name, weight in weights.items():\n",
    "        if name not in projections:\n",
    "            raise ValueError(f\"Invalid field name in weights: '{name}'.\"\n",
    "                             f\"Possible fields: {list(projections.keys())}\")\n",
    "        if type(projections[name]) == list:\n",
    "            for proj in projections[name]:\n",
    "                proj.setWeights(weight)\n",
    "        else:\n",
    "            projections[name].setWeights(weight)\n",
    "\n",
    "\n",
    "def run(populations: PopCollType, duration: pq.Quantity) \\\n",
    "    -> Tuple[Dict[str, np.ndarray], np.ndarray]:\n",
    "    \"\"\"\n",
    "    Perform the configured experiment.\n",
    "\n",
    "    :param populations: population collector to extract some network information\n",
    "    :param duration: emulation time in ms\n",
    "    :return: spikes of all neurons and membrane trace of the first exc. neuron\n",
    "    \"\"\"\n",
    "    # emulate the network\n",
    "    pynn.run(float(duration.rescale(pq.ms)))\n",
    "\n",
    "    # read back all recorded spikes\n",
    "    spike_collector = {'exc': np.zeros(len(populations['exc']), dtype=object),\n",
    "                       'inh': np.zeros(len(populations['inh']), dtype=object)}\n",
    "    for syn_type in ['exc', 'inh']:\n",
    "        for pop_index, pop in enumerate(populations[syn_type]):\n",
    "            spike_collector[syn_type][pop_index] = \\\n",
    "                pop.get_data(\"spikes\").segments[0].spiketrains\n",
    "\n",
    "    # read back the membrane potential\n",
    "    mem_v = populations['exc'][0][[0]].get_data(\"v\").segments[-1].irregularlysampledsignals[0]\n",
    "    return spike_collector, mem_v"
   ]
  },
  {
   "cell_type": "markdown",
   "id": "3c075c2d",
   "metadata": {},
   "source": [
    "### Visualize data"
   ]
  },
  {
   "cell_type": "code",
   "execution_count": null,
   "id": "2305870a",
   "metadata": {
    "hide-output": false
   },
   "outputs": [],
   "source": [
    "def plot_data(populations: PopCollType, result_spikes: Dict[str, np.ndarray],\n",
    "              result_v: neo.IrregularlySampledSignal):\n",
    "    \"\"\"\n",
    "    Plots the data and shows as well as saves these figures.\n",
    "\n",
    "    :param populations: population collector to extract some network information\n",
    "    :param result_spikes: spikes of all neurons\n",
    "    :param result_v: membrane trace of the first exc. neuron\n",
    "    \"\"\"\n",
    "    pop_size_exc = populations['exc'][0].size\n",
    "    pop_size_inh = populations['inh'][0].size\n",
    "    no_pops = len(populations['exc'])\n",
    "\n",
    "    # visualize the result\n",
    "    ax = plt.subplot(211)\n",
    "    for synapse_type in result_spikes:\n",
    "        for population_index in range(no_pops):\n",
    "            for spike_train in result_spikes[synapse_type][population_index]:\n",
    "                neuron_id = spike_train.annotations['source_id']\n",
    "                ax.plot(spike_train, np.ones_like(spike_train) * neuron_id,\n",
    "                        c='k', marker=\"o\", ls=\"None\", ms=1)\n",
    "    ax.set_xlim(0, max(result_v.times))\n",
    "    ax.set_xticklabels([])\n",
    "    ax.set_ylim(-0.5, (pop_size_exc + pop_size_inh) * no_pops - 0.5)\n",
    "    ax.set_ylabel('neuron ID')\n",
    "    ax.axhspan(-0.5, pop_size_exc * no_pops - 0.5, color='r', alpha=0.2)\n",
    "    ax.axhspan(pop_size_exc * no_pops - 0.5,\n",
    "               (pop_size_exc + pop_size_inh) * no_pops - 0.5,\n",
    "               color='b', alpha=0.2)\n",
    "\n",
    "    axmem = plt.subplot(212)\n",
    "    axmem.plot(result_v.times, result_v)\n",
    "    axmem.set_xlim(0, max(result_v.times))\n",
    "    axmem.set_xlabel('time [ms]')\n",
    "    axmem.set_ylabel('membrane potential [LSB]')\n",
    "\n",
    "    figname = f'fp_task5_synfire_chain_{time.strftime(\"%Y%m%d-%H%M%S\")}.png'\n",
    "    plt.savefig(figname, dpi=300)\n",
    "    print(f\"Result plot saved under {figname}\")"
   ]
  },
  {
   "cell_type": "markdown",
   "id": "7e090371",
   "metadata": {},
   "source": [
    "## Exercises"
   ]
  },
  {
   "cell_type": "markdown",
   "id": "b42e2538",
   "metadata": {},
   "source": [
    "### Adjusting weights\n",
    "\n",
    "- Tune the weights below to obtain a synfire chain behavior as seen in the figure above.  \n",
    "- Which connection is the most sensitive one?  \n",
    "- What happens if you disable inhibition?  \n",
    "- Make comments in your lab book.  \n",
    "\n",
    "\n",
    "After executing the cells above, you can execute this cell as oft as you want."
   ]
  },
  {
   "cell_type": "code",
   "execution_count": null,
   "id": "59782b8b",
   "metadata": {
    "hide-output": false
   },
   "outputs": [],
   "source": [
    "synapse_weights = dict(\n",
    "    stim_exc=...,  # int in range 0 - 63\n",
    "    stim_inh=...,  # int in range 0 - 63\n",
    "    exc_exc=...,   # int in range 0 - 63\n",
    "    exc_inh=...,   # int in range 0 - 63\n",
    "    inh_exc=...    # int in range -63 - 0\n",
    ")\n",
    "set_network_weights(weights=synapse_weights, projections=projs)\n",
    "\n",
    "results = run(pops, 0.2 * pq.ms)\n",
    "\n",
    "plot_data(pops, *results)"
   ]
  },
  {
   "cell_type": "markdown",
   "id": "97c143e6",
   "metadata": {},
   "source": [
    "### Adjusting the number of neurons per population\n",
    "\n",
    "Reduce the number of neurons in each population and use the free neurons to increase the chain size.\n",
    "Which hardware feature limits the minimal number of neurons in each population?\n",
    "What is the maximal chain length that you can produce?\n",
    "Make comments in your lab book."
   ]
  },
  {
   "cell_type": "code",
   "execution_count": null,
   "id": "a1ea2bb8",
   "metadata": {
    "hide-output": false
   },
   "outputs": [],
   "source": [
    "# dont forget to call pynn.end() before setting up a new network\n",
    "pynn.end()\n",
    "\n",
    "projs, pops = setup_network(\n",
    "    numb_pops=...,                       # chain length\n",
    "    pop_sizes={'exc': ..., 'inh': ...})  # size of each chain link\n",
    "\n",
    "# we reuse the weights from the exercise above\n",
    "set_network_weights(weights=synapse_weights, projections=projs)\n",
    "\n",
    "results = run(pops, 0.2 * pq.ms)\n",
    "\n",
    "plot_data(pops, *results)"
   ]
  },
  {
   "cell_type": "markdown",
   "id": "d97b77ec",
   "metadata": {},
   "source": [
    "### Closing the loop\n",
    "\n",
    "Close the loop from the last to the first population.\n",
    "Does the neurons still fire after the software has completed?\n",
    "Make comments in your lab book.\n",
    "\n",
    "Hint: For this part it might be easier to switch to a smaller chain with larger populations.\n",
    "\n",
    "Hint: Take a look into the code above.\n",
    "The closed loop is already implemented and just need to be activated."
   ]
  },
  {
   "cell_type": "code",
   "execution_count": null,
   "id": "90ff4c9e",
   "metadata": {
    "hide-output": false
   },
   "outputs": [],
   "source": [
    "# dont forget to call pynn.end() before setting up a new network\n",
    "pynn.end()\n",
    "\n",
    "projs, pops = setup_network(...)\n",
    "\n",
    "set_network_weights(weights=..., projections=projs)\n",
    "\n",
    "results = run(pops, 0.2 * pq.ms)\n",
    "\n",
    "plot_data(pops, *results)"
   ]
  },
  {
   "cell_type": "markdown",
   "id": "da1b9643",
   "metadata": {},
   "source": [
    "After all, we need to shut down pyNN again."
   ]
  },
  {
   "cell_type": "code",
   "execution_count": null,
   "id": "e2f22dcf",
   "metadata": {
    "hide-output": false
   },
   "outputs": [],
   "source": [
    "pynn.end()"
   ]
  }
 ],
 "metadata": {
  "date": 1728385271.3260474,
  "filename": "fp_synfireChain.rst",
  "kernelspec": {
   "display_name": "EBRAINS-experimental",
   "language": "python",
   "name": "ebrains-experimental"
  },
  "title": "A simple feedforward network"
 },
 "nbformat": 4,
 "nbformat_minor": 5
}