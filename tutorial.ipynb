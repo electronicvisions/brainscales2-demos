{
 "cells": [
  {
   "cell_type": "markdown",
   "id": "c65369ab",
   "metadata": {},
   "source": [
    "# Welcome to the BrainScaleS-2 Tutorial\n",
    "\n",
    "<img src=\"_static/tutorial/bss2.jpg\" style=\"\">\n",
    "\n",
    "Hello and welcome to this tutorial that will interactively guide you through your first experiments on the BrainScaleS-2 system!\n",
    "\n",
    "You will learn the basic tools for running experiments on the BrainScaleS-2 platform.\n",
    "For inspiration, please refer to the following list for examples of previous scientific work done on the system:\n",
    "\n",
    "- [Versatile emulation of spiking neural networks on an accelerated neuromorphic substrate](https://ieeexplore.ieee.org/document/9180741)  \n",
    "- [Surrogate gradients for analog neuromorphic computing](https://www.pnas.org/doi/full/10.1073/pnas.2109194119)  \n",
    "- [hxtorch: PyTorch for BrainScaleS-2 – Perceptrons on Analog Neuromorphic Hardware](https://link.springer.com/chapter/10.1007/978-3-030-66770-2_14)  \n",
    "- [Control of criticality and computation in spiking neuromorphic networks with plasticity](https://www.nature.com/articles/s41467-020-16548-3)  \n",
    "- [Demonstrating Advantages of Neuromorphic Computation: A Pilot Study](https://www.frontiersin.org/articles/10.3389/fnins.2019.00260)  \n",
    "- [Fast and energy-efficient neuromorphic deep learning with first-spike times](https://www.nature.com/articles/s42256-021-00388-x)  \n",
    "- [Inference with Artificial Neural Networks on Analog Neuromorphic Hardware](https://link.springer.com/chapter/10.1007/978-3-030-66770-2_15)  \n",
    "- [Spiking neuromorphic chip learns entangled quantum states](https://arxiv.org/abs/2008.01039)  \n",
    "- [Structural plasticity on an accelerated analog neuromorphic hardware system](https://www.sciencedirect.com/science/article/pii/S0893608020303555)  \n",
    "- [Emulating dendritic computing paradigms on analog neuromorphic hardware](https://www.sciencedirect.com/science/article/pii/S0306452221004218)  \n",
    "- [The BrainScaleS-2 Accelerated Neuromorphic System With Hybrid Plasticity](https://www.frontiersin.org/articles/10.3389/fnins.2022.795876/full)  \n",
    "- [hxtorch.snn: Machine-learning-inspired Spiking Neural Network Modeling on BrainScaleS-2](https://dl.acm.org/doi/abs/10.1145/3584954.3584993)  \n",
    "- [An accurate and flexible analog emulation of AdEx neuron dynamics in silicon](https://arxiv.org/pdf/2209.09280.pdf)  \n",
    "- [Spiking Neural Network Nonlinear Demapping on Neuromorphic Hardware for IM/DD Optical Communication](https://ieeexplore.ieee.org/abstract/document/10059327)  \n",
    "- [Simulation-based inference for model parameterization on analog neuromorphic hardware](https://iopscience.iop.org/article/10.1088/2634-4386/ad046d)  \n",
    "\n",
    "\n",
    "In this session, we will cover the following topics:\n",
    "\n",
    "- [BrainScaleS-2 single neuron experiments](ts_00-single_neuron.ipynb)\n",
    "- [Learning with the SuperSpike rule](ts_01-superspike.ipynb)\n",
    "- [BrainScaleS-2 on-chip plasticity experiment](ts_02-plasticity_rate_coding.ipynb)\n",
    "- [Multicompartmental Neurons](ts_03-multicompartment.ipynb)\n",
    "- [How to use Genetic Algorithms to automatically parameterize BrainScaleS-2](ts_04-mc_genetic_algorithms.ipynb)\n",
    "- [Training an SNN on BrainScaleS-2 with PyTorch](ts_05-yin_yang.ipynb)\n",
    "- [Exploring the dynamic range](ts_06-dynamic_range.ipynb)\n",
    "- [Pong](ts_07-pong.ipynb)\n",
    "- [Complex Neuron Dynamics with a Silicon Adaptive Exponential Integrate-and-Fire Neuron](ts_08-adex_complex_dynamics.ipynb)\n",
    "- [Demonstration of inside realtime hook](ts_09-inside_realtime_hook.ipynb)\n",
    "- [Demonstration of multiple chip-reconfigurations during an experiment](ts_10-multiple_configs.ipynb)\n",
    "- [Introduction to matrix multiplication](tp_00-introduction.ipynb)\n",
    "- [Exploring the analog MAC operation](tp_01-properties.ipynb)\n",
    "- [Train DNNs on BrainScaleS-2](tp_02-yin_yang.ipynb)\n",
    "- [Introduction to the non-interactive queue runner](nmpi_00-non_interactive_queue_runner.ipynb)\n",
    "\n",
    "\n",
    "In this section of the tutorial, we will go through the technical details and make sure that you are correctly set up for accessing our hardware resources."
   ]
  },
  {
   "cell_type": "markdown",
   "id": "e4578902",
   "metadata": {},
   "source": [
    "## Executing the Notebooks\n",
    "\n",
    "If you want to execute the notebooks yourself, you can clone them from our\n",
    "[github repository](https://github.com/electronicvisions/brainscales2-demos/tree/jupyter-notebooks-experimental) and\n",
    "execute them on the [EBRAINS Platform](https://wiki.ebrains.eu).\n",
    "Simply use an existing collabatory or create a new one in which you can clone the notebooks, e.g., via:"
   ]
  },
  {
   "cell_type": "markdown",
   "id": "949fc784",
   "metadata": {
    "hide-output": false
   },
   "source": [
    "```bash\n",
    "!git clone https://github.com/electronicvisions/brainscales2-demos.git --branch jupyter-notebooks-experimental\n",
    "```\n"
   ]
  },
  {
   "cell_type": "markdown",
   "id": "1c7fe02a",
   "metadata": {},
   "source": [
    "in a notebook of your JupyterLab session.\n",
    "\n",
    "To be able to use the EBRAINS software environment for your notebook, please select the `EBRAINS-experimental` kernel.\n",
    "The currently used kernel is shown in the status line at the bottom of the notebook and in the upper right hand corner of the notebook. The default is `Python 3 (ipykernel)`, which does not have the EBRAINS software environment installed. To select a different kernel, please klick the kernel name, then select from the appearing list."
   ]
  },
  {
   "cell_type": "markdown",
   "id": "c4698a86",
   "metadata": {},
   "source": [
    "## Shared Hardware Resources\n",
    "\n",
    "We utilize the intrinsic speed of the system to offer you an interactive experience that is as smooth as possible even though multiple participants will access the same chip at any given point in time.\n",
    "\n",
    "This process is hidden by a custom microscheduler (*quiggeldy*), a conceptual view of which you can see in the following figure.\n",
    "The actual hardware execution time has been colored in blue.\n",
    "\n",
    "<img src=\"_static/tutorial/daas_multi.png\" style=\"width:80%;\" align=\"center\">\n",
    "\n",
    "Please note that the hardware performance you will experience is affected by other users in this tutorial and can not be perceived as an accurate representation of the expected performance for single-user workloads.\n",
    "\n",
    "For the microscheduler to work we have to set some environment variables:"
   ]
  },
  {
   "cell_type": "code",
   "execution_count": null,
   "id": "c384a4f4",
   "metadata": {
    "hide-output": false
   },
   "outputs": [],
   "source": [
    "from _static.common.helpers import setup_hardware_client\n",
    "setup_hardware_client()"
   ]
  },
  {
   "cell_type": "markdown",
   "id": "67965cf7",
   "metadata": {},
   "source": [
    "## Final test: Hardware Execution\n",
    "\n",
    "Before we start with the actual tutorial, we’d like to ensure that you are correctly set up for running experiments on the BrainScaleS-2 platform.\n",
    "To do so, simply run the following minimal PyNN-experiment.\n",
    "It should terminate without errors."
   ]
  },
  {
   "cell_type": "code",
   "execution_count": null,
   "id": "adb591e2",
   "metadata": {
    "hide-output": false
   },
   "outputs": [],
   "source": [
    "import pynn_brainscales.brainscales2 as pynn\n",
    "\n",
    "pynn.setup()\n",
    "neurons_1 = pynn.Population(2, pynn.cells.HXNeuron())\n",
    "neurons_2 = pynn.Population(3, pynn.cells.HXNeuron())\n",
    "pynn.Projection(neurons_1, neurons_2, pynn.AllToAllConnector())\n",
    "pynn.run(0.2)\n",
    "pynn.end()"
   ]
  }
 ],
 "metadata": {
  "date": 1740990468.2078145,
  "filename": "tutorial.rst",
  "kernelspec": {
   "display_name": "EBRAINS-experimental",
   "language": "python",
   "name": "ebrains-experimental"
  },
  "title": "Welcome to the BrainScaleS-2 Tutorial"
 },
 "nbformat": 4,
 "nbformat_minor": 5
}